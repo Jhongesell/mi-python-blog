{
 "cells": [
  {
   "cell_type": "markdown",
   "metadata": {
    "slideshow": {
     "slide_type": "slide"
    }
   },
   "source": [
    "<center><h1>Como crear un blog en 5 minutos</h1></center>\n",
    "\n",
    "\n",
    "<center><h2>Con Pelican y Github Pages</h2></center>\n"
   ]
  },
  {
   "cell_type": "markdown",
   "metadata": {
    "slideshow": {
     "slide_type": "slide"
    }
   },
   "source": [
    "# ¿Qué es Pelican?\n",
    "\n",
    "\n",
    "[Pelican](http://docs.getpelican.com/en/3.6.3/) es un generador de sitios web estáticos, escrito en [Python](https://www.python.org/), que no requiere ninguna base de datos o servidor. Algunas de sus características incluyen:\n",
    "\n",
    "* Podemos escribir nuestros artículos utilizando [reStructuredText](http://docutils.sourceforge.net/rst.html), [Markdown](http://daringfireball.net/projects/markdown/), o formatos [AsciiDoc](http://www.methods.co.nz/asciidoc/).\n",
    "* Genera un sitio completamente estático, por lo que es sumamente  fácil de albergar en cualquier lugar.\n",
    "* Posee [temas](https://github.com/getpelican/pelican-themes) para que podamos personalizar nuestro sitio a través de plantillas de [Jinja](http://jinja.pocoo.org/).\n",
    "* Nos permite publicar nuestro contenido en varios idiomas.\n",
    "* Tiene soporte para <a href=\"https://es.wikipedia.org/wiki/Atom_(formato_de_redifusi%C3%B3n)\">Atom</a> / [RSS](https://es.wikipedia.org/wiki/RSS) feeds; por lo que nuestro blog puede ser facilmente seguido a través de gestores de [RSS](https://es.wikipedia.org/wiki/RSS).\n",
    "* entre otras.\n",
    "\n",
    "Instalar [Pelican]([Pelican](http://docs.getpelican.com/en/3.6.3/)) es realmente muy fácil, simplemente debemos ejecutar el siguiente comando:\n",
    "\n",
    "```sudo pip install pelican```"
   ]
  },
  {
   "cell_type": "markdown",
   "metadata": {
    "slideshow": {
     "slide_type": "slide"
    }
   },
   "source": [
    "# ¿Qué es Github Pages?\n",
    "\n",
    "\n",
    "[Github Pages](https://pages.github.com/) son sitios publicados en la web que se encuentran hosteados directamente en un repositorio de [Github](https://github.com/). Van a tener una [URL](https://es.wikipedia.org/wiki/Localizador_de_recursos_uniforme) del tipo ***usuarioGithub*`.github.io`**."
   ]
  },
  {
   "cell_type": "markdown",
   "metadata": {
    "slideshow": {
     "slide_type": "slide"
    }
   },
   "source": [
    "# Creando el repositorio\n",
    "\n",
    "Para Poder utilizar [Github Pages](https://pages.github.com/), debermos ingresar a nuestra cuenta de [Github](https://github.com/) y crear un repositorio nuevo con el nombre ***usuarioGithub*`.github.io`** (el mismo nombre que va a tener la dirección web del sitio).\n",
    "\n",
    "<img src=\"http://relopezbriega.com.ar/wp-content/uploads/2015/10/Selection_216.png\" title=\"Creando repositorio github pages\">"
   ]
  },
  {
   "cell_type": "markdown",
   "metadata": {
    "slideshow": {
     "slide_type": "slide"
    }
   },
   "source": [
    "# Clonando los repositorios blog_template y Github Pages\n",
    "\n",
    "Una vez que ya tenemos nuestro repositorio creado, lo clonamos para poder generarle el contenido.\n",
    "\n",
    "`git clone https://github.com/usuarioGithub/usuarioGithub.github.io.git`\n",
    "\n",
    "También clonamos el repositrio blog_template, que va a tener la plantilla para poder crear el contenido más facilmente con [Pelican](http://docs.getpelican.com/en/3.6.3/). Esto lo hacemos con el siguiente comando:\n",
    "\n",
    "`git clone https://github.com/blogen5minutos/blog_template.git`\n",
    "\n",
    "Si no queremos usar este template, podemos crearnos una nueva carpeta y iniciar el sitio [Pelican](http://docs.getpelican.com/en/3.6.3/) con el siguiente comando:\n",
    "\n",
    "\n",
    "`pelican-quickstart`"
   ]
  },
  {
   "cell_type": "markdown",
   "metadata": {
    "slideshow": {
     "slide_type": "slide"
    }
   },
   "source": [
    "# Editando los archivos pelicanconf.py y publishconf.py\n",
    "\n",
    "Las principales configuraciones que le van a decir a [Pelican](http://docs.getpelican.com/en/3.6.3/) como crear nuestro sitio estan contenidas en el archivo ***pelicanconf.py***. Adicionalmente también debemos tener en cuenta al archivo *publishconf.py* que va a tener configuraciones adicionales para la publicación final del sitio.\n",
    "\n",
    "Si utilizamos el `blog_template`; basicamente lo que deberíamos cambiar del archivo son las variables SITENAME y SITESUBTITLE del arvhivo *pelicanconf.py* y la variable SITEURL del archivo *publishconf.py*."
   ]
  },
  {
   "cell_type": "markdown",
   "metadata": {
    "slideshow": {
     "slide_type": "slide"
    }
   },
   "source": [
    "# Generando el contenido con Markdown\n",
    "\n",
    "Para generar los artículos, debemos crear archivos de [Markdown](http://daringfireball.net/projects/markdown/) o de  [reStructuredText](http://docutils.sourceforge.net/rst.html) según nuestras preferencias. Un ejemplo con [Markdown](http://daringfireball.net/projects/markdown/) sería el siguiente:\n",
    "\n",
    "`Title: Mi Blog`\n",
    "\n",
    "`Date: 2015-10-13`\n",
    "\n",
    "`Category: Python`\n",
    "\n",
    "`Tags: python`\n",
    "\n",
    "`Author: Raul E. Lopez Briega`\n",
    "\n",
    "`Este es un artículo de prueba para demostrar que fácil es crear un blog con [github pages](https://pages.github.com/).`\n",
    "\n",
    "\n",
    "Para más información visitar la [documentación de Pelican](http://docs.getpelican.com/en/3.6.3/content.html) "
   ]
  },
  {
   "cell_type": "markdown",
   "metadata": {
    "slideshow": {
     "slide_type": "slide"
    }
   },
   "source": [
    "# Generando contenido con Jupyter notebooks\n",
    "\n",
    "Otra buena alternativa que tenemos para generar los artículos es utilizar [Jupyter notebooks](https://jupyter.org/). Para realizar esto debemos utilizar el plugin [liquid_tags](https://github.com/getpelican/pelican-plugins/tree/master/liquid_tags).\n",
    "\n",
    "Una vez habilitado este plugin en el archivo de configuración *pelicanconf.py*; podemos guardar nuestras *notebooks* en una subcarpeta llamada `notebooks` dentro de la carpeta `content`y luego en lugar de escribir todo el contenido con del artículo con [Markdown](http://daringfireball.net/projects/markdown/), utilizamos la siguiente sitaxis:\n",
    "\n",
    "`{% notebook filename.ipynb [ cells[start:end] ]%}`\n",
    "\n",
    "Un ejemplo, sería el siguiente:\n",
    "\n",
    "`Title: Batman, ecuaciones y python`\n",
    "\n",
    "`Date: 2015-10-13`\n",
    "\n",
    "`Category: Python`\n",
    "\n",
    "`Tags: python, matematica, programacion, batman`\n",
    "\n",
    "`Author: Raul E. Lopez Briega`\n",
    "\n",
    "`{% notebook Batman.ipynb cells[2:] %}`\n"
   ]
  },
  {
   "cell_type": "markdown",
   "metadata": {
    "slideshow": {
     "slide_type": "slide"
    }
   },
   "source": [
    "# Creando el sitio estático\n",
    "\n",
    "Una vez que ya tenemos el proyecto de [Pelican](http://docs.getpelican.com/en/3.6.3/) configurado y los artículos creados; para generar un sitio de prueba debemos ejecutar el comando:\n",
    "\n",
    "`make html`\n",
    "\n",
    "Esto va a generar una nueva carpeta, llamada **output** donde va a estar todo el contenido estático de nuestro sitio web. Podemos ver como nos quedó con el comando:\n",
    "\n",
    "`make serve`\n",
    "\n",
    "Y consultando la dirección [localhost:8000](http://localhost:8000/).\n",
    "\n",
    "Si esta todo ok, podemos crear la version definitiva para publicar con el comando:\n",
    "\n",
    "`make publish`"
   ]
  },
  {
   "cell_type": "markdown",
   "metadata": {
    "slideshow": {
     "slide_type": "slide"
    }
   },
   "source": [
    "# Publicando nuestro sitio\n",
    "\n",
    "Para publicar nuestro sitio, copiamos el contenido de la carpeta **output** a la carpeta ***usuarioGithub*`.github.io`** y hacemos el push del repositorio.\n",
    "\n",
    "`git add --all`\n",
    "\n",
    "`git commit -m \"publicando blog\"`\n",
    "\n",
    "`git push -u origin master`\n",
    "\n",
    "y listo!  ahora ya podemos consultar nuestro sitio en la web en la direeción http://usuarioGithub.github.io."
   ]
  },
  {
   "cell_type": "markdown",
   "metadata": {
    "slideshow": {
     "slide_type": "slide"
    }
   },
   "source": [
    "<center><h1>Muchas gracias!</h1></center>\n",
    "<center><h3>Raul E. Lopez Briega</h3></center>\n",
    "\n",
    "\n",
    "[http://relopezbriega.github.io/](http://relopezbriega.github.io/)\n",
    "\n",
    "[http://relopezbriega.com.ar/](http://relopezbriega.com.ar/)\n",
    "\n",
    "Twitter: [@relopezbriega](https://twitter.com/relopezbriega)\n",
    "\n",
    "Slides: [http://relopezbriega.github.io/blogen5min.htlm](http://relopezbriega.github.io/blogen5min.htlm])\n",
    "\n",
    "Demo: [http://blogen5minutos.github.io/](http://blogen5minutos.github.io/)\n",
    "\n"
   ]
  }
 ],
 "metadata": {
  "celltoolbar": "Slideshow",
  "kernelspec": {
   "display_name": "Python 3",
   "language": "python",
   "name": "python3"
  },
  "language_info": {
   "codemirror_mode": {
    "name": "ipython",
    "version": 3
   },
   "file_extension": ".py",
   "mimetype": "text/x-python",
   "name": "python",
   "nbconvert_exporter": "python",
   "pygments_lexer": "ipython3",
   "version": "3.5.1+"
  }
 },
 "nbformat": 4,
 "nbformat_minor": 0
}
