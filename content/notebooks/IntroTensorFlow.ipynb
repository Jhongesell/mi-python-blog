{
 "cells": [
  {
   "cell_type": "markdown",
   "metadata": {},
   "source": [
    "# TensorFlow y Redes Neuronales"
   ]
  },
  {
   "cell_type": "markdown",
   "metadata": {},
   "source": [
    "*Esta notebook fue creada originalmente como un blog post por [Raúl E. López Briega](https://relopezbriega.com.ar/) en [Matemáticas, Analisis de datos y Python](https://relopezbriega.github.io). El contenido esta bajo la licencia BSD.*"
   ]
  },
  {
   "cell_type": "markdown",
   "metadata": {},
   "source": [
    "<img src=\"https://relopezbriega.github.io/images/tensorFlowlogo.png\">"
   ]
  },
  {
   "cell_type": "markdown",
   "metadata": {},
   "source": [
    "## Sobre TensoFlow\n",
    "\n",
    "[TensorFlow](https://www.tensorflow.org/) es una biblioteca open source desarrollada por Google que nos permite realizar cálculos numéricos usando diagramas de flujo de datos. Los <a href=\"https://es.wikipedia.org/wiki/V%C3%A9rtice_(teor%C3%ADa_de_grafos)\">nodos</a> del [grafo](https://es.wikipedia.org/wiki/Grafo) representan operaciones matemáticas, mientras que los <a href=\"https://es.wikipedia.org/wiki/Arista_(teor%C3%ADa_de_grafos)\">arcos</a> del [grafo](https://es.wikipedia.org/wiki/Grafo) representan los arreglos de datos multidimensionales ([tensores](https://es.wikipedia.org/wiki/C%C3%A1lculo_tensorial)) comunicados entre ellos. Esta arquitectura flexible nos permite realizar los cálculos en más de un CPU o GPU utilizando la misma API.\n",
    "\n",
    "## ¿Qué es un diagrama de flujo de datos?\n",
    "\n",
    "Los diagramas de flujo de datos describen cálculos matemáticos con un [grafo](https://es.wikipedia.org/wiki/Grafo) de <a href=\"https://es.wikipedia.org/wiki/V%C3%A9rtice_(teor%C3%ADa_de_grafos)\">nodos</a> y <a href=\"https://es.wikipedia.org/wiki/Arista_(teor%C3%ADa_de_grafos)\">arcos</a>. Los <a href=\"https://es.wikipedia.org/wiki/V%C3%A9rtice_(teor%C3%ADa_de_grafos)\">nodos</a> normalmente implementan operaciones matemáticas, pero también pueden representar los puntos para alimentarse de datos, devolver resultados, o leer / escribir variables persistentes. Los <a href=\"https://es.wikipedia.org/wiki/Arista_(teor%C3%ADa_de_grafos)\">arcos o aristas</a> describen las relaciones de entrada / salida entre los <a href=\"https://es.wikipedia.org/wiki/V%C3%A9rtice_(teor%C3%ADa_de_grafos)\">nodos</a>. Estos <a href=\"https://es.wikipedia.org/wiki/Arista_(teor%C3%ADa_de_grafos)\">arcos</a> están representados por los arreglos de datos multidimensionales o [tensores](https://es.wikipedia.org/wiki/C%C3%A1lculo_tensorial). El flujo de los tensores a través del [grafo](https://es.wikipedia.org/wiki/Grafo) es de donde [TensorFlow](https://www.tensorflow.org/) recibe su nombre. Los <a href=\"https://es.wikipedia.org/wiki/V%C3%A9rtice_(teor%C3%ADa_de_grafos)\">nodos</a> se asignan a los dispositivos computacionales y se ejecutan de forma asincrónica y en paralelo una vez que todos los [tensores](https://es.wikipedia.org/wiki/C%C3%A1lculo_tensorial) en los <a href=\"https://es.wikipedia.org/wiki/Arista_(teor%C3%ADa_de_grafos)\">arcos</a> de entrada están disponibles.\n",
    "\n",
    "<img src=\"https://relopezbriega.github.io/images/tensors_flowing.gif\">"
   ]
  },
  {
   "cell_type": "markdown",
   "metadata": {},
   "source": [
    "## Introducción a  TensorFlow\n",
    "\n",
    "Para poder utilizar [TensorFlow](https://www.tensorflow.org/) primero es necesario entender cómo la librería:\n",
    "\n",
    "* Representa cálculos en forma de [grafos](https://es.wikipedia.org/wiki/Grafo).\n",
    "* Ejecuta los [grafos](https://es.wikipedia.org/wiki/Grafo) en el contexto de Sesiones.\n",
    "* Representa los datos como [tensores](https://es.wikipedia.org/wiki/C%C3%A1lculo_tensorial).\n",
    "* Mantiene el estado con variables.\n",
    "* Se alimenta de datos y devuelve los resultados de cada operación.\n",
    "\n",
    "\n",
    "### Funcionamiento general\n",
    "\n",
    "[TensorFlow](https://www.tensorflow.org/) es un sistema de programación en el que representamos cálculos en forma de [grafos](https://es.wikipedia.org/wiki/Grafo). Los <a href=\"https://es.wikipedia.org/wiki/V%C3%A9rtice_(teor%C3%ADa_de_grafos)\">nodos</a> en el [grafo](https://es.wikipedia.org/wiki/Grafo) se llaman *ops* (abreviatura de operaciones). Una *op* tiene cero o más [tensores](https://es.wikipedia.org/wiki/C%C3%A1lculo_tensorial), realiza algún cálculo, y produce cero o más [tensores](https://es.wikipedia.org/wiki/C%C3%A1lculo_tensorial).\n",
    "\n",
    "Un [grafo](https://es.wikipedia.org/wiki/Grafo) de [TensorFlow](https://www.tensorflow.org/) es una descripción de cálculos. Para calcular cualquier cosa dentro de [TensorFlow](https://www.tensorflow.org/), el [grafo](https://es.wikipedia.org/wiki/Grafo) debe ser lanzado dentro de una *sesión*. La *Sesión* coloca las operaciones del [grafo](https://es.wikipedia.org/wiki/Grafo) en los diferentes *dispositivos*, tales como CPU o GPU, y proporciona métodos para ejecutarlas.\n",
    "\n",
    "### Creando un Grafo \n",
    "\n",
    "Para construir un [grafo](https://es.wikipedia.org/wiki/Grafo) simple, podemos comenzar con *ops* que no necesitan ningún dato de entrada, como son las *constantes* y luego le pasamos su salida a *ops* que realizan cálculos. "
   ]
  },
  {
   "cell_type": "code",
   "execution_count": 1,
   "metadata": {
    "collapsed": true
   },
   "outputs": [],
   "source": [
    "# importamos la libreria\n",
    "import tensorflow as tf\n",
    "\n",
    "# importamos librerías adicionales\n",
    "import numpy as np\n",
    "import matplotlib.pyplot as plt\n",
    "import matplotlib.cm as cm\n",
    "import pandas as pd\n",
    "\n",
    "%matplotlib inline"
   ]
  },
  {
   "cell_type": "markdown",
   "metadata": {},
   "source": [
    "#### Constantes\n",
    "\n",
    "Podemos construir *ops* de *constantes* utilizando `constant`, su API es bastante simple:\n",
    "\n",
    "`constant(value, dtype=None, shape=None, name='Const')`\n",
    "\n",
    "Le debemos pasar un valor, el cual puede ser cualquier tipo de [tensor](https://es.wikipedia.org/wiki/C%C3%A1lculo_tensorial) (un escalar, un vector, una matriz, etc) y luego opcionalmente le podemos pasar el tipo de datos, la forma y un nombre."
   ]
  },
  {
   "cell_type": "code",
   "execution_count": 2,
   "metadata": {
    "collapsed": true
   },
   "outputs": [],
   "source": [
    "# Creación de Constantes\n",
    "# El valor que retorna el constructor es el valor de la constante.\n",
    "\n",
    "# creamos constantes a=2 y b=3\n",
    "a = tf.constant(2)\n",
    "b = tf.constant(3)\n",
    "\n",
    "# creamos matrices de 3x3\n",
    "matriz1 = tf.constant([[1, 3, 2],\n",
    "                       [1, 0, 0],\n",
    "                       [1, 2, 2]])\n",
    "\n",
    "matriz2 = tf.constant([[1, 0, 5],\n",
    "                       [7, 5, 0],\n",
    "                       [2, 1, 1]])"
   ]
  },
  {
   "cell_type": "code",
   "execution_count": 3,
   "metadata": {
    "collapsed": true
   },
   "outputs": [],
   "source": [
    "# Realizamos algunos cálculos con estas constantes\n",
    "suma = tf.add(a, b)\n",
    "mult = tf.mul(a, b)\n",
    "cubo_a = a**3\n",
    "\n",
    "# suma de matrices\n",
    "suma_mat = tf.add(matriz1, matriz2)\n",
    "\n",
    "# producto de matrices\n",
    "mult_mat = tf.matmul(matriz1, matriz2)"
   ]
  },
  {
   "cell_type": "markdown",
   "metadata": {},
   "source": [
    "#### Sesiones\n",
    "\n",
    "Ahora que ya definimos algunas *ops constantes* y algunos cálculos con ellas, debemos lanzar el [grafo](https://es.wikipedia.org/wiki/Grafo) dentro de una *Sesión*. Para realizar esto utilizamos el objeto `Session`. Este objeto va a encapsular el ambiente en el que las operaciones que definimos en el [grafo](https://es.wikipedia.org/wiki/Grafo) van a ser ejecutadas y los [tensores](https://es.wikipedia.org/wiki/C%C3%A1lculo_tensorial) son evaluados."
   ]
  },
  {
   "cell_type": "code",
   "execution_count": 4,
   "metadata": {
    "collapsed": false
   },
   "outputs": [
    {
     "name": "stdout",
     "output_type": "stream",
     "text": [
      "Suma de las constantes: 5\n",
      "Multiplicación de las constantes: 6\n",
      "Constante elevada al cubo: 8\n",
      "Suma de matrices: \n",
      "[[2 3 7]\n",
      " [8 5 0]\n",
      " [3 3 3]]\n",
      "Producto de matrices: \n",
      "[[26 17  7]\n",
      " [ 1  0  5]\n",
      " [19 12  7]]\n"
     ]
    }
   ],
   "source": [
    "# Todo en TensorFlow ocurre dentro de una Sesión\n",
    "\n",
    "# creamos la sesion y realizamos algunas operaciones con las constantes\n",
    "# y lanzamos la sesión\n",
    "with tf.Session() as sess: \n",
    "    print(\"Suma de las constantes: {}\".format(sess.run(suma)))\n",
    "    print(\"Multiplicación de las constantes: {}\".format(sess.run(mult)))\n",
    "    print(\"Constante elevada al cubo: {}\".format(sess.run(cubo_a)))\n",
    "    print(\"Suma de matrices: \\n{}\".format(sess.run(suma_mat)))\n",
    "    print(\"Producto de matrices: \\n{}\".format(sess.run(mult_mat)))"
   ]
  },
  {
   "cell_type": "markdown",
   "metadata": {},
   "source": [
    "Las *Sesiones* deben ser cerradas para liberar los recursos, por lo que es una buena práctica incluir la *Sesión* dentro de un bloque \"with\" que la cierra automáticamente cuando el bloque termina de ejecutar.\n",
    "\n",
    "Para ejecutar las *operaciones* y evaluar los [tensores](https://es.wikipedia.org/wiki/C%C3%A1lculo_tensorial) utilizamos `Session.run()`."
   ]
  },
  {
   "cell_type": "markdown",
   "metadata": {},
   "source": [
    "#### Variables persistentes \n",
    "\n",
    "Las *Variables* mantienen el estado a través de las ejecuciones del [grafo](https://es.wikipedia.org/wiki/Grafo). Son buffers en memoria que contienen [tensores](https://es.wikipedia.org/wiki/C%C3%A1lculo_tensorial). Se deben inicializar explícitamente y se pueden guardar en el disco para luego restaurar su estado de necesitarlo. Se crean utilizando el objeto `Variable`."
   ]
  },
  {
   "cell_type": "code",
   "execution_count": 5,
   "metadata": {
    "collapsed": false
   },
   "outputs": [
    {
     "name": "stdout",
     "output_type": "stream",
     "text": [
      "0\n",
      "1\n",
      "2\n",
      "3\n"
     ]
    }
   ],
   "source": [
    "# Creamos una variable y la inicializamos con 0\n",
    "estado = tf.Variable(0, name=\"contador\")\n",
    "\n",
    "# Creamos la op que le va a sumar uno a la Variable `estado`.\n",
    "\n",
    "uno = tf.constant(1)\n",
    "nuevo_valor = tf.add(estado, uno)\n",
    "actualizar = tf.assign(estado, nuevo_valor)\n",
    "\n",
    "# Las Variables deben ser inicializadas por la operación `init` luego de \n",
    "# lanzar el grafo.  Debemos agregar la op `init` a nuestro grafo.\n",
    "init = tf.initialize_all_variables()\n",
    "\n",
    "# Lanzamos la sesion y ejecutamos las operaciones\n",
    "with tf.Session() as sess:\n",
    "    # Ejecutamos la op `init`\n",
    "    sess.run(init)\n",
    "    # imprimir el valor de la Variable estado.\n",
    "    print(sess.run(estado))\n",
    "    # ejecutamos la op que va a actualizar a `estado`.\n",
    "    for _ in range(3):\n",
    "        sess.run(actualizar)\n",
    "        print(sess.run(estado))"
   ]
  },
  {
   "cell_type": "markdown",
   "metadata": {},
   "source": [
    "#### Variables simbólicas (contenedores)\n",
    "\n",
    "Las *Variables simbólicas* o *Contenedores* nos van a permitir alimentar a las operaciones con los datos durante la ejecución del [grafo](https://es.wikipedia.org/wiki/Grafo). Estos *contenedores* deben ser alimentados antes de ser evaluados en la sesión, sino obtendremos un error. "
   ]
  },
  {
   "cell_type": "code",
   "execution_count": 6,
   "metadata": {
    "collapsed": false
   },
   "outputs": [
    {
     "name": "stdout",
     "output_type": "stream",
     "text": [
      "[[ 2.27301431  2.39163661  1.22738445  1.87839973]\n",
      " [ 2.66718912  2.76533985  1.08909523  1.96862805]\n",
      " [ 2.38245845  2.37843513  1.0873785   1.67218387]\n",
      " [ 1.68678236  1.77147484  1.0363127   1.36901033]]\n"
     ]
    }
   ],
   "source": [
    "# Ejemplo variables simbólicas en los grafos\n",
    "# El valor que devuelve el constructor representa la salida de la \n",
    "# variable (la entrada de la variable se define en la sesion)\n",
    "\n",
    "# Creamos un contenedor del tipo float. Un tensor de 4x4.\n",
    "x = tf.placeholder(tf.float32, shape=(4, 4))\n",
    "y = tf.matmul(x, x)\n",
    "\n",
    "with tf.Session() as sess:\n",
    "#    print(sess.run(y))  # ERROR: va a fallar porque no alimentamos a x.\n",
    "    rand_array = np.random.rand(4, 4)\n",
    "    print(sess.run(y, feed_dict={x: rand_array}))  # ahora esta correcto."
   ]
  },
  {
   "cell_type": "markdown",
   "metadata": {},
   "source": [
    "Ahora ya conocemos en líneas generales como es la mecánica detrás del funcionamiento de [TensorFlow](https://www.tensorflow.org/) y como deberíamos proceder para crear las *operaciones* dentro de los [grafos](https://es.wikipedia.org/wiki/Grafo). Veamos si podemos implementar modelos de neuronas simples con la ayuda de esta librería.\n",
    "\n",
    "## Ejemplo de neuronas simples\n",
    "\n",
    "Una neurona simple, va a tener una forma similar al siguiente diagrama:\n",
    "\n",
    "<img src=\"https://relopezbriega.github.io/images/neurona.png\">\n",
    "\n",
    "En donde sus componentes son:\n",
    "\n",
    "* $x_1, x_2, \\dots, x_n$: son los datos de entrada en la neurona, los cuales también puede ser que sean producto de la salida de otra neurona de la red.\n",
    "\n",
    "* $x_0$: Es la unidad de sesgo; un valor constante que se le suma a la entrada de la función de activación de la neurona. Generalmente tiene el valor 1. Este valor va a permitir cambiar la función de activación hacia la derecha o izquierda, otorgándole más flexibilidad para aprender a la neurona.\n",
    "\n",
    "* $w_0, w_1, w_2, \\dots, w_n$: Los pesos relativos de cada entrada. Tener en cuenta que incluso la unidad de sesgo tiene un peso.\n",
    "\n",
    "* a: La salida de la neurona. Que va a ser calculada de la siguiente forma:\n",
    "\n",
    "$$a = f\\left(\\sum_{i=0}^n w_i \\cdot x_i \\right)$$\n",
    "\n",
    "Aquí $f$ es la ***función de activación*** de la neurona. Esta función es la que le otorga tanta flexibilidad a las [redes neuronales](https://es.wikipedia.org/wiki/Red_neuronal_artificial) y le permite estimar complejas relaciones no lineales en los datos. Puede ser tanto una [función lineal](https://es.wikipedia.org/wiki/Funci%C3%B3n_lineal), una [función logística](https://es.wikipedia.org/wiki/Funci%C3%B3n_log%C3%ADstica), [hiperbólica](https://es.wikipedia.org/wiki/Funci%C3%B3n_hiperb%C3%B3lica), etc.\n",
    "\n",
    "Ahora que ya conocemos como se construye una neurona tratemos de implementar con este modelo las funciones lógicas **AND, OR y XNOR**. Podemos pensar a estas funciones como un problema de clasificación en el que la salida va a ser 0 o 1, de acuerdo a la combinación de las diferentes entradas.\n",
    "\n",
    "Las podemos modelar linealmente con la siguiente función de activación:\n",
    "\n",
    "$$f(x) = \\left\\{\n",
    "\t\\begin{array}{ll}\n",
    "\t\t0  & \\mbox{si } x < 0 \\\\\n",
    "\t\t1 & \\mbox{si } x \\ge 0\n",
    "\t\\end{array}\n",
    "\\right.$$\n",
    "\n",
    "### Neurona AND\n",
    "\n",
    "La neurona AND puede ser modelada con el siguiente esquema:\n",
    "\n",
    "<img src=\"https://relopezbriega.github.io/images/NN_AND.png\">\n",
    "\n",
    "La salida de esta neurona entonces va a ser:\n",
    "\n",
    "$$a = f(-1.5 + x_1 + x_2)$$\n",
    "\n",
    "Veamos como la podemos implementar en [TensorFlow](https://www.tensorflow.org/)."
   ]
  },
  {
   "cell_type": "code",
   "execution_count": 7,
   "metadata": {
    "collapsed": false
   },
   "outputs": [],
   "source": [
    "# Neurona con TensorFlow\n",
    "# Defino las entradas\n",
    "entradas = tf.placeholder(\"float\", name='Entradas')\n",
    "datos = np.array([[0, 0]\n",
    "                 ,[1, 0]\n",
    "                 ,[0, 1]\n",
    "                 ,[1, 1]])\n",
    "\n",
    "# Defino las salidas\n",
    "uno = lambda: tf.constant(1.0)\n",
    "cero = lambda: tf.constant(0.0)\n",
    "\n",
    "with tf.name_scope('Pesos'):\n",
    "    # Definiendo pesos y sesgo\n",
    "    pesos = tf.placeholder(\"float\", name='Pesos')\n",
    "    sesgo = tf.placeholder(\"float\", name='Sesgo')\n",
    "\n",
    "with tf.name_scope('Activacion'):\n",
    "    # Función de activación\n",
    "    activacion = tf.reduce_sum(tf.add(tf.matmul(entradas, pesos), sesgo))\n",
    "\n",
    "with tf.name_scope('Neurona'):\n",
    "    # Defino la neurona\n",
    "    def neurona():\n",
    "        return tf.case([(tf.less(activacion, 0.0), cero)], default=uno)\n",
    "    \n",
    "    # Salida\n",
    "    a = neurona()\n",
    "\n",
    "# path de logs\n",
    "logs_path = '/tmp/tensorflow_logs/neurona'"
   ]
  },
  {
   "cell_type": "code",
   "execution_count": 8,
   "metadata": {
    "collapsed": false
   },
   "outputs": [
    {
     "data": {
      "text/html": [
       "<div>\n",
       "<table border=\"1\" class=\"dataframe\">\n",
       "  <thead>\n",
       "    <tr style=\"text-align: right;\">\n",
       "      <th></th>\n",
       "      <th>x1</th>\n",
       "      <th>x2</th>\n",
       "      <th>f(x)</th>\n",
       "      <th>x1 AND x2</th>\n",
       "    </tr>\n",
       "  </thead>\n",
       "  <tbody>\n",
       "    <tr>\n",
       "      <th>0</th>\n",
       "      <td>0.0</td>\n",
       "      <td>0.0</td>\n",
       "      <td>-1.5</td>\n",
       "      <td>0.0</td>\n",
       "    </tr>\n",
       "    <tr>\n",
       "      <th>1</th>\n",
       "      <td>1.0</td>\n",
       "      <td>0.0</td>\n",
       "      <td>-0.5</td>\n",
       "      <td>0.0</td>\n",
       "    </tr>\n",
       "    <tr>\n",
       "      <th>2</th>\n",
       "      <td>0.0</td>\n",
       "      <td>1.0</td>\n",
       "      <td>-0.5</td>\n",
       "      <td>0.0</td>\n",
       "    </tr>\n",
       "    <tr>\n",
       "      <th>3</th>\n",
       "      <td>1.0</td>\n",
       "      <td>1.0</td>\n",
       "      <td>0.5</td>\n",
       "      <td>1.0</td>\n",
       "    </tr>\n",
       "  </tbody>\n",
       "</table>\n",
       "</div>"
      ],
      "text/plain": [
       "    x1   x2  f(x)  x1 AND x2\n",
       "0  0.0  0.0  -1.5        0.0\n",
       "1  1.0  0.0  -0.5        0.0\n",
       "2  0.0  1.0  -0.5        0.0\n",
       "3  1.0  1.0   0.5        1.0"
      ]
     },
     "execution_count": 8,
     "metadata": {},
     "output_type": "execute_result"
    }
   ],
   "source": [
    "# Lanzar la Sesion\n",
    "with tf.Session() as sess:\n",
    "    # para armar el grafo\n",
    "    summary_writer = tf.train.SummaryWriter(logs_path, \n",
    "                                             graph=sess.graph)\n",
    "    # para armar tabla de verdad\n",
    "    x_1 = []\n",
    "    x_2 = []\n",
    "    out = []\n",
    "    act = []\n",
    "    for i in range(len(datos)):\n",
    "        t = datos[i].reshape(1, 2)\n",
    "        salida, activ = sess.run([a, activacion], feed_dict={entradas: t,\n",
    "                                        pesos:np.array([[1.],[1.]]),\n",
    "                                        sesgo: -1.5})\n",
    "        # armar tabla de verdad en DataFrame\n",
    "        x_1.append(t[0][0])\n",
    "        x_2.append(t[0][1])\n",
    "        out.append(salida)\n",
    "        act.append(activ)\n",
    "    tabla_info = np.array([x_1, x_2, act, out]).transpose()\n",
    "    tabla = pd.DataFrame(tabla_info, \n",
    "                         columns=['x1', 'x2', 'f(x)', 'x1 AND x2'])\n",
    "tabla"
   ]
  },
  {
   "cell_type": "markdown",
   "metadata": {},
   "source": [
    "Aquí podemos ver los datos de entrada de $x_1$ y $x_2$, el resultado de la función de activación y la decisión final que toma la neurona de acuerdo este último resultado. Como podemos ver en la tabla de verdad, la neurona nos dice que $x_1$ `and` $x_2$ solo es verdad cuando ambos son verdaderos, lo que es correcto.\n",
    "\n",
    "### Neurona OR\n",
    "\n",
    "La neurona OR puede ser modelada con el siguiente esquema:\n",
    "\n",
    "<img src=\"https://relopezbriega.github.io/images/NN_OR.png\">\n",
    "\n",
    "La salida de esta neurona entonces va a ser:\n",
    "\n",
    "$$a = f(-0.5 + x_1 + x_2)$$\n",
    "\n",
    "Como se puede ver a simple vista, el modelo de esta neurona es similar a la de la neurona AND, con el único cambio en el valor del *sesgo*, por lo tanto solo tendríamos que cambiar ese valor en nuestro modelo anterior para crear esta nueva neurona."
   ]
  },
  {
   "cell_type": "code",
   "execution_count": 9,
   "metadata": {
    "collapsed": false
   },
   "outputs": [
    {
     "data": {
      "text/html": [
       "<div>\n",
       "<table border=\"1\" class=\"dataframe\">\n",
       "  <thead>\n",
       "    <tr style=\"text-align: right;\">\n",
       "      <th></th>\n",
       "      <th>x1</th>\n",
       "      <th>x2</th>\n",
       "      <th>f(x)</th>\n",
       "      <th>x1 OR x2</th>\n",
       "    </tr>\n",
       "  </thead>\n",
       "  <tbody>\n",
       "    <tr>\n",
       "      <th>0</th>\n",
       "      <td>0.0</td>\n",
       "      <td>0.0</td>\n",
       "      <td>-0.5</td>\n",
       "      <td>0.0</td>\n",
       "    </tr>\n",
       "    <tr>\n",
       "      <th>1</th>\n",
       "      <td>1.0</td>\n",
       "      <td>0.0</td>\n",
       "      <td>0.5</td>\n",
       "      <td>1.0</td>\n",
       "    </tr>\n",
       "    <tr>\n",
       "      <th>2</th>\n",
       "      <td>0.0</td>\n",
       "      <td>1.0</td>\n",
       "      <td>0.5</td>\n",
       "      <td>1.0</td>\n",
       "    </tr>\n",
       "    <tr>\n",
       "      <th>3</th>\n",
       "      <td>1.0</td>\n",
       "      <td>1.0</td>\n",
       "      <td>1.5</td>\n",
       "      <td>1.0</td>\n",
       "    </tr>\n",
       "  </tbody>\n",
       "</table>\n",
       "</div>"
      ],
      "text/plain": [
       "    x1   x2  f(x)  x1 OR x2\n",
       "0  0.0  0.0  -0.5       0.0\n",
       "1  1.0  0.0   0.5       1.0\n",
       "2  0.0  1.0   0.5       1.0\n",
       "3  1.0  1.0   1.5       1.0"
      ]
     },
     "execution_count": 9,
     "metadata": {},
     "output_type": "execute_result"
    }
   ],
   "source": [
    "# Neurona OR, solo cambiamos el valor del sesgo\n",
    "with tf.Session() as sess:\n",
    "    # para armar el grafo\n",
    "    summary_writer = tf.train.SummaryWriter(logs_path, \n",
    "                                             graph=sess.graph)\n",
    "    # para armar tabla de verdad\n",
    "    x_1 = []\n",
    "    x_2 = []\n",
    "    out = []\n",
    "    act = []\n",
    "    for i in range(len(datos)):\n",
    "        t = datos[i].reshape(1, 2)\n",
    "        salida, activ = sess.run([a, activacion], feed_dict={entradas: t,\n",
    "                                        pesos:np.array([[1.],[1.]]),\n",
    "                                        sesgo: -0.5}) # sesgo ahora -0.5\n",
    "        # armar tabla de verdad en DataFrame\n",
    "        x_1.append(t[0][0])\n",
    "        x_2.append(t[0][1])\n",
    "        out.append(salida)\n",
    "        act.append(activ)\n",
    "    tabla_info = np.array([x_1, x_2, act, out]).transpose()\n",
    "    tabla = pd.DataFrame(tabla_info, \n",
    "                         columns=['x1', 'x2', 'f(x)', 'x1 OR x2'])\n",
    "tabla"
   ]
  },
  {
   "cell_type": "markdown",
   "metadata": {},
   "source": [
    "Como vemos, cambiando simplemente el peso del *sesgo*, convertimos a nuestra neurona AND en una neurona OR. Como muestra la tabla de verdad, el único caso en que $x_1$ `OR` $x_2$ es falso es cuando ambos son falsos.\n",
    "\n",
    "### Red Neuronal XNOR\n",
    "\n",
    "El caso de la función XNOR, ya es más complicado y no puede modelarse utilizando una sola neurona como hicimos con los ejemplos anteriores. $x_1$ `XNOR` $x_2$ va a ser verdadero cuando ambos son verdaderos o ambos son falsos, para implementar esta función lógica debemos crear una red con dos capas, la primer capa tendrá dos neuronas cuya salida servirá de entrada para una nueva neurona que nos dará el resultado final. Esta red la podemos modelar de acuerdo al siguiente esquema:\n",
    "\n",
    "<img src=\"https://relopezbriega.github.io/images/NN_XNOR.png\">\n",
    "\n",
    "Veamos entonces si podemos implementar este modelo en [TensorFlow](https://www.tensorflow.org/)."
   ]
  },
  {
   "cell_type": "code",
   "execution_count": 10,
   "metadata": {
    "collapsed": false
   },
   "outputs": [],
   "source": [
    "# Red Neuronal XNOR con TensorFlow\n",
    "# Defino las entradas\n",
    "entradas = tf.placeholder(\"float\", name='Entradas')\n",
    "datos = np.array([[0, 0]\n",
    "                 ,[1, 0]\n",
    "                 ,[0, 1]\n",
    "                 ,[1, 1]])\n",
    "\n",
    "# Defino las salidas\n",
    "uno = lambda: tf.constant(1.0)\n",
    "cero = lambda: tf.constant(0.0)\n",
    "\n",
    "with tf.name_scope('Pesos'):\n",
    "    # Definiendo pesos y sesgo\n",
    "    pesos = {\n",
    "        'a1': tf.constant([[-1.0], [-1.0]], name='peso_a1'),\n",
    "        'a2': tf.constant([[1.0], [1.0]], name='peso_a2'),\n",
    "        'a3': tf.constant([[1.0], [1.0]], name='peso_a3')\n",
    "    }\n",
    "    sesgo = {\n",
    "        'a1': tf.constant(0.5, name='sesgo_a1'),\n",
    "        'a2': tf.constant(-1.5, name='sesgo_a2'),\n",
    "        'a3': tf.constant(-0.5, name='sesgo_a3')\n",
    "    }\n",
    "\n",
    "\n",
    "with tf.name_scope('Red_neuronal'):\n",
    "    # Defino las capas\n",
    "    def capa1(entradas, pesos, sesgo):\n",
    "        # activacion a1\n",
    "        a1 = tf.reduce_sum(tf.add(tf.matmul(entradas, pesos['a1']), sesgo['a1']))\n",
    "        a1 = tf.case([(tf.less(a1, 0.0), cero)], default=uno)\n",
    "        # activacion a2\n",
    "        a2 = tf.reduce_sum(tf.add(tf.matmul(entradas, pesos['a2']), sesgo['a2']))\n",
    "        a2 = tf.case([(tf.less(a2, 0.0), cero)], default=uno)\n",
    "        return a1, a2\n",
    "    \n",
    "    def capa2(entradas, pesos, sesgo):\n",
    "        # activacion a3\n",
    "        a3 = tf.reduce_sum(tf.add(tf.matmul(entradas, pesos['a3']), sesgo['a3']))\n",
    "        a3 = tf.case([(tf.less(a3, 0.0), cero)], default=uno)\n",
    "        return a3\n",
    "\n",
    "# path de logs\n",
    "logs_path = '/tmp/tensorflow_logs/redXNOR'"
   ]
  },
  {
   "cell_type": "code",
   "execution_count": 11,
   "metadata": {
    "collapsed": false
   },
   "outputs": [
    {
     "data": {
      "text/html": [
       "<div>\n",
       "<table border=\"1\" class=\"dataframe\">\n",
       "  <thead>\n",
       "    <tr style=\"text-align: right;\">\n",
       "      <th></th>\n",
       "      <th>x1</th>\n",
       "      <th>x2</th>\n",
       "      <th>x1 XNOR x2</th>\n",
       "    </tr>\n",
       "  </thead>\n",
       "  <tbody>\n",
       "    <tr>\n",
       "      <th>0</th>\n",
       "      <td>0.0</td>\n",
       "      <td>0.0</td>\n",
       "      <td>1.0</td>\n",
       "    </tr>\n",
       "    <tr>\n",
       "      <th>1</th>\n",
       "      <td>1.0</td>\n",
       "      <td>0.0</td>\n",
       "      <td>0.0</td>\n",
       "    </tr>\n",
       "    <tr>\n",
       "      <th>2</th>\n",
       "      <td>0.0</td>\n",
       "      <td>1.0</td>\n",
       "      <td>0.0</td>\n",
       "    </tr>\n",
       "    <tr>\n",
       "      <th>3</th>\n",
       "      <td>1.0</td>\n",
       "      <td>1.0</td>\n",
       "      <td>1.0</td>\n",
       "    </tr>\n",
       "  </tbody>\n",
       "</table>\n",
       "</div>"
      ],
      "text/plain": [
       "    x1   x2  x1 XNOR x2\n",
       "0  0.0  0.0         1.0\n",
       "1  1.0  0.0         0.0\n",
       "2  0.0  1.0         0.0\n",
       "3  1.0  1.0         1.0"
      ]
     },
     "execution_count": 11,
     "metadata": {},
     "output_type": "execute_result"
    }
   ],
   "source": [
    "# Sesion red neuronal XNOR\n",
    "with tf.Session() as sess:\n",
    "    # para armar el grafo\n",
    "    summary_writer = tf.train.SummaryWriter(logs_path, \n",
    "                                             graph=sess.graph)\n",
    "    # para armar tabla de verdad\n",
    "    x_1 = []\n",
    "    x_2 = []\n",
    "    out = []\n",
    "    for i in range(len(datos)):\n",
    "        t = datos[i].reshape(1, 2)\n",
    "        # obtenos resultados 1ra capa\n",
    "        a1, a2 = sess.run(capa1(entradas, pesos, sesgo), feed_dict={entradas: t})\n",
    "        # pasamos resultados a la 2da capa\n",
    "        ent_a3 = np.array([[a1, a2]])\n",
    "        salida = sess.run(capa2(ent_a3, pesos, sesgo))\n",
    "        # armar tabla de verdad en DataFrame\n",
    "        x_1.append(t[0][0])\n",
    "        x_2.append(t[0][1])\n",
    "        out.append(salida)\n",
    "    tabla_info = np.array([x_1, x_2, out]).transpose()\n",
    "    tabla = pd.DataFrame(tabla_info, \n",
    "                         columns=['x1', 'x2', 'x1 XNOR x2'])\n",
    "tabla"
   ]
  },
  {
   "cell_type": "markdown",
   "metadata": {},
   "source": [
    "Como vemos, la [red neuronal](https://es.wikipedia.org/wiki/Red_neuronal_artificial) nos da el resultado correcto para la función lógica XNOR, solo es verdadera si ambos valores son verdaderos, o ambos son falsos.\n",
    "\n",
    "Hasta aquí implementamos simples neuronas y les pasamos los valores de sus pesos y sesgo a mano; esto es sencillo para los ejemplos; pero en la vida real, si queremos utilizar [redes neuronales](https://es.wikipedia.org/wiki/Red_neuronal_artificial) necesitamos implementar un procesos que vaya actualizando los pesos a medida que la red vaya aprendiendo con el entrenamiento. Este proceso se conoce con el nombre de [propagación hacia atrás](https://es.wikipedia.org/wiki/Propagaci%C3%B3n_hacia_atr%C3%A1s) o [backpropagation](https://es.wikipedia.org/wiki/Propagaci%C3%B3n_hacia_atr%C3%A1s).\n",
    "\n",
    "### Propagación hacia atrás\n",
    "\n",
    "La [propagación hacia atrás](https://es.wikipedia.org/wiki/Propagaci%C3%B3n_hacia_atr%C3%A1s) o [backpropagation](https://es.wikipedia.org/wiki/Propagaci%C3%B3n_hacia_atr%C3%A1s) es un algoritmo que funciona mediante la determinación de la pérdida (o error) en la salida y luego propagándolo de nuevo hacia atrás en la red. De esta forma los pesos se van actualizando para minimizar el error resultante de cada neurona. Este algoritmo es lo que les permite a las [redes neuronales](https://es.wikipedia.org/wiki/Red_neuronal_artificial) aprender.\n",
    "\n",
    "Veamos un ejemplo de como podemos implementar una [red neuronal](https://es.wikipedia.org/wiki/Red_neuronal_artificial) que pueda aprender por sí sola con la ayuda de [TensorFlow](https://www.tensorflow.org/).\n",
    "\n",
    "## Ejemplo de Perceptron multicapa  para reconocer dígitos escritos\n",
    "\n",
    "En este ejemplo vamos a construir un [peceptron multicapa](https://es.wikipedia.org/wiki/Perceptr%C3%B3n_multicapa) para clasificar dígitos escritos. Antes de pasar a la construcción del modelo, exploremos un poco el conjunto de datos con el que vamos a trabajar en la clasificación.\n",
    "\n",
    "\n",
    "### MNIST dataset\n",
    "\n",
    "[MNIST](https://colah.github.io/posts/2014-10-Visualizing-MNIST/) es un simple conjunto de datos para reconocimiento de imágenes por computadora. Se compone de imágenes de dígitos escritos a mano como los siguientes:\n",
    "\n",
    "<img src=\"https://www.tensorflow.org/versions/r0.8/images/MNIST.png\">\n",
    "\n",
    "Para más información sobre el dataset pueden visitar el siguiente [enlace](https://colah.github.io/posts/2014-10-Visualizing-MNIST/), en donde hacen un análisis detallado del mismo."
   ]
  },
  {
   "cell_type": "code",
   "execution_count": 12,
   "metadata": {
    "collapsed": false
   },
   "outputs": [
    {
     "name": "stdout",
     "output_type": "stream",
     "text": [
      "Successfully downloaded train-images-idx3-ubyte.gz 9912422 bytes.\n",
      "Extracting MNIST_data/train-images-idx3-ubyte.gz\n",
      "Successfully downloaded train-labels-idx1-ubyte.gz 28881 bytes.\n",
      "Extracting MNIST_data/train-labels-idx1-ubyte.gz\n",
      "Successfully downloaded t10k-images-idx3-ubyte.gz 1648877 bytes.\n",
      "Extracting MNIST_data/t10k-images-idx3-ubyte.gz\n",
      "Successfully downloaded t10k-labels-idx1-ubyte.gz 4542 bytes.\n",
      "Extracting MNIST_data/t10k-labels-idx1-ubyte.gz\n"
     ]
    }
   ],
   "source": [
    "# importando el dataset\n",
    "from tensorflow.examples.tutorials.mnist import input_data\n",
    "mnist = input_data.read_data_sets(\"MNIST_data/\", one_hot=True)"
   ]
  },
  {
   "cell_type": "markdown",
   "metadata": {},
   "source": [
    "### Explorando MNIST dataset"
   ]
  },
  {
   "cell_type": "code",
   "execution_count": 13,
   "metadata": {
    "collapsed": false
   },
   "outputs": [
    {
     "data": {
      "text/plain": [
       "(55000, 784)"
      ]
     },
     "execution_count": 13,
     "metadata": {},
     "output_type": "execute_result"
    }
   ],
   "source": [
    "# forma del dataset 55000 imagenes\n",
    "mnist.train.images.shape"
   ]
  },
  {
   "cell_type": "code",
   "execution_count": 14,
   "metadata": {
    "collapsed": false
   },
   "outputs": [],
   "source": [
    "# cada imagen es un array de 28x28 con cada pixel \n",
    "# definido como escala de grises.\n",
    "digito1 = mnist.train.images[0].reshape((28, 28))"
   ]
  },
  {
   "cell_type": "code",
   "execution_count": 15,
   "metadata": {
    "collapsed": false
   },
   "outputs": [
    {
     "data": {
      "image/png": "[encoded data removed]",
      "text/plain": [
       "<matplotlib.figure.Figure at 0x7f0074709978>"
      ]
     },
     "metadata": {},
     "output_type": "display_data"
    }
   ],
   "source": [
    "# visualizando el primer digito\n",
    "plt.imshow(digito1, cmap = cm.Greys)\n",
    "plt.show()"
   ]
  },
  {
   "cell_type": "code",
   "execution_count": 16,
   "metadata": {
    "collapsed": false
   },
   "outputs": [
    {
     "data": {
      "text/plain": [
       "7"
      ]
     },
     "execution_count": 16,
     "metadata": {},
     "output_type": "execute_result"
    }
   ],
   "source": [
    "# valor correcto\n",
    "mnist.train.labels[0].nonzero()[0][0]"
   ]
  },
  {
   "cell_type": "code",
   "execution_count": 17,
   "metadata": {
    "collapsed": false
   },
   "outputs": [],
   "source": [
    "# visualizando imagenes de 5 en 5\n",
    "def visualizar_imagenes(dataset, cant_img):\n",
    "    img_linea = 5\n",
    "    lineas = int(cant_img / img_linea)\n",
    "    imagenes = []\n",
    "    for i in range(lineas):\n",
    "        datos = []\n",
    "        for img in dataset[img_linea* i:img_linea* (i+1)]:\n",
    "            datos.append(img.reshape((28,28)))\n",
    "            imgs = np.hstack(datos)\n",
    "        imagenes.append(imgs)\n",
    "    data = np.vstack(imagenes)\n",
    "    plt.imshow(data, cmap = cm.Greys )\n",
    "    plt.show()"
   ]
  },
  {
   "cell_type": "code",
   "execution_count": 18,
   "metadata": {
    "collapsed": false
   },
   "outputs": [
    {
     "data": {
      "image/png": "[encoded data removed]",
      "text/plain": [
       "<matplotlib.figure.Figure at 0x7f0074731780>"
      ]
     },
     "metadata": {},
     "output_type": "display_data"
    }
   ],
   "source": [
    "# visualizando los primeros 30 dígitos\n",
    "plt.figure(figsize=(8, 8))\n",
    "visualizar_imagenes(mnist.train.images, 30)"
   ]
  },
  {
   "cell_type": "markdown",
   "metadata": {},
   "source": [
    "### Construyendo el perceptron multicapa\n",
    "\n",
    "Ahora que ya conocemos los datos con los que vamos a trabajar, ya estamos en condiciones de construir el modelo. Vamos a construir un [peceptron multicapa](https://es.wikipedia.org/wiki/Perceptr%C3%B3n_multicapa) que es una de las redes neuronales más simples. El modelo va a tener dos capas ocultas, que se van a activar con la [función de activación](https://es.wikipedia.org/wiki/Funci%C3%B3n_de_activaci%C3%B3n) <a href=\"https://en.wikipedia.org/wiki/Rectifier_(neural_networks)\">ReLU</a> y vamos a optimizar los pesos reduciendo la [entropía cruzada](https://es.wikipedia.org/wiki/Entrop%C3%ADa_cruzada) utilizando el algoritmo [Adam](https://arxiv.org/abs/1412.6980) que es un método para [optimización estocástica](https://en.wikipedia.org/wiki/Stochastic_optimization). "
   ]
  },
  {
   "cell_type": "code",
   "execution_count": 19,
   "metadata": {
    "collapsed": false
   },
   "outputs": [],
   "source": [
    "# Parametros\n",
    "tasa_aprendizaje = 0.001\n",
    "epocas = 15\n",
    "lote = 100\n",
    "display_step = 1\n",
    "logs_path = \"/tmp/tensorflow_logs/perceptron\"\n",
    "\n",
    "# Parametros de la red\n",
    "n_oculta_1 = 256 # 1ra capa de atributos\n",
    "n_oculta_2 = 256 # 2ra capa de atributos\n",
    "n_entradas = 784 # datos de MNIST(forma img: 28*28)\n",
    "n_clases = 10 # Total de clases a clasificar (0-9 digitos)\n",
    "\n",
    "# input para los grafos\n",
    "x = tf.placeholder(\"float\", [None, n_entradas],  name='DatosEntrada')\n",
    "y = tf.placeholder(\"float\", [None, n_clases], name='Clases')"
   ]
  },
  {
   "cell_type": "code",
   "execution_count": 20,
   "metadata": {
    "collapsed": true
   },
   "outputs": [],
   "source": [
    "# Creamos el modelo\n",
    "def perceptron_multicapa(x, pesos, sesgo):\n",
    "    # Función de activación de la capa escondida\n",
    "    capa_1 = tf.add(tf.matmul(x, pesos['h1']), sesgo['b1'])\n",
    "    # activacion relu\n",
    "    capa_1 = tf.nn.relu(capa_1)\n",
    "    # Función de activación de la capa escondida\n",
    "    capa_2 = tf.add(tf.matmul(capa_1, pesos['h2']), sesgo['b2'])\n",
    "    # activación relu\n",
    "    capa_2 = tf.nn.relu(capa_2)\n",
    "    # Salida con activación lineal\n",
    "    salida = tf.matmul(capa_2, pesos['out']) + sesgo['out']\n",
    "    return salida"
   ]
  },
  {
   "cell_type": "code",
   "execution_count": 21,
   "metadata": {
    "collapsed": false
   },
   "outputs": [],
   "source": [
    "# Definimos los pesos y sesgo de cada capa.\n",
    "pesos = {\n",
    "    'h1': tf.Variable(tf.random_normal([n_entradas, n_oculta_1])),\n",
    "    'h2': tf.Variable(tf.random_normal([n_oculta_1, n_oculta_2])),\n",
    "    'out': tf.Variable(tf.random_normal([n_oculta_2, n_clases]))\n",
    "}\n",
    "sesgo = {\n",
    "    'b1': tf.Variable(tf.random_normal([n_oculta_1])),\n",
    "    'b2': tf.Variable(tf.random_normal([n_oculta_2])),\n",
    "    'out': tf.Variable(tf.random_normal([n_clases]))\n",
    "}\n",
    "\n",
    "with tf.name_scope('Modelo'):\n",
    "    # Construimos el modelo\n",
    "    pred = perceptron_multicapa(x, pesos, sesgo)\n",
    "\n",
    "with tf.name_scope('Costo'):\n",
    "    # Definimos la funcion de costo\n",
    "    costo = tf.reduce_mean(tf.nn.softmax_cross_entropy_with_logits(pred, y))\n",
    "    \n",
    "with tf.name_scope('optimizador'):\n",
    "    # Algoritmo de optimización\n",
    "    optimizar = tf.train.AdamOptimizer(\n",
    "        learning_rate=tasa_aprendizaje).minimize(costo)\n",
    "\n",
    "with tf.name_scope('Precision'):\n",
    "    # Evaluar el modelo\n",
    "    pred_correcta = tf.equal(tf.argmax(pred, 1), tf.argmax(y, 1))\n",
    "    # Calcular la precisión\n",
    "    Precision = tf.reduce_mean(tf.cast(pred_correcta, \"float\"))\n",
    "    \n",
    "# Inicializamos todas las variables\n",
    "init = tf.initialize_all_variables()\n",
    "\n",
    "# Crear sumarización para controlar el costo\n",
    "tf.scalar_summary(\"Costo\", costo)\n",
    "# Crear sumarización para controlar la precisión\n",
    "tf.scalar_summary(\"Precision\", Precision)\n",
    "# Juntar los resumenes en una sola operación\n",
    "merged_summary_op = tf.merge_all_summaries()"
   ]
  },
  {
   "cell_type": "code",
   "execution_count": 22,
   "metadata": {
    "collapsed": false,
    "scrolled": false
   },
   "outputs": [
    {
     "name": "stdout",
     "output_type": "stream",
     "text": [
      "Iteración:  001 costo = 190.739139247\n",
      "Iteración:  002 costo = 42.639138275\n",
      "Iteración:  003 costo = 26.239370855\n",
      "Iteración:  004 costo = 18.236157751\n",
      "Iteración:  005 costo = 13.129509245\n",
      "Iteración:  006 costo = 9.765473726\n",
      "Iteración:  007 costo = 7.159448563\n",
      "Iteración:  008 costo = 5.309303818\n",
      "Iteración:  009 costo = 3.940411947\n",
      "Iteración:  010 costo = 2.904317733\n",
      "Iteración:  011 costo = 2.179349244\n",
      "Iteración:  012 costo = 1.597618810\n",
      "Iteración:  013 costo = 1.215200688\n",
      "Iteración:  014 costo = 0.875238173\n",
      "Iteración:  015 costo = 0.760177279\n",
      "Optimización Terminada!\n",
      "\n",
      "Precisión: 0.94\n",
      "Ejecutar el comando:\n",
      " --> tensorboard --logdir=/tmp/tensorflow_logs  \n",
      "Luego abir https://0.0.0.0:6006/ en el navegador\n"
     ]
    }
   ],
   "source": [
    "# Lanzamos la sesión\n",
    "with tf.Session() as sess:\n",
    "    sess.run(init)\n",
    "    \n",
    "    # op to write logs to Tensorboard\n",
    "    summary_writer = tf.train.SummaryWriter(\n",
    "        logs_path, graph=tf.get_default_graph())\n",
    "\n",
    "    # Entrenamiento\n",
    "    for epoca in range(epocas):\n",
    "        avg_cost = 0.\n",
    "        lote_total = int(mnist.train.num_examples/lote)\n",
    "\n",
    "        for i in range(lote_total):\n",
    "            lote_x, lote_y = mnist.train.next_batch(lote)\n",
    "            # Optimización por backprop y funcion de costo\n",
    "            _, c, summary = sess.run([optimizar, costo, merged_summary_op],\n",
    "                                     feed_dict={x: lote_x, y: lote_y})\n",
    "            # escribir logs en cada iteracion\n",
    "            summary_writer.add_summary(summary, epoca * lote_total + i)\n",
    "            # perdida promedio\n",
    "            avg_cost += c / lote_total\n",
    "        # imprimir información de entrenamiento\n",
    "        if epoca % display_step == 0:\n",
    "            print(\"Iteración: {0: 04d} costo = {1:.9f}\".format(epoca+1, \n",
    "                                                            avg_cost))\n",
    "    print(\"Optimización Terminada!\\n\")\n",
    "\n",
    "    \n",
    "    print(\"Precisión: {0:.2f}\".format(Precision.eval({x: mnist.test.images,\n",
    "                                                y: mnist.test.labels})))\n",
    "\n",
    "    print(\"Ejecutar el comando:\\n\",\n",
    "          \"--> tensorboard --logdir=/tmp/tensorflow_logs \",\n",
    "          \"\\nLuego abir https://0.0.0.0:6006/ en el navegador\")"
   ]
  },
  {
   "cell_type": "markdown",
   "metadata": {},
   "source": [
    "Como vemos [TensorFlow](https://www.tensorflow.org/) nos da mucha flexibilidad para construir el modelo, modificando muy pocas líneas podríamos cambiar el algoritmo de optimización o el calculo del error y obtener otros resultados; de esta forma vamos a poder personalizar el modelo para alcanzar mayores niveles de precisión.\n",
    "\n",
    "## TensorBoard\n",
    "\n",
    "Otra gran herramienta que nos proporciona [TensorFlow](https://www.tensorflow.org/) es [TensorBoard](https://www.tensorflow.org/versions/r0.8/how_tos/graph_viz/index.html) que nos permite visualizar nuestros [grafos](https://es.wikipedia.org/wiki/Grafo) y nos ayudan a alcanzar un mayor entendimiento del flujo de cálculos que ocurre en nuestro modelo.\n",
    "\n",
    "Para crear la información de la que se va a nutrir el [TensorBoard](https://www.tensorflow.org/versions/r0.8/how_tos/graph_viz/index.html), podemos definir algunos *scopes* utilizando `tf.name_scope`; también podemos incluir algunos gráficos sumarizados con `tf.scalar_summary` y luego llamamos a la función `tf.train.SummaryWriter` dentro de una *Sesión*.\n",
    "\n",
    "Luego podemos iniciar el *board* con el comando `tensorboard --logdir=logpath` como se puede ver en la salida del último ejemplo.\n",
    "\n",
    "Los [grafos](https://es.wikipedia.org/wiki/Grafo) de los casos que vimos por ejemplo, se ven así.\n",
    "\n",
    "<img src=\"https://relopezbriega.github.io/images/Intro_TensorFlow.png\">\n",
    "\n",
    "Los invito a explorar la herramienta y adentrarse en el fascinante mundo de las [redes neuronales](https://es.wikipedia.org/wiki/Red_neuronal_artificial).\n",
    "\n",
    "Saludos!"
   ]
  },
  {
   "cell_type": "markdown",
   "metadata": {},
   "source": [
    "*Este post fue escrito utilizando IPython notebook. Pueden descargar este [notebook](https://github.com/relopezbriega/relopezbriega.github.io/blob/master/downloads/IntroTensorFlow.ipynb) o ver su version estática en [nbviewer](https://nbviewer.ipython.org/github/relopezbriega/relopezbriega.github.io/blob/master/downloads/IntroTensorFlow.ipynb).*"
   ]
  }
 ],
 "metadata": {
  "kernelspec": {
   "display_name": "Python 3",
   "language": "python",
   "name": "python3"
  },
  "language_info": {
   "codemirror_mode": {
    "name": "ipython",
    "version": 3
   },
   "file_extension": ".py",
   "mimetype": "text/x-python",
   "name": "python",
   "nbconvert_exporter": "python",
   "pygments_lexer": "ipython3",
   "version": "3.5.2"
  }
 },
 "nbformat": 4,
 "nbformat_minor": 0
}
