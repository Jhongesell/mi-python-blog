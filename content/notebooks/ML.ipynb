{
 "cells": [
  {
   "cell_type": "markdown",
   "metadata": {},
   "source": [
    "## Examen de Ingreso\n",
    "\n",
    "En una galaxia lejana, existen tres civilizaciones. Vulcanos, Ferengis y Betasoides. Cada civilización vive en paz en su respectivo planeta.\n",
    "\n",
    "Dominan la predicción del clima mediante un complejo sistema informático.\n",
    "\n",
    "A continuación el diagrama del sistema solar.\n",
    "\n",
    "### Premisas:\n",
    "\n",
    "* El planeta Ferengi se desplaza con una velocidad angular de 1 grados/día en **sentido horario**. Su distancia con respecto al sol es de 500Km.\n",
    "\n",
    "* El planeta Betasoide se desplaza con una velocidad angular de 3 grados/día en **sentido horario**. Su distancia con respecto al sol es de 2000Km.\n",
    "\n",
    "* El planeta Vulcano se desplaza con una velocidad angular de 5 grados/día en **sentido anti-horario**, su distancia con respecto al sol es de 1000Km.\n",
    "\n",
    "* Todas las órbitas son circulares.\n",
    "\n",
    "Cuando los tres planetas están alineados entre sí y a su vez alineados con respecto al sol, el sistema solar experimenta un período de sequía.\n",
    "\n",
    "![ML2](ML2.png)\n",
    "\n",
    "Cuando los tres planetas no están alineados, forman entre sí un triángulo. Es sabido que en el momento en el que el sol se encuentra dentro del triángulo, el sistema solar experimenta un período de lluvia, teniendo éste, un pico de intensidad cuando el perímetro del triángulo está en su máximo.\n",
    "\n",
    "![ML3](ML3.png)\n",
    "\n",
    "\n",
    "Las condiciones óptimas de presión y temperatura se dan cuando los tres planetas están alineados entre sí pero no están alineados con el sol.\n",
    "\n",
    "![ML4](ML4.png)\n",
    "\n",
    "Realizar un programa informático para poder predecir en los próximos 10 años:\n",
    "\n",
    "1. ¿Cuántos períodos de sequía habrá?\n",
    "\n",
    "2. ¿Cuántos períodos de lluvia habrá y qué día será el pico máximo de lluvia?\n",
    "\n",
    "3. ¿Cuántos períodos de condiciones óptimas de presión y temperatura habrá?\n",
    "\n",
    "### Bonus:\n",
    "\n",
    "Para poder utilizar el sistema como un servicio a las otras civilizaciones, los Vulcanos requieren tener una base de datos con las condiciones meteorológicas de todos los días y brindar una API REST de consulta sobre las condiciones de un día en particular.\n",
    "\n",
    "1) Generar un modelo de datos con las condiciones de todos los días hasta 10 años en adelante utilizando un job para calcularlas.\n",
    "\n",
    "2) Generar una API REST la cual devuelve en formato JSON la condición climática del día consultado.\n",
    "\n",
    "3) Hostear el modelo de datos y la API REST en un cloud computing libre (como APP Engine o Cloudfoudry) y enviar la URL para consulta:\n",
    "\n",
    "Ej: GET → https://....../clima?dia=566 → Respuesta: {“dia”:566, “clima”:”lluvia”}"
   ]
  },
  {
   "cell_type": "code",
   "execution_count": 1,
   "metadata": {
    "collapsed": true
   },
   "outputs": [],
   "source": [
    "import numpy as np\n",
    "import math\n",
    "import matplotlib.pyplot as plt\n",
    "%matplotlib inline"
   ]
  },
  {
   "cell_type": "code",
   "execution_count": 92,
   "metadata": {
    "collapsed": true
   },
   "outputs": [],
   "source": [
    "def make_planet(r, av, days):\n",
    "    \"\"\"Esta función crea devuelve las coordenadas x, y en las que se mueve \n",
    "    el planeta por día de acuerdo a su distancia del sol (r), su velocidad\n",
    "    angular (av) y los días de orbita (days)\"\"\"\n",
    "    x_c = []\n",
    "    y_c = []\n",
    "    for day in range(0, days):\n",
    "        theta = math.radians(day*av)\n",
    "        #x_c.append(round(r*math.cos(theta),6))\n",
    "        #y_c.append(round(r*math.sin(theta),6))\n",
    "        x_c.append(r*math.cos(theta))\n",
    "        y_c.append(r*math.sin(theta))\n",
    "    return x_c, y_c\n",
    "\n",
    "def make_plot(day):\n",
    "    \"\"\"Esta función genera el gráfico del sistema solar para un \n",
    "    determinado día.\"\"\"\n",
    "    plt.plot(x1[day], y1[day], 'h', color='red', label='Ferengi', markersize=20)\n",
    "    plt.plot(x2[day], y2[day], 'o', color='blue', label='Betasoide', markersize=20)\n",
    "    plt.plot(x3[day], y3[day], 'p', color='green', label='Vulcano', markersize=20)\n",
    "    plt.plot(0, 0, '*', color='orange', label='Sol', markersize=30)\n",
    "    \n",
    "    if check_area_day(day) == 0:\n",
    "        plt.plot([x1[day], x2[day], x3[day]], [y1[day], y2[day], y3[day]], '-.')\n",
    "    else:\n",
    "        plt.triplot([x1[day], x2[day], x3[day]], [y1[day], y2[day], y3[day]], '-.')\n",
    "        \n",
    "    plt.plot(x1, y1, '--', color='red')\n",
    "    plt.plot(x2, y2, '--', color='blue')\n",
    "    plt.plot(x3, y3, '--', color='green')\n",
    "    plt.title(\"day{0}\".format(day))\n",
    "    plt.legend(loc='center left', bbox_to_anchor=(1, 0.5), markerscale=.5)\n",
    "    plt.show()\n",
    "\n",
    "def DegtoRad(deg):\n",
    "    return (deg)*(math.pi/180)\n",
    "\n",
    "def angle_between(p1, p2):\n",
    "    \"\"\"Calcula el angulo generado por dos puntos.\"\"\"\n",
    "    ang1 = np.arctan2(*p1[::-1])\n",
    "    ang2 = np.arctan2(*p2[::-1])\n",
    "    return np.rad2deg((ang1 - ang2) % (2 * np.pi))\n",
    "\n",
    "def check_area(p1, p2, p3):\n",
    "    \"\"\"Función que devuelve el área de un triangulo.\"\"\"\n",
    "    return  ( p1[0] * (p2[1] - p3[1]) +\n",
    "             p2[0] * (p3[1] - p1[1]) + p3[0] * (p1[1] - p2[1]) ) / 2\n",
    "\n",
    "def check_area2(p1, p2, p3):\n",
    "    \"\"\"Función que devuelve el área de un triangulo.\"\"\"\n",
    "    return  ( (p1[1] -p2[1]) * (p1[0] - p2[0]) -(p1[1] - p3[1]) * (p1[0] -p2[0]) ) / 2\n",
    "\n",
    "def check_area_day(day):\n",
    "    \"\"\"Función que devuelve el área de un triangulo formado por los planetas\n",
    "    para un determinado día.\"\"\"\n",
    "    return check_area((x1[day], y1[day]), (x2[day], y2[day]), (x3[day], y3[day]))\n",
    "\n",
    "def check_area_day2(day):\n",
    "    \"\"\"Función que devuelve el área de un triangulo formado por los planetas\n",
    "    para un determinado día.\"\"\"\n",
    "    return ((y1[day] - y2[day]) * (x1[day] - x3[day]) - (y1[day] - y3[day]) * (x1[day] - x2[day]))/2\n",
    "\n",
    "def check_sun_inside(day):\n",
    "    \"\"\"Función para controlar si el sol se encuentra dentro del triangulo\n",
    "    formado por los planetas\"\"\"\n",
    "    def sign(p1, p2, p3):\n",
    "        return (p1[0] - p3[0]) * (p2[1] - p3[1]) - (p2[0] - p3[0]) * (p1[1] - p3[1])\n",
    "    \n",
    "    b1 = sign((0, 0), (x1[day], y1[day]), (x2[day], y2[day]))\n",
    "    b2 = sign((0, 0), (x2[day], y2[day]), (x3[day], y3[day]))\n",
    "    b3 = sign((0, 0), (x3[day], y3[day]), (x1[day], y1[day]))\n",
    "    return b1 < 0 and b2 < 0 and b3 <0"
   ]
  },
  {
   "cell_type": "code",
   "execution_count": 94,
   "metadata": {
    "collapsed": true
   },
   "outputs": [],
   "source": [
    "# Creando las coordenadas de los planetas \n",
    "# x1 - Ferengi\n",
    "# x2 - Betasoide\n",
    "# x3 - Vulcano\n",
    "x1, y1 = make_planet(5, -1, 3610)\n",
    "x2, y2 = make_planet(20, -3, 3610)\n",
    "x3, y3 = make_planet(10, 5, 3610)"
   ]
  },
  {
   "cell_type": "code",
   "execution_count": 96,
   "metadata": {},
   "outputs": [
    {
     "name": "stdout",
     "output_type": "stream",
     "text": [
      "0.0\n",
      "-9.559123679190158\n",
      "-18.878119624049667\n",
      "-27.721816284823667\n",
      "-35.86485529842222\n",
      "-43.096352085307416\n",
      "-49.22426669953962\n",
      "-54.07939731654932\n",
      "-57.51891620213188\n",
      "-59.42937705139429\n"
     ]
    }
   ],
   "source": [
    "for day in range(10):\n",
    "    print(check_area_day2(day))"
   ]
  },
  {
   "cell_type": "code",
   "execution_count": 7,
   "metadata": {},
   "outputs": [],
   "source": [
    "sequia = []\n",
    "for day in range(1, 3610):\n",
    "    if abs(check_area((x1[day], y1[day]), (x2[day], y2[day]), (x3[day], y3[day]))) <= 1: #3:\n",
    "        sequia.append(day)\n",
    "        #print(\"day{0} and area {1}\".format(day, check_area_day(day)))"
   ]
  },
  {
   "cell_type": "code",
   "execution_count": 11,
   "metadata": {
    "scrolled": true
   },
   "outputs": [
    {
     "name": "stdout",
     "output_type": "stream",
     "text": [
      "días de sequía en período de 10 años: 40 días\n"
     ]
    }
   ],
   "source": [
    "print(\"días de sequía en período de 10 años: {} días\".format(len(sequia)))"
   ]
  },
  {
   "cell_type": "code",
   "execution_count": 78,
   "metadata": {},
   "outputs": [],
   "source": [
    "perimetro = {}\n",
    "lluvia = []\n",
    "for day in range(1, 3610):\n",
    "    if check_sun_inside(day):\n",
    "        #print(\"day {0} and perimeter {1}\".format(day, abs(check_area_day(day)*2)))\n",
    "        perimetro[day]=abs(check_area_day(day)*2)\n",
    "        lluvia.append(day)"
   ]
  },
  {
   "cell_type": "code",
   "execution_count": 79,
   "metadata": {},
   "outputs": [],
   "source": [
    "lluvia_intensa = []\n",
    "for k, v in perimetro.items():\n",
    "    if v == max(perimetro.values()):\n",
    "        lluvia_intensa.append(k)    "
   ]
  },
  {
   "cell_type": "code",
   "execution_count": 80,
   "metadata": {},
   "outputs": [
    {
     "name": "stdout",
     "output_type": "stream",
     "text": [
      "días con pico de lluvia intensa en período de 10 años: 20 días\n"
     ]
    }
   ],
   "source": [
    "print(\"días con pico de lluvia intensa en período de 10 años: {} días\"\n",
    "      .format(len(lluvia_intensa)))"
   ]
  },
  {
   "cell_type": "code",
   "execution_count": 81,
   "metadata": {},
   "outputs": [
    {
     "name": "stdout",
     "output_type": "stream",
     "text": [
      "días con lluvia en período de 10 años: 580 días\n"
     ]
    }
   ],
   "source": [
    "print(\"días con lluvia en período de 10 años: {} días\"\n",
    "      .format(len(lluvia)))"
   ]
  },
  {
   "cell_type": "code",
   "execution_count": 65,
   "metadata": {},
   "outputs": [],
   "source": [
    "cond_optimas = []\n",
    "for day in range(1, 3610):\n",
    "    if abs(check_area_day2(day)) <= 6 and abs(check_area_day2(day))!= 0:\n",
    "        cond_optimas.append(day)"
   ]
  },
  {
   "cell_type": "code",
   "execution_count": 66,
   "metadata": {},
   "outputs": [
    {
     "name": "stdout",
     "output_type": "stream",
     "text": [
      "días con condiciones óptimas en período de 10 años: 120 días\n"
     ]
    }
   ],
   "source": [
    "print(\"días con condiciones óptimas en período de 10 años: {} días\"\n",
    "      .format(len(cond_optimas)))"
   ]
  },
  {
   "cell_type": "code",
   "execution_count": 62,
   "metadata": {},
   "outputs": [
    {
     "data": {
      "application/vnd.jupyter.widget-view+json": {
       "model_id": "0802190cb046455da7c4403893c86221"
      }
     },
     "metadata": {},
     "output_type": "display_data"
    }
   ],
   "source": [
    "from ipywidgets import interact, IntSlider\n",
    "\n",
    "interact(make_plot,day=IntSlider(min=0,max=3600,step=1));"
   ]
  },
  {
   "cell_type": "code",
   "execution_count": 60,
   "metadata": {},
   "outputs": [
    {
     "data": {
      "image/png": "[encoded data removed]",
      "text/plain": [
       "<matplotlib.figure.Figure at 0x7f5b86b9fb00>"
      ]
     },
     "metadata": {},
     "output_type": "display_data"
    }
   ],
   "source": [
    "make_plot(64)"
   ]
  },
  {
   "cell_type": "code",
   "execution_count": 41,
   "metadata": {},
   "outputs": [
    {
     "data": {
      "text/plain": [
       "2.9999995970804969"
      ]
     },
     "execution_count": 41,
     "metadata": {},
     "output_type": "execute_result"
    }
   ],
   "source": [
    "angle_between((x2[1], y2[1]), (x2[0], y2[0]))"
   ]
  },
  {
   "cell_type": "code",
   "execution_count": 40,
   "metadata": {},
   "outputs": [
    {
     "data": {
      "text/plain": [
       "(-36.60253815748601, 36.602538157486)"
      ]
     },
     "execution_count": 40,
     "metadata": {},
     "output_type": "execute_result"
    }
   ],
   "source": [
    "check_area_day(15), check_area_day2(15)"
   ]
  },
  {
   "cell_type": "code",
   "execution_count": 75,
   "metadata": {},
   "outputs": [
    {
     "data": {
      "text/plain": [
       "False"
      ]
     },
     "execution_count": 75,
     "metadata": {},
     "output_type": "execute_result"
    }
   ],
   "source": [
    "check_sun_inside(566)"
   ]
  },
  {
   "cell_type": "code",
   "execution_count": 84,
   "metadata": {},
   "outputs": [
    {
     "data": {
      "image/png": "[encoded data removed]",
      "text/plain": [
       "<matplotlib.figure.Figure at 0x7f5b86af5a90>"
      ]
     },
     "metadata": {},
     "output_type": "display_data"
    }
   ],
   "source": [
    "make_plot(78)"
   ]
  },
  {
   "cell_type": "code",
   "execution_count": 74,
   "metadata": {},
   "outputs": [
    {
     "data": {
      "text/plain": [
       "(-76.604449103992, -68.40402585286799, -25.000001062756013)"
      ]
     },
     "execution_count": 74,
     "metadata": {},
     "output_type": "execute_result"
    }
   ],
   "source": [
    "def sign(p1, p2, p3):\n",
    "        return (p1[0] - p3[0]) * (p2[1] - p3[1]) - (p2[0] - p3[0]) * (p1[1] - p3[1])\n",
    "\n",
    "day1 = 25\n",
    "b1 = sign((0, 0), (x1[day1], y1[day1]), (x2[day1], y2[day1]))\n",
    "b2 = sign((0, 0), (x2[day1], y2[day1]), (x3[day1], y3[day1]))\n",
    "b3 = sign((0, 0), (x3[day1], y3[day1]), (x1[day1], y1[day1]))\n",
    "b1, b2, b3"
   ]
  },
  {
   "cell_type": "code",
   "execution_count": 83,
   "metadata": {},
   "outputs": [
    {
     "data": {
      "text/plain": [
       "[2058,\n",
       " 3138,\n",
       " 78,\n",
       " 1158,\n",
       " 2238,\n",
       " 258,\n",
       " 1338,\n",
       " 2418,\n",
       " 3498,\n",
       " 438,\n",
       " 3318,\n",
       " 1518,\n",
       " 2598,\n",
       " 618,\n",
       " 1698,\n",
       " 2778,\n",
       " 798,\n",
       " 1878,\n",
       " 2958,\n",
       " 978]"
      ]
     },
     "execution_count": 83,
     "metadata": {},
     "output_type": "execute_result"
    }
   ],
   "source": [
    "lluvia_intensa"
   ]
  },
  {
   "cell_type": "code",
   "execution_count": null,
   "metadata": {
    "collapsed": true
   },
   "outputs": [],
   "source": []
  }
 ],
 "metadata": {
  "kernelspec": {
   "display_name": "Python 3",
   "language": "python",
   "name": "python3"
  },
  "language_info": {
   "codemirror_mode": {
    "name": "ipython",
    "version": 3
   },
   "file_extension": ".py",
   "mimetype": "text/x-python",
   "name": "python",
   "nbconvert_exporter": "python",
   "pygments_lexer": "ipython3",
   "version": "3.5.2"
  }
 },
 "nbformat": 4,
 "nbformat_minor": 2
}
