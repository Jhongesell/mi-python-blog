{
 "cells": [
  {
   "cell_type": "markdown",
   "metadata": {},
   "source": [
    "# Ejemplo de Machine Learning con Python - Selección de atributos"
   ]
  },
  {
   "cell_type": "markdown",
   "metadata": {},
   "source": [
    "*Esta notebook fue creada originalmente como un blog post por [Raúl E. López Briega](https://relopezbriega.com.ar/) en [Matemáticas, Analisis de datos y Python](https://relopezbriega.github.io). El contenido esta bajo la licencia BSD.*"
   ]
  },
  {
   "cell_type": "markdown",
   "metadata": {},
   "source": [
    "<img alt=\"Machine Learning\" title=\"Machine Learning\" src=\"https://relopezbriega.github.io/images/machine-learning.jpg\">"
   ]
  },
  {
   "cell_type": "markdown",
   "metadata": {},
   "source": [
    "## Introducción\n",
    "\n",
    "Continuando donde nos quedamos en el artículo anterior [Ejemplo de Machine Learning - preprocesamiento y exploración](https://relopezbriega.github.io/blog/2016/04/08/ejemplo-de-machine-learning-con-python-preprocesamiento-y-exploracion/); ahora es tiempo de ingresar en el terreno de la [selección de atributos](https://en.wikipedia.org/wiki/Feature_selection).\n",
    "\n",
    "\n",
    "## ¿En qué consiste la selección de atributos?\n",
    "\n",
    "La [selección de atributos](https://en.wikipedia.org/wiki/Feature_selection) es el proceso por el cual seleccionamos un subconjunto de atributos (representados por cada una de las columnas en un [dataset](https://es.wikipedia.org/wiki/Conjunto_de_datos) de forma tabular) que son más relevantes para la construcción del modelo predictivo sobre el que estamos trabajando. \n",
    "\n",
    "Este proceso, no se debe confundir con el de [reducción de dimensiones](https://en.wikipedia.org/wiki/Dimensionality_reduction); si bien ambos procesos buscan reducir el número de atributos en nuestro [dataset](https://es.wikipedia.org/wiki/Conjunto_de_datos); este último lo hace por medio de la creación de nuevos atributos que son combinaciones de los anteriores; mientras que en el proceso de [selección de atributos](https://en.wikipedia.org/wiki/Feature_selection), intentamos incluir y excluir los atributos prácticamente sin modificarlos.\n",
    "\n",
    "El proceso de [selección de atributos](https://en.wikipedia.org/wiki/Feature_selection) es tanto un arte como una ciencia, en donde el conocimiento sobre el problema y la intuición son sumamente importantes. El objetivo de la [selección de atributos](https://en.wikipedia.org/wiki/Feature_selection) es triple: mejorar la capacidad predictiva de nuestro modelo, proporcionando modelos predictivos más rápidos y eficientes, y proporcionar una mejor comprensión del proceso subyacente que generó los datos. Los métodos de [selección de atributos](https://en.wikipedia.org/wiki/Feature_selection) se pueden utilizar para identificar y eliminar los atributos innecesarios, irrelevantes y redundantes que no contribuyen a la exactitud del modelo predictivo o incluso puedan disminuir su precisión. \n",
    "\n",
    "\n",
    "## Beneficios de la selección de atributos\n",
    "\n",
    "Uno de los principales beneficios de la [selección de atributos](https://en.wikipedia.org/wiki/Feature_selection) esta plasmado por la famosa frase ***\"Menos es más\"*** del arquitecto [Ludwig Mies van der Rohe](https://es.wikipedia.org/wiki/Ludwig_Mies_van_der_Rohe), precursor del [minimalismo](https://es.wikipedia.org/wiki/Minimalismo). Menos atributos son deseables ya que reduce la complejidad del modelo, y un modelo más simple es más fácil de entender y explicar. \n",
    "\n",
    "Otros beneficios adicionales que nos proporciona una buena [selección de atributos](https://en.wikipedia.org/wiki/Feature_selection) antes de comenzar con el armado del modelo, son:\n",
    "\n",
    "* **Reduce el [sobreentrenamiento](https://es.wikipedia.org/wiki/Sobreajuste)**: Menos datos redundantes significan menos oportunidades para tomar decisiones sobre la base de ruido.\n",
    "* **Mejora la precisión**: Menos datos engañosos se convierten en una mejora en la exactitud del modelo.\n",
    "* **Reduce el tiempo de entrenamiento**: Menos datos significa que los algoritmos aprenden más rápidamente.\n",
    "\n",
    "\n",
    "## Selección de atributos univariante o multivariante\n",
    "\n",
    "Una cosa que no debemos pasar por alto en el proceso de [selección de atributos](https://en.wikipedia.org/wiki/Feature_selection), es la relación que puede existir entre ellos. Es decir que debemos considerar seleccionar o eliminar un atributo en forma individual ([univariante](https://en.wikipedia.org/wiki/Univariate_analysis)) o un un grupo de atributos en forma conjunta ([multivariante](https://es.wikipedia.org/wiki/An%C3%A1lisis_multivariante)). Esto también va a depender del problema con el que estemos tratando y del modelo que elijamos. Por ejemplo si elegimos como modelo un [clasificador bayesiano ingenuo](https://es.wikipedia.org/wiki/Clasificador_bayesiano_ingenuo), el modelo asume que cada atributo es independiente del resto, por lo tanto, podríamos utilizar un enfoque [univariante](https://en.wikipedia.org/wiki/Univariate_analysis) sin problemas; en cambio si elegimos como modelo una [red neuronal](https://es.wikipedia.org/wiki/Red_neuronal_artificial), este último no asume la independencia de los atributos, sino que utiliza todas la que dispone; por lo tanto aquí deberíamos seguir un enfoque [multivariante](https://es.wikipedia.org/wiki/An%C3%A1lisis_multivariante) para seleccionar los atributos.\n",
    "\n",
    "\n",
    "## Algoritmos para selección de atributos\n",
    "\n",
    "Podemos encontrar dos clases generales de algoritmos de [selección de atributos](https://en.wikipedia.org/wiki/Feature_selection): los métodos de filtrado, y los métodos empaquetados.\n",
    "\n",
    "### Métodos de filtrado\n",
    "\n",
    "Estos métodos aplican una medida estadística para asignar una puntuación a cada atributo. Los atributos luego son clasificados de acuerdo a su puntuación y son, o bien seleccionados para su conservación o eliminados del conjunto de datos. Los métodos de filtrado son a menudo [univariantes](https://en.wikipedia.org/wiki/Univariate_analysis) y consideran a cada atributo en forma independiente, o con respecto a la variable dependiente.\n",
    "\n",
    "Ejemplos de estos métodos son: [prueba de Chi cuadrado](https://es.wikipedia.org/wiki/Prueba_%CF%87%C2%B2), [prueba F de Fisher](https://es.wikipedia.org/wiki/Prueba_F_de_Fisher), [ratio de ganancia de información](https://en.wikipedia.org/wiki/Information_gain_ratio) y los [coeficientes de correlación](https://es.wikipedia.org/wiki/Correlaci%C3%B3n).\n",
    "\n",
    "### Métodos empaquetados\n",
    "\n",
    "Estos métodos consideran la selección de un conjunto de atributos como un problema de búsqueda, en donde las diferentes combinaciones son evaluadas y comparadas. Para hacer estas evaluaciones se utiliza un modelo predictivo y luego se asigna una puntuación a cada combinación basada en la precisión del modelo.\n",
    "\n",
    "Un ejemplo de este método es el algoritmo de eliminación recursiva de atributos.\n",
    "\n",
    "\n",
    "## Ejemplo\n",
    "\n",
    "Pasamos ahora a ver como podemos aplicar todo esto al caso en el que veníamos trabajando en el el [artículo anterior](https://relopezbriega.github.io/blog/2016/04/08/ejemplo-de-machine-learning-con-python-preprocesamiento-y-exploracion/). Pero antes, terminemos con algunas tareas de preprocesamiento adicionales."
   ]
  },
  {
   "cell_type": "code",
   "execution_count": 1,
   "metadata": {
    "collapsed": true
   },
   "outputs": [],
   "source": [
    "# <!-- collapse=True -->\n",
    "# Importando las librerías que vamos a utilizar\n",
    "import pandas as pd\n",
    "import numpy as np \n",
    "import matplotlib.pyplot as plt \n",
    "import seaborn as sns \n",
    "from sklearn.cross_validation import train_test_split\n",
    "from sklearn.feature_selection import SelectKBest\n",
    "from sklearn.feature_selection import f_classif\n",
    "from sklearn.feature_selection import RFE\n",
    "from sklearn.ensemble import ExtraTreesClassifier\n",
    "\n",
    "# graficos incrustados\n",
    "%matplotlib inline\n",
    "\n",
    "# parametros esteticos de seaborn\n",
    "sns.set_palette(\"deep\", desat=.6)\n",
    "sns.set_context(rc={\"figure.figsize\": (8, 4)})"
   ]
  },
  {
   "cell_type": "code",
   "execution_count": 2,
   "metadata": {},
   "outputs": [],
   "source": [
    "# importando el dataset preprocesado.\n",
    "ONG_data = pd.read_csv('LEARNING_procesado.csv', header=0)\n",
    "\n",
    "# Agregando la columna AGE2\n",
    "AGE2 = pd.cut(ONG_data['AGE'], range(0, 100, 10))\n",
    "ONG_data['AGE2'] = AGE2"
   ]
  },
  {
   "cell_type": "code",
   "execution_count": 3,
   "metadata": {},
   "outputs": [],
   "source": [
    "# Eliminar columnas con donaciones superiores a 60 (atípicos)\n",
    "ONG_data = ONG_data[ONG_data.DONOR_AMOUNT < 60]"
   ]
  },
  {
   "cell_type": "code",
   "execution_count": 4,
   "metadata": {},
   "outputs": [],
   "source": [
    "# Convertir datos categoricos a numericos\n",
    "tipos = ONG_data.columns.to_series().groupby(ONG_data.dtypes).groups\n",
    "ctext = tipos[np.dtype('object')]\n",
    "\n",
    "for c in ctext:\n",
    "    ONG_data[c], _ = pd.factorize(ONG_data[c])\n",
    "\n",
    "ONG_data['AGE2'], _ = pd.factorize(ONG_data['AGE2'])"
   ]
  },
  {
   "cell_type": "markdown",
   "metadata": {},
   "source": [
    "Con estas manipulaciones lo que hicimos es cargar en memoria el [dataset](https://es.wikipedia.org/wiki/Conjunto_de_datos) que prepocesamos anteriormente, le agregamos la nueva columna AGE2, ya que es mejor tener la edad agrupada en rangos en lugar de individualmente, luego eliminamos los [valores atípicos](https://es.wikipedia.org/wiki/Valor_at%C3%ADpico) que habíamos detectado; y por último, reemplazamos con su equivalente numérico a todas las [variables categóricas](https://relopezbriega.github.io/blog/2016/02/29/analisis-de-datos-categoricos-con-python/); ya que para los algoritmos de [Scikit-learn](https://scikit-learn.org/stable/) es mucho más eficiente trabajar con variables numéricas.\n",
    "\n",
    "Ahora sí, ya estamos en condiciones de poder comenzar a aplicar algunos de los algoritmos de [selección de atributos](https://en.wikipedia.org/wiki/Feature_selection), comencemos con un simple algoritmo [univariante](https://en.wikipedia.org/wiki/Univariate_analysis) que aplica el método de filtrado. Para esto vamos a utilizar los objetos `SelectKBest` y `f_classif` del paquete `sklearn.feature_selection`."
   ]
  },
  {
   "cell_type": "code",
   "execution_count": 5,
   "metadata": {},
   "outputs": [],
   "source": [
    "# Separamos las columnas objetivo\n",
    "donor_flag = ONG_data['DONOR_FLAG']\n",
    "donor_amount = ONG_data['DONOR_AMOUNT']\n",
    "indice = ONG_data['IDX']"
   ]
  },
  {
   "cell_type": "code",
   "execution_count": 6,
   "metadata": {},
   "outputs": [
    {
     "data": {
      "text/plain": [
       "['ODATEDW',\n",
       " 'PEPSTRFL',\n",
       " 'HVP3',\n",
       " 'CARDPROM',\n",
       " 'NUMPROM',\n",
       " 'RAMNT_8',\n",
       " 'RAMNT_16',\n",
       " 'NGIFTALL',\n",
       " 'CARDGIFT',\n",
       " 'LASTGIFT',\n",
       " 'LASTDATE',\n",
       " 'FISTDATE',\n",
       " 'AVGGIFT',\n",
       " 'RFA_2F',\n",
       " 'RFA_2A']"
      ]
     },
     "execution_count": 6,
     "metadata": {},
     "output_type": "execute_result"
    }
   ],
   "source": [
    "# Aplicando el algoritmo univariante de prueba F.\n",
    "k = 15  # número de atributos a seleccionar\n",
    "entrenar = ONG_data.drop(['DONOR_FLAG', 'DONOR_AMOUNT', 'IDX'], axis=1)\n",
    "columnas = list(entrenar.columns.values)\n",
    "seleccionadas = SelectKBest(f_classif, k=k).fit(entrenar, donor_flag)\n",
    "atrib = seleccionadas.get_support()\n",
    "atributos = [columnas[i] for i in list(atrib.nonzero()[0])]\n",
    "atributos"
   ]
  },
  {
   "cell_type": "markdown",
   "metadata": {
    "collapsed": true
   },
   "source": [
    "Como podemos ver, el algoritmo nos seleccionó la cantidad de atributos que le indicamos; en este ejemplo decidimos seleccionar solo 15; obviamente, cuando armemos nuestro modelo final vamos a tomar un número mayor de atributos.\n",
    "\n",
    "### ¿Cómo funciona?\n",
    "\n",
    "Este algoritmo selecciona a los mejores atributos basándose en una prueba estadística [univariante](https://en.wikipedia.org/wiki/Univariate_analysis). Al objeto `SelectKBest` le pasamos la prueba estadística que vamos a a aplicar, en este caso una [prueba F](https://es.wikipedia.org/wiki/Prueba_F_de_Fisher) definida por el objeto `f_classif`, junto con el número de atributos a seleccionar. El algoritmo va a aplicar la prueba a todos los atributos y va a seleccionar los que mejor resultado obtuvieron.\n",
    "\n",
    "Ahora veamos como funciona el algoritmo de **Eliminación Recursiva de atributos**. Para este caso, vamos a utilizar como nuestro modelo predictivo el algoritmo [ExtraTreesClassifier](https://scikit-learn.org/stable/modules/generated/sklearn.ensemble.ExtraTreesClassifier.html)."
   ]
  },
  {
   "cell_type": "code",
   "execution_count": 7,
   "metadata": {},
   "outputs": [],
   "source": [
    "# Algoritmo de Eliminación Recursiva de atributos con ExtraTrees\n",
    "modelo = ExtraTreesClassifier()\n",
    "era = RFE(modelo, 15)  # número de atributos a seleccionar\n",
    "era = era.fit(entrenar, donor_flag)"
   ]
  },
  {
   "cell_type": "code",
   "execution_count": 8,
   "metadata": {},
   "outputs": [
    {
     "data": {
      "text/plain": [
       "['OSOURCE',\n",
       " 'ZIP',\n",
       " 'VIETVETS',\n",
       " 'WWIIVETS',\n",
       " 'POP901',\n",
       " 'HV1',\n",
       " 'PEC2',\n",
       " 'TPE13',\n",
       " 'EIC4',\n",
       " 'EIC14',\n",
       " 'VC2',\n",
       " 'CARDPROM',\n",
       " 'MINRDATE',\n",
       " 'MAXRDATE',\n",
       " 'TIMELAG']"
      ]
     },
     "execution_count": 8,
     "metadata": {},
     "output_type": "execute_result"
    }
   ],
   "source": [
    "# imprimir resultados\n",
    "atrib = era.support_\n",
    "atributos = [columnas[i] for i in list(atrib.nonzero()[0])]\n",
    "atributos"
   ]
  },
  {
   "cell_type": "markdown",
   "metadata": {},
   "source": [
    "### ¿Cómo funciona?\n",
    "\n",
    "En este algoritmo, dado un modelo predictivo que asigna un coeficiente de importancia a cada atributo (como ExtraTreesClassifier), el objetivo de la *Eliminación Recursiva de atributos* es ir seleccionado en forma recursiva un número cada vez más pequeño de atributos. Primero comienza con todos los atributos del [dataset](https://es.wikipedia.org/wiki/Conjunto_de_datos) y luego en cada pasada va eliminando aquellos que tenga el menor coeficiente de importancia hasta alcanzar el número de atributos deseado.\n",
    "\n",
    "Si vemos los 15 atributos seleccionados por este otro algoritmo, existen muchas diferencias con los que selecciono el modelo anterior; en general, la Eliminación Recursiva de atributos suele ser mucho más precisa, pero también consume mucho más tiempo y recursos, ya que requiere que entrenemos a un *modelo predictivo* para poder obtener sus resultados.\n",
    "\n",
    "Por último, también podríamos utilizar ese coeficiente de importancia que nos proporciona el modelo como una guía adicional para refinar nuestra [selección de atributos](https://en.wikipedia.org/wiki/Feature_selection)."
   ]
  },
  {
   "cell_type": "code",
   "execution_count": 9,
   "metadata": {},
   "outputs": [
    {
     "data": {
      "text/plain": [
       "array([  2.59616058e-03,   3.03252110e-03,   2.71464477e-03,\n",
       "         2.51952243e-03,   2.34433609e-03,   6.01722535e-04,\n",
       "         4.82782938e-04,   2.24732045e-03,   2.07872966e-03,\n",
       "         1.29249803e-03,   1.17189225e-03,   9.77218420e-06,\n",
       "         6.12421074e-04,   5.79137133e-05,   2.40594405e-03])"
      ]
     },
     "execution_count": 9,
     "metadata": {},
     "output_type": "execute_result"
    }
   ],
   "source": [
    "# Importancia de atributos.\n",
    "modelo.fit(entrenar, donor_flag)\n",
    "modelo.feature_importances_[:15]"
   ]
  },
  {
   "cell_type": "code",
   "execution_count": 10,
   "metadata": {},
   "outputs": [
    {
     "data": {
      "text/plain": [
       "array([ 0.00369165,  0.00353173,  0.00348298,  0.00336095,  0.00331946,\n",
       "        0.00331828,  0.00331345,  0.00326505,  0.00316758,  0.00316587,\n",
       "        0.00313431,  0.00311334,  0.00310065,  0.00307309,  0.00304518])"
      ]
     },
     "execution_count": 10,
     "metadata": {},
     "output_type": "execute_result"
    }
   ],
   "source": [
    "# 15 coeficientes más altos\n",
    "np.sort(modelo.feature_importances_)[::-1][:15]"
   ]
  },
  {
   "cell_type": "markdown",
   "metadata": {},
   "source": [
    "Analicemos algunos de estos atributos en forma individual para tener una idea de cuanto puede ser que aporten a la exactitud del modelo. Podríamos comparar por ejemplo, el promedio de donaciones que podríamos obtener con este atributo contra el promedio de todo el [dataset](https://es.wikipedia.org/wiki/Conjunto_de_datos). Tomemos por ejemplo al atributo LASTGIFT que representa el importe de la última donación que realizó cada persona incluida en el conjunto de datos. En principio parece lógico que este atributo sea significativo para el modelo, ya que si donó en el pasado, hay bastantes posibilidades de que vuelva a donar en esta oportunidad. "
   ]
  },
  {
   "cell_type": "code",
   "execution_count": 11,
   "metadata": {},
   "outputs": [
    {
     "data": {
      "text/plain": [
       "5.0377358490566033"
      ]
     },
     "execution_count": 11,
     "metadata": {},
     "output_type": "execute_result"
    }
   ],
   "source": [
    "# Probabilidad de ser donante de todo el dataset.\n",
    "prob_gral = (ONG_data[ONG_data.DONOR_AMOUNT > 0]['DONOR_AMOUNT'].count()  \\\n",
    "                   / ONG_data['DONOR_AMOUNT'].count()) * 100.0\n",
    "prob_gral "
   ]
  },
  {
   "cell_type": "code",
   "execution_count": 12,
   "metadata": {},
   "outputs": [
    {
     "data": {
      "text/plain": [
       "6.9347104389524157"
      ]
     },
     "execution_count": 12,
     "metadata": {},
     "output_type": "execute_result"
    }
   ],
   "source": [
    "# Probabilidad de realizar donanción con LASTGIFT <= 10\n",
    "lastgift10 = (ONG_data[(ONG_data.DONOR_AMOUNT > 0) &\n",
    "                            (ONG_data.LASTGIFT <= 10)]['DONOR_AMOUNT'].count()  \\\n",
    "      / ONG_data[ONG_data.LASTGIFT <= 10]['DONOR_AMOUNT'].count()) * 100.0\n",
    "lastgift10"
   ]
  },
  {
   "cell_type": "code",
   "execution_count": 13,
   "metadata": {},
   "outputs": [
    {
     "data": {
      "image/png": "[encoded data removed]",
      "text/plain": [
       "<matplotlib.figure.Figure at 0x7f2ac03a3a58>"
      ]
     },
     "metadata": {},
     "output_type": "display_data"
    }
   ],
   "source": [
    "# graficando los resultados\n",
    "lastgift = pd.Series({'promedio gral': prob_gral, 'lastgift<=10': lastgift10})\n",
    "plot=lastgift.plot(kind='barh', \n",
    "                   color=['blue', 'green']).set_title('Pobabilidad de donar')"
   ]
  },
  {
   "cell_type": "markdown",
   "metadata": {},
   "source": [
    "Este último gráfico nos muestra claramente que con un valor del atributo LASTGIFT menor o igual a 10 las probabilidades de que esa persona realice una donación mejoran, pero veamos que pasa con el importe de la donación."
   ]
  },
  {
   "cell_type": "code",
   "execution_count": 14,
   "metadata": {},
   "outputs": [
    {
     "data": {
      "text/plain": [
       "14.889109446525177"
      ]
     },
     "execution_count": 14,
     "metadata": {},
     "output_type": "execute_result"
    }
   ],
   "source": [
    "# importe promedio de donación general\n",
    "donacion_prom = ONG_data[ONG_data.DONOR_AMOUNT > 0]['DONOR_AMOUNT'].mean()\n",
    "donacion_prom"
   ]
  },
  {
   "cell_type": "code",
   "execution_count": 15,
   "metadata": {},
   "outputs": [
    {
     "data": {
      "text/plain": [
       "8.7553191489361701"
      ]
     },
     "execution_count": 15,
     "metadata": {},
     "output_type": "execute_result"
    }
   ],
   "source": [
    "# importe promedio de donación lastgift <= 10\n",
    "lastgift10_imp = ONG_data[(ONG_data.DONOR_AMOUNT > 0) & \n",
    "                         (ONG_data.LASTGIFT <= 10)]['DONOR_AMOUNT'].mean()\n",
    "lastgift10_imp"
   ]
  },
  {
   "cell_type": "code",
   "execution_count": 16,
   "metadata": {},
   "outputs": [
    {
     "data": {
      "image/png": "[encoded data removed]",
      "text/plain": [
       "<matplotlib.figure.Figure at 0x7f2ac0de5a20>"
      ]
     },
     "metadata": {},
     "output_type": "display_data"
    }
   ],
   "source": [
    "# graficando los resultados\n",
    "lastgift = pd.Series({'imp promedio gral': donacion_prom, \n",
    "                      'lastgift<=10': lastgift10_imp})\n",
    "plot=lastgift.plot(kind='barh', \n",
    "                   color=['blue', 'green']\n",
    "                  ).set_title('importe promedio de donación')"
   ]
  },
  {
   "cell_type": "markdown",
   "metadata": {},
   "source": [
    "Aquí vemos, que si bien las probabilidades de que sea un donador mejoran, el importe que se dona esta por debajo del promedio. En el caso de este atributo podemos ver que existe una [correlación](https://es.wikipedia.org/wiki/Correlaci%C3%B3n) inversa entre el importe de donación y la probabilidad de hacer una donación a la ONG.\n",
    "\n",
    "Hasta aquí llegamos en este artículo, la idea es que luego, cuando tengamos armado el modelo, podamos jugar con distintas combinaciones de atributos y ver como se comporta el modelo hasta alcanzar la combinación ideal de atributos. No se pierdan los próximos artículos!\n",
    "\n",
    "Saludos!\n",
    "\n",
    "*Este post fue escrito utilizando IPython notebook. Pueden descargar este [notebook](https://github.com/relopezbriega/relopezbriega.github.io/blob/master/downloads/MachineLearningPractica2.ipynb) o ver su version estática en [nbviewer](https://nbviewer.ipython.org/github/relopezbriega/relopezbriega.github.io/blob/master/downloads/MachineLearningPractica2.ipynb).*"
   ]
  }
 ],
 "metadata": {
  "kernelspec": {
   "display_name": "Python 3",
   "language": "python",
   "name": "python3"
  },
  "language_info": {
   "codemirror_mode": {
    "name": "ipython",
    "version": 3
   },
   "file_extension": ".py",
   "mimetype": "text/x-python",
   "name": "python",
   "nbconvert_exporter": "python",
   "pygments_lexer": "ipython3",
   "version": "3.5.2"
  }
 },
 "nbformat": 4,
 "nbformat_minor": 1
}
