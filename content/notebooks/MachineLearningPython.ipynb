{
 "cells": [
  {
   "cell_type": "markdown",
   "metadata": {},
   "source": [
    "# Machine Learning con Python"
   ]
  },
  {
   "cell_type": "markdown",
   "metadata": {},
   "source": [
    "*Esta notebook fue creada originalmente como un blog post por [Raúl E. López Briega](https://relopezbriega.com.ar/) en [Mi blog sobre Python](https://relopezbriega.github.io). El contenido esta bajo la licencia BSD.*"
   ]
  },
  {
   "cell_type": "markdown",
   "metadata": {},
   "source": [
    "<img alt=\"Machine Learning\" title=\"Machine Learning\" src=\"https://relopezbriega.github.io/images/machine-learning.jpg\">"
   ]
  },
  {
   "cell_type": "markdown",
   "metadata": {},
   "source": [
    "Una de las ramas de estudio que cada vez esta ganando más popularidad dentro de las [ciencias de la computación](https://es.wikipedia.org/wiki/Ciencias_de_la_computaci%C3%B3n) es el ***aprendizaje automático*** o ***[Machine Learning](https://es.wikipedia.org/wiki/Aprendizaje_autom%C3%A1tico)***. Muchos de los servicios que utilizamos en nuestro día a día como google, gmail, netflix, spotify o amazon se valen de las herramientas que les brinda el [Machine Learning](https://es.wikipedia.org/wiki/Aprendizaje_autom%C3%A1tico) para alcanzar un servicio cada vez más personalizado y lograr así ventajas competitivas sobre sus rivales. "
   ]
  },
  {
   "cell_type": "markdown",
   "metadata": {},
   "source": [
    "## Qué es Machine Learning?"
   ]
  },
  {
   "cell_type": "markdown",
   "metadata": {},
   "source": [
    "Pero, ¿qué es exactamente [Machine Learning](https://es.wikipedia.org/wiki/Aprendizaje_autom%C3%A1tico)?. El [Machine Learning](https://es.wikipedia.org/wiki/Aprendizaje_autom%C3%A1tico) es el diseño y estudio de las herramientas informáticas que utilizan la experiencia pasada para tomar decisiones futuras; es el estudio de programas que pueden aprenden de los datos. El objetivo fundamental del [Machine Learning](https://es.wikipedia.org/wiki/Aprendizaje_autom%C3%A1tico) es ***generalizar, o inducir una regla desconocida a partir de ejemplos donde esa regla es aplicada***. El ejemplo más típico donde podemos ver el uso del [Machine Learning](https://es.wikipedia.org/wiki/Aprendizaje_autom%C3%A1tico) es en el filtrado de los correo basura o spam. Mediante la observación de miles de correos electrónicos que han sido marcados previamente como basura, los filtros de spam aprenden a clasificar los mensajes nuevos. El [Machine Learning](https://es.wikipedia.org/wiki/Aprendizaje_autom%C3%A1tico) combina conceptos y técnicas de diferentes áreas del conocimiento, como las [matemáticas](https://es.wikipedia.org/wiki/Matem%C3%A1ticas), [estadísticas](https://es.wikipedia.org/wiki/Estad%C3%ADstica) y las [ciencias de la computación](https://es.wikipedia.org/wiki/Ciencias_de_la_computaci%C3%B3n); por tal motivo, hay muchas maneras de aprender la disciplina."
   ]
  },
  {
   "cell_type": "markdown",
   "metadata": {},
   "source": [
    "## Tipos de Machine Learning\n",
    "\n",
    "El [Machine Learning](https://es.wikipedia.org/wiki/Aprendizaje_autom%C3%A1tico) tiene una amplia gama de aplicaciones, incluyendo motores de búsqueda, diagnósticos médicos, detección de fraude en el uso de tarjetas de crédito, análisis del mercado de valores, clasificación de secuencias de ADN, reconocimiento del habla y del lenguaje escrito, juegos y robótica. Pero para poder abordar cada uno de estos temas es crucial en primer lugar distingir los distintos tipos de problemas de [Machine Learning](https://es.wikipedia.org/wiki/Aprendizaje_autom%C3%A1tico) con los que nos podemos encontrar.\n",
    "\n",
    "### Aprendizaje supervisado\n",
    "\n",
    "En los problemas de [aprendizaje supervisado](https://es.wikipedia.org/wiki/Aprendizaje_supervisado) se enseña o entrena al [algoritmo](https://es.wikipedia.org/wiki/Algoritmo) a partir de datos que ya vienen etiquetados con la respuesta correcta. Cuanto mayor es el conjunto de datos más el [algoritmo](https://es.wikipedia.org/wiki/Algoritmo) puede aprender sobre el tema. Una vez concluído el entrenamiento, se le brindan nuevos datos, ya sin las etiquetas de las respuestas correctas, y el [algoritmo](https://es.wikipedia.org/wiki/Algoritmo) de aprendizaje utiliza la experiencia pasada que adquirió durante la etapa de entrenamiento para predecir un resultado. Esto es similar al método de aprendizaje que se utiliza en las escuelas, donde se nos enseñan problemas y las formas de resolverlos, para que luego podamos aplicar los mismos métodos en situaciones similares.\n",
    "\n",
    "### Aprendizaje no supervisado\n",
    "\n",
    "En los problemas de [aprendizaje no supervisado](https://es.wikipedia.org/wiki/Aprendizaje_no_supervisado) el [algoritmo](https://es.wikipedia.org/wiki/Algoritmo) es entrenado usando un conjunto de datos que no tiene ninguna etiqueta; en este caso, nunca se le dice al [algoritmo](https://es.wikipedia.org/wiki/Algoritmo) lo que representan los datos. La idea es que el [algoritmo](https://es.wikipedia.org/wiki/Algoritmo) pueda encontrar por si solo patrones que ayuden a entender el conjunto de datos. El [aprendizaje no supervisado](https://es.wikipedia.org/wiki/Aprendizaje_no_supervisado) es similar al método que utilizamos para aprender a hablar cuando somos bebes, en un principio escuchamos hablar a nuestros padres y no entendemos nada; pero a medida que vamos escuchando miles de conversaciones, nuestro cerebro comenzará a formar un modelo sobre cómo funciona el lenguaje y comenzaremos a reconocer patrones y a esperar ciertos sonidos. \n",
    "\n",
    "### Aprendizaje por refuerzo\n",
    "\n",
    "En los problemas de aprendizaje por refuerzo, el [algoritmo](https://es.wikipedia.org/wiki/Algoritmo) aprende observando el mundo que le rodea. Su información de entrada es el feedback o retroalimentación que obtiene del mundo exterior como respuesta a sus acciones. Por lo tanto, el sistema aprende a base de ensayo-error. Un buen ejemplo de este tipo de aprendizaje lo podemos encontrar en los juegos, donde vamos probando nuevas estrategias y vamos seleccionando y perfeccionando aquellas que nos ayudan a ganar el juego. A medida que vamos adquiriendo más practica, el efecto acumulativo del refuerzo a nuestras acciones victoriosas terminará creando una estrategia ganadora."
   ]
  },
  {
   "cell_type": "markdown",
   "metadata": {},
   "source": [
    "## Sobreentrenamiento\n",
    "\n",
    "Como mencionamos cuando definimos al [Machine Learning](https://es.wikipedia.org/wiki/Aprendizaje_autom%C3%A1tico), la idea fundamental es encontrar patrones que podamos generalizar para luego poder aplicar esta generalización sobre los casos que todavía no hemos observado y realizar predicciones. Pero también puede ocurrir que durante el entrenamiento solo descubramos casualidades en los datos que se parecen a patrones interesantes, pero que no generalicen. Esto es lo que se conoce con el nombre de *[sobreentrenamiento](https://es.wikipedia.org/wiki/Sobreajuste) o sobreajuste*.\n",
    "\n",
    "El *[sobreentrenamiento](https://es.wikipedia.org/wiki/Sobreajuste)* es la tendencia que tienen la mayoría de los [algoritmos](https://es.wikipedia.org/wiki/Algoritmo) de [Machine Learning](https://es.wikipedia.org/wiki/Aprendizaje_autom%C3%A1tico) a ajustarse a unas características muy específicas de los datos de entrenamiento que no tienen relación causal con la *función objetivo* que estamos buscando para generalizar. El ejemplo más extremo de un modelo *sobreentrenado* es un modelo que solo memoriza las respuestas correctas; este modelo al ser utilizado con datos que nunca antes ha visto va a tener un rendimiento azaroso, ya que nunca logró generalizar un patrón para predecir.\n",
    "\n",
    "### Como evitar el sobreentrenamiento\n",
    "\n",
    "Como mencionamos anteriormente, todos los modelos de [Machine Learning](https://es.wikipedia.org/wiki/Aprendizaje_autom%C3%A1tico) tienen tendencia al *[sobreentrenamiento](https://es.wikipedia.org/wiki/Sobreajuste)*; es por esto que debemos aprender a convivir con el mismo y tratar de tomar medidas preventivas para reducirlo lo más posible. Las dos principales estrategias para lidiar son el *[sobreentrenamiento](https://es.wikipedia.org/wiki/Sobreajuste)* son: la ***retención de datos*** y la ***[validación cruzada](https://es.wikipedia.org/wiki/Validaci%C3%B3n_cruzada)***.\n",
    "\n",
    "En el primer caso, la idea es dividir nuestro [conjunto de datos](https://es.wikipedia.org/wiki/Conjunto_de_datos), en uno o varios conjuntos de entrenamiento y otro/s conjuntos de evaluación. Es decir, que no le vamos a pasar todos nuestros datos al [algoritmo](https://es.wikipedia.org/wiki/Algoritmo) durante el entrenamiento, sino que vamos a *retener* una parte de los datos de entrenamiento para realizar una evaluación de la efectividad del modelo. Con esto lo que buscamos es evitar que los mismos datos que usamos para entrenar sean los mismos que utilizamos para evaluar. De esta forma vamos a poder analizar con más precisión como el modelo se va comportando a medida que más lo vamos entrenando y poder detectar el punto crítico en el que el modelo deja de generalizar y comienza a *sobreajustarse* a los datos de entrenamiento.\n",
    "\n",
    "La *[validación cruzada](https://es.wikipedia.org/wiki/Validaci%C3%B3n_cruzada)* es un procedimiento más sofisticado que el anterior. En lugar de solo obtener una simple estimación de la efectividad de la *generalización*; la idea es realizar un análisis estadístico para obtener otras medidas del rendimiento estimado, como la media y la varianza, y así poder entender cómo se espera que el rendimiento varíe a través de los distintos conjuntos de datos. Esta variación es fundamental para la evaluación de la confianza en la estimación del rendimiento.\n",
    "La *[validación cruzada](https://es.wikipedia.org/wiki/Validaci%C3%B3n_cruzada)* también hace un mejor uso de un conjunto de datos limitado; ya que a diferencia de la simple división de los datos en uno el entrenamiento y otro de evaluación; la *[validación cruzada](https://es.wikipedia.org/wiki/Validaci%C3%B3n_cruzada)* calcula sus estimaciones sobre todo el [conjunto de datos](https://es.wikipedia.org/wiki/Conjunto_de_datos) mediante la realización de múltiples divisiones e intercambios sistemáticos entre datos de entrenamiento y datos de evaluación.\n"
   ]
  },
  {
   "cell_type": "markdown",
   "metadata": {
    "collapsed": true
   },
   "source": [
    "## Pasos para construir un modelo de machine learning\n",
    "\n",
    "Construir un modelo de [Machine Learning](https://es.wikipedia.org/wiki/Aprendizaje_autom%C3%A1tico), no se reduce solo a utilizar un [algoritmo](https://es.wikipedia.org/wiki/Algoritmo) de aprendizaje o utilizar una librería de [Machine Learning](https://es.wikipedia.org/wiki/Aprendizaje_autom%C3%A1tico); sino que es todo un proceso que suele involucrar los siguientes pasos:\n",
    "\n",
    "1. **Recolectar los datos**. Podemos recolectar los datos desde muchas fuentes, podemos por ejemplo extraer los datos de un sitio web o obtener los datos utilizando una [API](https://es.wikipedia.org/wiki/Interfaz_de_programaci%C3%B3n_de_aplicaciones) o desde una base de datos. Podemos también utilizar otros dispositivos que recolectan los datos por nosotros; o utilizar datos que son de dominio público. El número de opciones que tenemos para recolectar datos no tiene fin!. Este paso parece obvio, pero es uno de los que más complicaciones trae y más tiempo consume. \n",
    "\n",
    "2. **Preprocesar los datos**. Una vez que tenemos los datos, tenemos que asegurarnos que tiene el formato correcto para nutrir nuestro [algoritmo](https://es.wikipedia.org/wiki/Algoritmo) de aprendizaje. Es prácticamente inevitable tener que realizar varias tareas de preprocesamiento antes de poder utilizar los datos. Igualmente este punto suele ser mucho más sencillo que el paso anterior.\n",
    "\n",
    "3. **Explorar los datos**. Una vez que ya tenemos los datos y están con el formato correcto, podemos realizar un pre análisis para corregir los casos de valores faltantes o intentar encontrar a simple vista algún patrón en los mismos que nos facilite la construcción del modelo. En esta etapa suelen ser de mucha utilidad las medidas estadísticas y los gráficos en 2 y 3 dimensiones para tener una idea visual de como se comportan nuestros datos. En este punto podemos detectar [valores atípicos](https://es.wikipedia.org/wiki/Valor_at%C3%ADpico) que debamos descartar; o encontrar las características que más influencia tienen para realizar una predicción.\n",
    "\n",
    "4. **Entrenar el [algoritmo](https://es.wikipedia.org/wiki/Algoritmo)**. Aquí es donde comenzamos a utilizar las técnicas de [Machine Learning](https://es.wikipedia.org/wiki/Aprendizaje_autom%C3%A1tico) realmente. En esta etapa nutrimos al o los [algoritmos](https://es.wikipedia.org/wiki/Algoritmo) de aprendizaje con los datos que venimos procesando en las etapas anteriores. La idea es que los [algoritmos](https://es.wikipedia.org/wiki/Algoritmo) puedan extraer información útil de los datos que le pasamos para luego poder hacer predicciones. \n",
    "\n",
    "5. **Evaluar el [algoritmo](https://es.wikipedia.org/wiki/Algoritmo)**. En esta etapa ponemos a prueba la información o conocimiento que el [algoritmo](https://es.wikipedia.org/wiki/Algoritmo) obtuvo del entrenamiento del paso anterior. Evaluamos que tan preciso es el algoritmo en sus predicciones y si no estamos muy conforme con su rendimiento, podemos volver a la etapa anterior y continuar entrenando el [algoritmo](https://es.wikipedia.org/wiki/Algoritmo) cambiando algunos parámetros hasta lograr un rendimiento aceptable.  \n",
    "\n",
    "6. **Utilizar el modelo**. En esta ultima etapa, ya ponemos a nuestro modelo a enfrentarse al problema real. Aquí también podemos medir su rendimiento, lo que tal vez nos obligue a revisar todos los pasos anteriores. "
   ]
  },
  {
   "cell_type": "markdown",
   "metadata": {},
   "source": [
    "## Librerías de Python para machine learning\n",
    "\n",
    "Como siempre me gusta comentar, una de las grandes ventajas que ofrece [Python](https://python.org/) sobre otros lenguajes de programación; es lo grande y prolifera que es la comunidad de desarrolladores que lo rodean; comunidad que ha contribuido con una gran variedad de librerías de primer nivel que extienden la funcionalidades del lenguaje. Para el caso de [Machine Learning](https://es.wikipedia.org/wiki/Aprendizaje_autom%C3%A1tico), las principales librerías que podemos utilizar son: \n",
    "\n",
    "### Scikit-Learn\n",
    "\n",
    "[Scikit-learn](https://scikit-learn.org/stable/) es la principal librería que existe para trabajar con [Machine Learning](https://es.wikipedia.org/wiki/Aprendizaje_autom%C3%A1tico), incluye la implementación de un gran número de [algoritmos](https://es.wikipedia.org/wiki/Algoritmo) de aprendizaje. La podemos utilizar para <a href='https://scikit-learn.org/stable/supervised_learning.html#supervised-learning' target='_blank'>clasificaciones</a>, <a href='https://scikit-learn.org/stable/modules/feature_extraction.html#feature-extractionfeature' target='_blank'>extraccion de características</a>, <a href='https://scikit-learn.org/stable/supervised_learning.html#supervised-learning' target='_blank'>regresiones</a>, <a href='https://scikit-learn.org/stable/modules/clustering.html#clustering' target='_blank'>agrupaciones</a>, <a href='https://scikit-learn.org/stable/modules/decomposition.html#decompositions' target='_blank'>reducción de dimensiones</a>, <a href='https://scikit-learn.org/stable/model_selection.html#model-selection' target='_blank'>selección de modelos</a>, o <a href='https://scikit-learn.org/stable/modules/preprocessing.html#preprocessing' target='_blank'>preprocesamiento</a>. Posee una [API](https://es.wikipedia.org/wiki/Interfaz_de_programaci%C3%B3n_de_aplicaciones) que es consistente en todos los modelos y se integra muy bien con el resto de los paquetes científicos que ofrece [Python](https://python.org/). Esta librería también nos facilita las tareas de evaluación, diagnostico y [validaciones cruzadas](https://es.wikipedia.org/wiki/Validaci%C3%B3n_cruzada) ya que nos proporciona varios métodos de fábrica para poder realizar estas tareas en forma muy simple. \n",
    "\n",
    "\n",
    "### Statsmodels\n",
    "\n",
    "[Statsmodels](https://statsmodels.sourceforge.net/) es otra gran librería que hace foco en modelos estadísticos y se utiliza principalmente para análisis predictivos y exploratorios. Al igual que [Scikit-learn](https://scikit-learn.org/stable/), también se integra muy bien con el resto de los paquetes cientificos de [Python](https://python.org/). Si deseamos ajustar modelos lineales, hacer una análisis estadístico, o tal vez un poco de modelado predictivo, entonces [Statsmodels](https://statsmodels.sourceforge.net/) es la librería ideal. Las pruebas estadísticas que ofrece son bastante amplias y abarcan tareas de validación para la mayoría de los casos. \n",
    "\n",
    "### PyMC\n",
    "\n",
    "[pyMC](https://pymc-devs.github.io/pymc/index.html) es un módulo de [Python](https://python.org/) que implementa modelos estadísticos bayesianos, incluyendo la [cadena de Markov Monte Carlo(MCMC)](https://en.wikipedia.org/wiki/Markov_chain_Monte_Carlo). [pyMC](https://pymc-devs.github.io/pymc/index.html)  ofrece funcionalidades para hacer el análisis bayesiano lo mas simple posible. Incluye los modelos [bayesianos](https://es.wikipedia.org/wiki/Inferencia_bayesiana),  distribuciones estadísticas y herramientas de diagnostico  para la covarianza de los modelos. Si queremos realizar un análisis [bayesiano](https://es.wikipedia.org/wiki/Inferencia_bayesiana) esta es sin duda la librería a utilizar.\n",
    "\n",
    "### NTLK\n",
    "\n",
    "[NLTK](https://www.nltk.org/) es la librería líder para el procesamiento del lenguaje natural o [NLP](https://es.wikipedia.org/wiki/Procesamiento_de_lenguajes_naturales) por sus siglas en inglés. Proporciona interfaces fáciles de usar a más de 50 cuerpos y recursos léxicos, como [WordNet](https://wordnet.princeton.edu/), junto con un conjunto de bibliotecas de procesamiento de texto para la clasificación, tokenización, el etiquetado, el análisis y el razonamiento semántico. \n",
    "\n",
    "Obviamente, aquí solo estoy listando unas pocas de las muchas librerías que existen en [Python](https://python.org/) para trabajar con problemas de [Machine Learning](https://es.wikipedia.org/wiki/Aprendizaje_autom%C3%A1tico), los invito a realizar su propia investigación sobre el tema."
   ]
  },
  {
   "cell_type": "markdown",
   "metadata": {
    "collapsed": true
   },
   "source": [
    "## Algoritmos más utilizados\n",
    "\n",
    "Los [algoritmos](https://es.wikipedia.org/wiki/Algoritmo)  que más se suelen utilizar en los problemas de [Machine Learning](https://es.wikipedia.org/wiki/Aprendizaje_autom%C3%A1tico) son los siguientes:\n",
    "\n",
    "1. [Regresión Lineal](https://es.wikipedia.org/wiki/Regresi%C3%B3n_lineal)\n",
    "2. [Regresión Logística](https://es.wikipedia.org/wiki/Regresi%C3%B3n_log%C3%ADstica)\n",
    "3. [Arboles de Decision](https://es.wikipedia.org/wiki/%C3%81rbol_de_decisi%C3%B3n)\n",
    "4. [Random Forest](https://es.wikipedia.org/wiki/Random_forest)\n",
    "5. [SVM](https://es.wikipedia.org/wiki/M%C3%A1quinas_de_vectores_de_soporte) o Máquinas de vectores de soporte.\n",
    "6. [KNN](https://es.wikipedia.org/wiki/K-vecinos_m%C3%A1s_cercanos) o K vecinos más cercanos.\n",
    "7. [K-means](https://es.wikipedia.org/wiki/K-means)\n",
    "\n",
    "Todos ellos se pueden aplicar a casi cualquier problema de datos y obviamente estan todos implementados por la excelente librería de [Python](https://python.org/), [Scikit-learn](https://scikit-learn.org/stable/). Veamos algunos ejemplos de ellos."
   ]
  },
  {
   "cell_type": "markdown",
   "metadata": {
    "collapsed": true
   },
   "source": [
    "### Regresión Lineal\n",
    "\n",
    "Se utiliza para estimar los valores reales (costo de las viviendas, el número de llamadas, ventas totales, etc.) basados en variables continuas. La idea es tratar de establecer la relación entre las variables independientes y dependientes por medio de ajustar una mejor línea recta con respecto a los puntos. Esta línea de mejor ajuste se conoce como línea de regresión y esta representada por la siguiente ecuación lineal:\n",
    "\n",
    "$$Y = \\beta_{0} + \\beta_{1}X_{1} + \\beta_{2}X_{2} + ... + \\beta_{n}X_{n}$$\n",
    "\n",
    "Veamos un pequeño ejemplo de como se implementa en [Python](https://python.org/). En este ejemplo voy a utilizar el dataset Boston que ya viene junto con [Scikit-learn](https://scikit-learn.org/stable/) y es ideal para practicar con [Regresiones Lineales](https://es.wikipedia.org/wiki/Regresi%C3%B3n_lineal); el mismo contiene precios de casas de varias áreas de la ciudad de Boston. "
   ]
  },
  {
   "cell_type": "code",
   "execution_count": 1,
   "metadata": {
    "collapsed": true
   },
   "outputs": [],
   "source": [
    "# graficos embebidos\n",
    "%matplotlib inline"
   ]
  },
  {
   "cell_type": "code",
   "execution_count": 2,
   "metadata": {},
   "outputs": [
    {
     "data": {
      "text/html": [
       "<div>\n",
       "<style>\n",
       "    .dataframe thead tr:only-child th {\n",
       "        text-align: right;\n",
       "    }\n",
       "\n",
       "    .dataframe thead th {\n",
       "        text-align: left;\n",
       "    }\n",
       "\n",
       "    .dataframe tbody tr th {\n",
       "        vertical-align: top;\n",
       "    }\n",
       "</style>\n",
       "<table border=\"1\" class=\"dataframe\">\n",
       "  <thead>\n",
       "    <tr style=\"text-align: right;\">\n",
       "      <th></th>\n",
       "      <th>CRIM</th>\n",
       "      <th>ZN</th>\n",
       "      <th>INDUS</th>\n",
       "      <th>CHAS</th>\n",
       "      <th>NOX</th>\n",
       "      <th>RM</th>\n",
       "      <th>AGE</th>\n",
       "      <th>DIS</th>\n",
       "      <th>RAD</th>\n",
       "      <th>TAX</th>\n",
       "      <th>PTRATIO</th>\n",
       "      <th>B</th>\n",
       "      <th>LSTAT</th>\n",
       "      <th>TARGET</th>\n",
       "    </tr>\n",
       "  </thead>\n",
       "  <tbody>\n",
       "    <tr>\n",
       "      <th>0</th>\n",
       "      <td>0.00632</td>\n",
       "      <td>18.0</td>\n",
       "      <td>2.31</td>\n",
       "      <td>0.0</td>\n",
       "      <td>0.538</td>\n",
       "      <td>6.575</td>\n",
       "      <td>65.2</td>\n",
       "      <td>4.0900</td>\n",
       "      <td>1.0</td>\n",
       "      <td>296.0</td>\n",
       "      <td>15.3</td>\n",
       "      <td>396.90</td>\n",
       "      <td>4.98</td>\n",
       "      <td>24.0</td>\n",
       "    </tr>\n",
       "    <tr>\n",
       "      <th>1</th>\n",
       "      <td>0.02731</td>\n",
       "      <td>0.0</td>\n",
       "      <td>7.07</td>\n",
       "      <td>0.0</td>\n",
       "      <td>0.469</td>\n",
       "      <td>6.421</td>\n",
       "      <td>78.9</td>\n",
       "      <td>4.9671</td>\n",
       "      <td>2.0</td>\n",
       "      <td>242.0</td>\n",
       "      <td>17.8</td>\n",
       "      <td>396.90</td>\n",
       "      <td>9.14</td>\n",
       "      <td>21.6</td>\n",
       "    </tr>\n",
       "    <tr>\n",
       "      <th>2</th>\n",
       "      <td>0.02729</td>\n",
       "      <td>0.0</td>\n",
       "      <td>7.07</td>\n",
       "      <td>0.0</td>\n",
       "      <td>0.469</td>\n",
       "      <td>7.185</td>\n",
       "      <td>61.1</td>\n",
       "      <td>4.9671</td>\n",
       "      <td>2.0</td>\n",
       "      <td>242.0</td>\n",
       "      <td>17.8</td>\n",
       "      <td>392.83</td>\n",
       "      <td>4.03</td>\n",
       "      <td>34.7</td>\n",
       "    </tr>\n",
       "    <tr>\n",
       "      <th>3</th>\n",
       "      <td>0.03237</td>\n",
       "      <td>0.0</td>\n",
       "      <td>2.18</td>\n",
       "      <td>0.0</td>\n",
       "      <td>0.458</td>\n",
       "      <td>6.998</td>\n",
       "      <td>45.8</td>\n",
       "      <td>6.0622</td>\n",
       "      <td>3.0</td>\n",
       "      <td>222.0</td>\n",
       "      <td>18.7</td>\n",
       "      <td>394.63</td>\n",
       "      <td>2.94</td>\n",
       "      <td>33.4</td>\n",
       "    </tr>\n",
       "    <tr>\n",
       "      <th>4</th>\n",
       "      <td>0.06905</td>\n",
       "      <td>0.0</td>\n",
       "      <td>2.18</td>\n",
       "      <td>0.0</td>\n",
       "      <td>0.458</td>\n",
       "      <td>7.147</td>\n",
       "      <td>54.2</td>\n",
       "      <td>6.0622</td>\n",
       "      <td>3.0</td>\n",
       "      <td>222.0</td>\n",
       "      <td>18.7</td>\n",
       "      <td>396.90</td>\n",
       "      <td>5.33</td>\n",
       "      <td>36.2</td>\n",
       "    </tr>\n",
       "  </tbody>\n",
       "</table>\n",
       "</div>"
      ],
      "text/plain": [
       "      CRIM    ZN  INDUS  CHAS    NOX     RM   AGE     DIS  RAD    TAX  \\\n",
       "0  0.00632  18.0   2.31   0.0  0.538  6.575  65.2  4.0900  1.0  296.0   \n",
       "1  0.02731   0.0   7.07   0.0  0.469  6.421  78.9  4.9671  2.0  242.0   \n",
       "2  0.02729   0.0   7.07   0.0  0.469  7.185  61.1  4.9671  2.0  242.0   \n",
       "3  0.03237   0.0   2.18   0.0  0.458  6.998  45.8  6.0622  3.0  222.0   \n",
       "4  0.06905   0.0   2.18   0.0  0.458  7.147  54.2  6.0622  3.0  222.0   \n",
       "\n",
       "   PTRATIO       B  LSTAT  TARGET  \n",
       "0     15.3  396.90   4.98    24.0  \n",
       "1     17.8  396.90   9.14    21.6  \n",
       "2     17.8  392.83   4.03    34.7  \n",
       "3     18.7  394.63   2.94    33.4  \n",
       "4     18.7  396.90   5.33    36.2  "
      ]
     },
     "execution_count": 2,
     "metadata": {},
     "output_type": "execute_result"
    }
   ],
   "source": [
    "# importando pandas, numpy y matplotlib\n",
    "import pandas as pd\n",
    "import numpy as np\n",
    "import matplotlib.pyplot as plt\n",
    "\n",
    "# importando los datasets de sklearn\n",
    "from sklearn import datasets\n",
    "\n",
    "boston = datasets.load_boston()\n",
    "boston_df = pd.DataFrame(boston.data, columns=boston.feature_names)\n",
    "boston_df['TARGET'] = boston.target\n",
    "boston_df.head() # estructura de nuestro dataset."
   ]
  },
  {
   "cell_type": "code",
   "execution_count": 3,
   "metadata": {},
   "outputs": [
    {
     "data": {
      "text/plain": [
       "LinearRegression(copy_X=True, fit_intercept=True, n_jobs=1, normalize=False)"
      ]
     },
     "execution_count": 3,
     "metadata": {},
     "output_type": "execute_result"
    }
   ],
   "source": [
    "# importando el modelo de regresión lineal\n",
    "from sklearn.linear_model import LinearRegression\n",
    "\n",
    "rl = LinearRegression() # Creando el modelo.\n",
    "rl.fit(boston.data, boston.target) # ajustando el modelo"
   ]
  },
  {
   "cell_type": "code",
   "execution_count": 4,
   "metadata": {},
   "outputs": [
    {
     "data": {
      "text/plain": [
       "[('CRIM', -0.10717055656035711),\n",
       " ('ZN', 0.046395219529796805),\n",
       " ('INDUS', 0.020860239532172288),\n",
       " ('CHAS', 2.6885613993179822),\n",
       " ('NOX', -17.795758660308522),\n",
       " ('RM', 3.8047524602580101),\n",
       " ('AGE', 0.00075106170332574131),\n",
       " ('DIS', -1.4757587965198171),\n",
       " ('RAD', 0.30565503833910218),\n",
       " ('TAX', -0.012329346305270897),\n",
       " ('PTRATIO', -0.95346355469055977),\n",
       " ('B', 0.0093925127221893244),\n",
       " ('LSTAT', -0.5254666329007841)]"
      ]
     },
     "execution_count": 4,
     "metadata": {},
     "output_type": "execute_result"
    }
   ],
   "source": [
    "# Lista de coeficientes B para cada X\n",
    "list(zip(boston.feature_names, rl.coef_))"
   ]
  },
  {
   "cell_type": "code",
   "execution_count": 5,
   "metadata": {},
   "outputs": [
    {
     "data": {
      "text/html": [
       "<div>\n",
       "<style>\n",
       "    .dataframe thead tr:only-child th {\n",
       "        text-align: right;\n",
       "    }\n",
       "\n",
       "    .dataframe thead th {\n",
       "        text-align: left;\n",
       "    }\n",
       "\n",
       "    .dataframe tbody tr th {\n",
       "        vertical-align: top;\n",
       "    }\n",
       "</style>\n",
       "<table border=\"1\" class=\"dataframe\">\n",
       "  <thead>\n",
       "    <tr style=\"text-align: right;\">\n",
       "      <th></th>\n",
       "      <th>Pred</th>\n",
       "    </tr>\n",
       "  </thead>\n",
       "  <tbody>\n",
       "    <tr>\n",
       "      <th>0</th>\n",
       "      <td>30.008213</td>\n",
       "    </tr>\n",
       "    <tr>\n",
       "      <th>1</th>\n",
       "      <td>25.029861</td>\n",
       "    </tr>\n",
       "    <tr>\n",
       "      <th>2</th>\n",
       "      <td>30.570232</td>\n",
       "    </tr>\n",
       "    <tr>\n",
       "      <th>3</th>\n",
       "      <td>28.608141</td>\n",
       "    </tr>\n",
       "    <tr>\n",
       "      <th>4</th>\n",
       "      <td>27.942882</td>\n",
       "    </tr>\n",
       "  </tbody>\n",
       "</table>\n",
       "</div>"
      ],
      "text/plain": [
       "        Pred\n",
       "0  30.008213\n",
       "1  25.029861\n",
       "2  30.570232\n",
       "3  28.608141\n",
       "4  27.942882"
      ]
     },
     "execution_count": 5,
     "metadata": {},
     "output_type": "execute_result"
    }
   ],
   "source": [
    "# haciendo las predicciones\n",
    "predicciones = rl.predict(boston.data)\n",
    "predicciones_df = pd.DataFrame(predicciones, columns=['Pred'])\n",
    "predicciones_df.head() # predicciones de las primeras 5 lineas"
   ]
  },
  {
   "cell_type": "code",
   "execution_count": 6,
   "metadata": {},
   "outputs": [
    {
     "data": {
      "text/plain": [
       "5.6871503553921065e-15"
      ]
     },
     "execution_count": 6,
     "metadata": {},
     "output_type": "execute_result"
    }
   ],
   "source": [
    "# Calculando el desvio\n",
    "np.mean(boston.target - predicciones)"
   ]
  },
  {
   "cell_type": "markdown",
   "metadata": {},
   "source": [
    "Como podemos ver, el desvío del modelo es pequeño, por lo que sus resultados para este ejemplo son bastante confiables."
   ]
  },
  {
   "cell_type": "markdown",
   "metadata": {},
   "source": [
    "### Regresión Logística\n",
    "\n",
    "Los modelos lineales, también pueden ser utilizados para clasificaciones; es decir, que primero ajustamos el modelo lineal a la probabilidad de que una cierta clase o categoría ocurra y, a luego, utilizamos una función para crear un umbral en el cual especificamos el resultado de una de estas clases o categorías. La función que utiliza este modelo, no es ni más ni menos que la función logística.\n",
    "\n",
    "$$f(x) = \\frac{1}{1 + e^{-1}}$$\n",
    "\n",
    "Veamos, aquí también un pequeño ejemplo en [Python](https://python.org/)."
   ]
  },
  {
   "cell_type": "code",
   "execution_count": 7,
   "metadata": {
    "collapsed": true
   },
   "outputs": [],
   "source": [
    "# Creando un dataset de ejemplo \n",
    "from sklearn.datasets import make_classification\n",
    "X, y = make_classification(n_samples=1000, n_features=4)"
   ]
  },
  {
   "cell_type": "code",
   "execution_count": 8,
   "metadata": {
    "collapsed": true
   },
   "outputs": [],
   "source": [
    "# Importando el modelo\n",
    "from sklearn.linear_model import LogisticRegression\n",
    "\n",
    "rlog = LogisticRegression() # Creando el modelo\n",
    "\n",
    "# Dividiendo el dataset en entrenamiento y evaluacion\n",
    "X_entrenamiento = X[:-200]\n",
    "X_evaluacion = X[-200:]\n",
    "y_entrenamiento = y[:-200]\n",
    "y_evaluacion = y[-200:]\n",
    "\n",
    "rlog.fit(X_entrenamiento, y_entrenamiento) #ajustando el modelo\n",
    "\n",
    "# Realizando las predicciones\n",
    "y_predic_entrenamiento = rlog.predict(X_entrenamiento) \n",
    "y_predic_evaluacion = rlog.predict(X_evaluacion)"
   ]
  },
  {
   "cell_type": "code",
   "execution_count": 9,
   "metadata": {},
   "outputs": [
    {
     "name": "stdout",
     "output_type": "stream",
     "text": [
      "sobre datos de entrenamiento: 0.92\n",
      "sobre datos de evaluación: 0.91\n"
     ]
    }
   ],
   "source": [
    "# Verificando la exactitud del modelo\n",
    "entrenamiento = (y_predic_entrenamiento == y_entrenamiento).sum().astype(float) / y_entrenamiento.shape[0]\n",
    "print(\"sobre datos de entrenamiento: {0:.2f}\".format(entrenamiento))\n",
    "evaluacion = (y_predic_evaluacion == y_evaluacion).sum().astype(float) / y_evaluacion.shape[0]\n",
    "print(\"sobre datos de evaluación: {0:.2f}\".format(evaluacion))"
   ]
  },
  {
   "cell_type": "markdown",
   "metadata": {},
   "source": [
    "Como podemos ver en este ejemplo también nuestro modelo tiene bastante precisión clasificando las categorías de nuestro dataset."
   ]
  },
  {
   "cell_type": "markdown",
   "metadata": {},
   "source": [
    "### Arboles de decisión\n",
    "\n",
    "Los [Arboles de Decision](https://es.wikipedia.org/wiki/%C3%81rbol_de_decisi%C3%B3n) son diagramas con construcciones lógicas, muy similares a los sistemas de predicción basados en reglas, que sirven para representar y categorizar una serie de condiciones que ocurren de forma sucesiva, para la resolución de un problema.\n",
    "Los [Arboles de Decision](https://es.wikipedia.org/wiki/%C3%81rbol_de_decisi%C3%B3n) están compuestos por nodos interiores, nodos terminales y ramas que emanan de los nodos interiores. Cada nodo interior en el árbol contiene una prueba de un atributo, y cada rama representa un valor distinto del atributo. Siguiendo las ramas desde el nodo raíz hacia abajo, cada ruta finalmente termina en un nodo terminal creando una segmentación de los datos. Veamos aquí también un pequeño ejemplo en [Python](https://python.org/)."
   ]
  },
  {
   "cell_type": "code",
   "execution_count": 10,
   "metadata": {
    "collapsed": true
   },
   "outputs": [],
   "source": [
    "# Creando un dataset de ejemplo\n",
    "X, y = datasets.make_classification(1000, 20, n_informative=3)\n",
    "\n",
    "# Importando el arbol de decisión\n",
    "from sklearn.tree import DecisionTreeClassifier\n",
    "from sklearn import tree\n",
    "\n",
    "ad = DecisionTreeClassifier(criterion='entropy', max_depth=5) # Creando el modelo\n",
    "ad.fit(X, y) # Ajustando el modelo\n",
    "\n",
    "#generando archivo para graficar el arbol\n",
    "with open(\"mi_arbol.dot\", 'w') as archivo_dot:\n",
    "    tree.export_graphviz(ad, out_file = archivo_dot)"
   ]
  },
  {
   "cell_type": "code",
   "execution_count": 11,
   "metadata": {
    "collapsed": true
   },
   "outputs": [],
   "source": [
    "# utilizando el lenguaje dot para graficar el arbol.\n",
    "!dot -Tjpeg mi_arbol.dot -o arbol_decision.jpeg"
   ]
  },
  {
   "cell_type": "markdown",
   "metadata": {},
   "source": [
    "Luego de usar el lenguaje [dot](https://www.graphviz.org/content/dot-language) para convertir nuestro arbol a formato jpeg, ya podemos ver la imagen del mismo.\n",
    "\n",
    "<img alt=\"arbol de decision\" title=\"arbol de decision\" src=\"https://relopezbriega.github.io/images/arbol_decision.jpeg\">"
   ]
  },
  {
   "cell_type": "code",
   "execution_count": 12,
   "metadata": {},
   "outputs": [
    {
     "name": "stdout",
     "output_type": "stream",
     "text": [
      "precisión del modelo:  0.96\n"
     ]
    }
   ],
   "source": [
    "# verificando la precisión\n",
    "print(\"precisión del modelo: {0: .2f}\".format((y == ad.predict(X)).mean()))"
   ]
  },
  {
   "cell_type": "markdown",
   "metadata": {},
   "source": [
    "En este ejemplo, nuestro árbol tiene una precisión del 89%. Tener en cuenta que los [Arboles de Decision](https://es.wikipedia.org/wiki/%C3%81rbol_de_decisi%C3%B3n) tienen tendencia a *sobreentrenar* los datos."
   ]
  },
  {
   "cell_type": "markdown",
   "metadata": {},
   "source": [
    "### Random Forest\n",
    "\n",
    "En lugar de utilizar solo un arbol para decidir, ¿por qué no utilizar todo un bosque?!!. Esta es la idea central detrás del [algoritmo](https://es.wikipedia.org/wiki/Algoritmo) de [Random Forest](https://es.wikipedia.org/wiki/Random_forest). Tarbaja construyendo una gran cantidad de [arboles de decision](https://es.wikipedia.org/wiki/%C3%81rbol_de_decisi%C3%B3n) muy poco profundos, y luego toma la clase que\n",
    "cada árbol eligió. Esta idea es muy poderosa en [Machine Learning](https://es.wikipedia.org/wiki/Aprendizaje_autom%C3%A1tico). Si tenemos en cuenta que un sencillo clasificador entrenado podría tener sólo el 60 por ciento de precisión, podemos entrenar un montón de clasificadores que sean por lo general acertados y luego podemos utilizar la sabiduría de todos los aprendices juntos.\n",
    "Con [Python](https://python.org/) los podemos utilizar de la siguiente manera:"
   ]
  },
  {
   "cell_type": "code",
   "execution_count": 13,
   "metadata": {},
   "outputs": [
    {
     "name": "stdout",
     "output_type": "stream",
     "text": [
      "precisión del modelo:  0.99\n"
     ]
    }
   ],
   "source": [
    "# Creando un dataset de ejemplo\n",
    "X, y = datasets.make_classification(1000)\n",
    "\n",
    "# Importando el random forest\n",
    "from sklearn.ensemble import RandomForestClassifier\n",
    "\n",
    "rf = RandomForestClassifier() # Creando el modelo\n",
    "rf.fit(X, y) # Ajustando el modelo\n",
    "\n",
    "# verificando la precisión\n",
    "print(\"precisión del modelo: {0: .2f}\".format((y == rf.predict(X)).mean()))"
   ]
  },
  {
   "cell_type": "markdown",
   "metadata": {},
   "source": [
    "### SVM o Máquinas de vectores de soporte\n",
    "\n",
    "La idea detrás de [SVM](https://es.wikipedia.org/wiki/M%C3%A1quinas_de_vectores_de_soporte) es encontrar un plano que separe los grupos dentro de los datos de la mejor forma posible. Aquí, la separación significa que la elección\n",
    "del plano maximiza el margen entre los puntos más cercanos en el plano; éstos puntos se denominan vectores de soporte. Pasemos al ejemplo."
   ]
  },
  {
   "cell_type": "code",
   "execution_count": 14,
   "metadata": {},
   "outputs": [
    {
     "data": {
      "image/png": "[encoded data removed]",
      "text/plain": [
       "<matplotlib.figure.Figure at 0x7fc6987bfb38>"
      ]
     },
     "metadata": {},
     "output_type": "display_data"
    }
   ],
   "source": [
    "# importanto SVM\n",
    "from sklearn import svm\n",
    "\n",
    "# importando el dataset iris\n",
    "iris = datasets.load_iris()\n",
    "X = iris.data[:, :2]  # solo tomamos las primeras 2 características\n",
    "y = iris.target\n",
    "\n",
    "h = .02  # tamaño de la malla del grafico\n",
    "\n",
    "# Creando el SVM con sus diferentes métodos\n",
    "C = 1.0  # parametro de regulacion SVM \n",
    "svc = svm.SVC(kernel='linear', C=C).fit(X, y)\n",
    "rbf_svc = svm.SVC(kernel='rbf', gamma=0.7, C=C).fit(X, y)\n",
    "poly_svc = svm.SVC(kernel='poly', degree=3, C=C).fit(X, y)\n",
    "lin_svc = svm.LinearSVC(C=C).fit(X, y)\n",
    "\n",
    "# crear el area para graficar\n",
    "x_min, x_max = X[:, 0].min() - 1, X[:, 0].max() + 1\n",
    "y_min, y_max = X[:, 1].min() - 1, X[:, 1].max() + 1\n",
    "xx, yy = np.meshgrid(np.arange(x_min, x_max, h),\n",
    "                     np.arange(y_min, y_max, h))\n",
    "\n",
    "# titulos de los graficos\n",
    "titles = ['SVC con el motor lineal',\n",
    "          'LinearSVC',\n",
    "          'SVC con el motor RBF',\n",
    "          'SVC con el motor polinomial']\n",
    "\n",
    "\n",
    "for i, clf in enumerate((svc, lin_svc, rbf_svc, poly_svc)):\n",
    "    # Realizando el gráfico, se le asigna un color a cada punto\n",
    "    plt.subplot(2, 2, i + 1)\n",
    "    plt.subplots_adjust(wspace=0.4, hspace=0.4)\n",
    "\n",
    "    Z = clf.predict(np.c_[xx.ravel(), yy.ravel()])\n",
    "\n",
    "    Z = Z.reshape(xx.shape)\n",
    "    plt.contourf(xx, yy, Z, cmap=plt.cm.Paired, alpha=0.8)\n",
    "\n",
    "    # Graficando tambien los puntos de datos\n",
    "    plt.scatter(X[:, 0], X[:, 1], c=y, cmap=plt.cm.Paired)\n",
    "    plt.xlabel('largo del petalo')\n",
    "    plt.ylabel('ancho del petalo')\n",
    "    plt.xlim(xx.min(), xx.max())\n",
    "    plt.ylim(yy.min(), yy.max())\n",
    "    plt.xticks(())\n",
    "    plt.yticks(())\n",
    "    plt.title(titles[i])\n",
    "\n",
    "plt.show()"
   ]
  },
  {
   "cell_type": "markdown",
   "metadata": {},
   "source": [
    "### KNN o k vecinos más cercanos\n",
    "\n",
    "Este es un método de clasificación no paramétrico, que estima el valor de la probabilidad a posteriori de que un elemento $x$ pertenezca a una clase en particular a partir de la información proporcionada por el conjunto de prototipos.\n",
    "La regresión [KNN](https://es.wikipedia.org/wiki/K-vecinos_m%C3%A1s_cercanos) se calcula simplemente tomando el promedio del punto k más cercano al punto que se está probando. "
   ]
  },
  {
   "cell_type": "code",
   "execution_count": 15,
   "metadata": {},
   "outputs": [
    {
     "data": {
      "text/plain": [
       "['sepal length (cm)',\n",
       " 'sepal width (cm)',\n",
       " 'petal length (cm)',\n",
       " 'petal width (cm)']"
      ]
     },
     "execution_count": 15,
     "metadata": {},
     "output_type": "execute_result"
    }
   ],
   "source": [
    "# Creando el dataset iris\n",
    "iris = datasets.load_iris()\n",
    "X = iris.data\n",
    "y = iris.target\n",
    "iris.feature_names"
   ]
  },
  {
   "cell_type": "code",
   "execution_count": 16,
   "metadata": {},
   "outputs": [
    {
     "name": "stdout",
     "output_type": "stream",
     "text": [
      "El error medio del modelo es: 0.02\n"
     ]
    }
   ],
   "source": [
    "# importando KNN \n",
    "from sklearn.neighbors import KNeighborsRegressor\n",
    "\n",
    "knnr = KNeighborsRegressor(n_neighbors=10) # Creando el modelo con 10 vecinos\n",
    "knnr.fit(X, y) # Ajustando el modelo\n",
    "\n",
    "# Verificando el error medio del modelo\n",
    "print(\"El error medio del modelo es: {:.2f}\".format(np.power(y - knnr.predict(X),\n",
    "2).mean()))"
   ]
  },
  {
   "cell_type": "markdown",
   "metadata": {},
   "source": [
    "### K-means\n",
    "\n",
    "[K-means](https://es.wikipedia.org/wiki/K-means) es probablemente uno de los algoritmos de agrupamiento más conocidos y, en un sentido más amplio, una de las técnicas de aprendizaje no supervisado más conocidas.\n",
    "[K-means](https://es.wikipedia.org/wiki/K-means) es en realidad un [algoritmo](https://es.wikipedia.org/wiki/Algoritmo) muy simple que funciona para reducir al mínimo la suma de las distancias cuadradas desde la media dentro del agrupamiento. Para hacer esto establece primero un número previamente especificado de conglomerados, K, y luego va asignando cada observación a la agrupación más cercana de acuerdo a su media. Veamos el ejemplo"
   ]
  },
  {
   "cell_type": "code",
   "execution_count": 17,
   "metadata": {},
   "outputs": [
    {
     "data": {
      "image/png": "[encoded data removed]",
      "text/plain": [
       "<matplotlib.figure.Figure at 0x7fc694daa128>"
      ]
     },
     "metadata": {},
     "output_type": "display_data"
    }
   ],
   "source": [
    "# Creando el dataset\n",
    "grupos, pos_correcta = datasets.make_blobs(1000, centers=3,\n",
    "cluster_std=1.75)\n",
    "\n",
    "# Graficando los grupos de datos\n",
    "f, ax = plt.subplots(figsize=(7, 5))\n",
    "colores = ['r', 'g', 'b']\n",
    "\n",
    "for i in range(3):\n",
    "    p = grupos[pos_correcta == i]\n",
    "    ax.scatter(p[:,0], p[:,1], c=colores[i],\n",
    "               label=\"Grupo {}\".format(i))\n",
    "\n",
    "ax.set_title(\"Agrupamiento perfecto\")\n",
    "ax.legend()\n",
    "\n",
    "plt.show()"
   ]
  },
  {
   "cell_type": "code",
   "execution_count": 18,
   "metadata": {},
   "outputs": [
    {
     "data": {
      "text/plain": [
       "KMeans(algorithm='auto', copy_x=True, init='k-means++', max_iter=300,\n",
       "    n_clusters=3, n_init=10, n_jobs=1, precompute_distances='auto',\n",
       "    random_state=None, tol=0.0001, verbose=0)"
      ]
     },
     "execution_count": 18,
     "metadata": {},
     "output_type": "execute_result"
    }
   ],
   "source": [
    "# importando KMeans\n",
    "from sklearn.cluster import KMeans\n",
    "\n",
    "# Creando el modelo\n",
    "kmeans = KMeans(n_clusters=3)\n",
    "kmeans.fit(grupos) # Ajustando el modelo"
   ]
  },
  {
   "cell_type": "code",
   "execution_count": 19,
   "metadata": {},
   "outputs": [
    {
     "data": {
      "text/plain": [
       "array([[-9.90500465, -4.48254047],\n",
       "       [-8.1907267 ,  7.77491011],\n",
       "       [ 1.9875472 ,  4.07789958]])"
      ]
     },
     "execution_count": 19,
     "metadata": {},
     "output_type": "execute_result"
    }
   ],
   "source": [
    "# verificando los centros de los grupos\n",
    "kmeans.cluster_centers_"
   ]
  },
  {
   "cell_type": "code",
   "execution_count": 20,
   "metadata": {},
   "outputs": [
    {
     "data": {
      "image/png": "[encoded data removed]",
      "text/plain": [
       "<matplotlib.figure.Figure at 0x7fc694e5b978>"
      ]
     },
     "metadata": {},
     "output_type": "display_data"
    }
   ],
   "source": [
    "# Graficando segun modelo\n",
    "f, ax = plt.subplots(figsize=(7, 5))\n",
    "colores = ['r', 'g', 'b']\n",
    "\n",
    "for i in range(3):\n",
    "    p = grupos[pos_correcta == i]\n",
    "    ax.scatter(p[:,0], p[:,1], c=colores[i],\n",
    "               label=\"Grupo {}\".format(i))\n",
    "\n",
    "ax.scatter(kmeans.cluster_centers_[:, 0], kmeans.cluster_centers_[:, 1], \n",
    "           s=100, color='black', label='Centros')\n",
    "\n",
    "ax.set_title(\"Agrupamiento s/modelo\")\n",
    "ax.legend()\n",
    "\n",
    "plt.show()    "
   ]
  },
  {
   "cell_type": "markdown",
   "metadata": {},
   "source": [
    "Con esto doy por concluída esta introducción al [Machine Learning](https://es.wikipedia.org/wiki/Aprendizaje_autom%C3%A1tico) con [Python](https://python.org/), espero les sea útil.\n",
    "\n",
    "Saludos!\n",
    "\n",
    "*Este post fue escrito utilizando IPython notebook. Pueden descargar este [notebook](https://github.com/relopezbriega/relopezbriega.github.io/blob/master/downloads/MachineLearningPython.ipynb) o ver su version estática en [nbviewer](https://nbviewer.ipython.org/github/relopezbriega/relopezbriega.github.io/blob/master/downloads/MachineLearningPython.ipynb).*"
   ]
  }
 ],
 "metadata": {
  "kernelspec": {
   "display_name": "Python 3",
   "language": "python",
   "name": "python3"
  },
  "language_info": {
   "codemirror_mode": {
    "name": "ipython",
    "version": 3
   },
   "file_extension": ".py",
   "mimetype": "text/x-python",
   "name": "python",
   "nbconvert_exporter": "python",
   "pygments_lexer": "ipython3",
   "version": "3.5.2"
  }
 },
 "nbformat": 4,
 "nbformat_minor": 1
}
