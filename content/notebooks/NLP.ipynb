{
 "cells": [
  {
   "cell_type": "markdown",
   "metadata": {},
   "source": [
    "# Procesamiento del Lenguaje Natural con Python"
   ]
  },
  {
   "cell_type": "markdown",
   "metadata": {},
   "source": [
    "*Esta notebook fue creada originalmente como un blog post por [Raúl E. López Briega](https://relopezbriega.com.ar/) en [Matemáticas, Analisis de datos y Python](https://relopezbriega.github.io). El contenido esta bajo la licencia BSD.*"
   ]
  },
  {
   "cell_type": "markdown",
   "metadata": {},
   "source": [
    "<img alt=\"NLP\" title=\"NLP\" src=\"https://relopezbriega.github.io/images/NLP.png\" width=\"60%\" height=\"60%\">"
   ]
  },
  {
   "cell_type": "markdown",
   "metadata": {},
   "source": [
    "> \"El lenguaje sirve no sólo para expresar el pensamiento, sino para hacer posibles pensamientos que no podrían existir sin él.\"\n",
    "\n",
    "**[Bertrand Russell](https://es.wikipedia.org/wiki/Bertrand_Russell)**"
   ]
  },
  {
   "cell_type": "markdown",
   "metadata": {},
   "source": [
    "## Introducción\n",
    "\n",
    "El [lenguaje](https://es.wikipedia.org/wiki/Lenguaje) es una de las herramientas centrales en nuestra vida social y profesional. Entre otras cosas, actúa como un medio para transmitir ideas, información, opiniones y sentimientos; así como para persuadir, pedir información, o dar ordenes. Asimismo, el [lenguaje](https://es.wikipedia.org/wiki/Lenguaje) humano es algo que esta en constante cambio y evolución; y que puede llegar a ser muy *ambiguo* y *variable*. Tomemos por ejemplo la frase *\"comí una pizza con amigos\"* comparada con *\"comí una pizza con aceitunas\"*; su estructura es la misma, pero su significado es totalmente distinto. De la misma manera, un mismo mensaje puede ser expresado de formas diferentes; *\"comí una pizza con amigos\"* puede también ser expresado como *\"compartí una pizza con amigos\"*. \n",
    "\n",
    "Los seres humanos somos muy buenos a la hora de producir e interpretar el [lenguaje](https://es.wikipedia.org/wiki/Lenguaje), podemos expresar, percibir e interpretar significados muy elaborados en fracción de segundos casi sin dificultades; pero al mismo tiempo, somos también muy malos a la hora de entender y describir formalmente las reglas que lo gobiernan. Por este motivo, entender y producir el [lenguaje](https://es.wikipedia.org/wiki/Lenguaje) por medio de una *computadora* es un problema muy difícil de resolver. Éste problema, es el campo de estudio de lo que en [inteligencia artificial](https://iaarbook.github.io/inteligencia-artificial/) se conoce como [Procesamiento del Lenguaje Natural](https://es.wikipedia.org/wiki/Procesamiento_de_lenguajes_naturales) o [NLP](https://es.wikipedia.org/wiki/Procesamiento_de_lenguajes_naturales) por sus siglas en inglés. \n",
    "\n",
    "## ¿Qué es el Procesamiento del Lenguaje Natural?\n",
    "\n",
    "El [Procesamiento del Lenguaje Natural](https://es.wikipedia.org/wiki/Procesamiento_de_lenguajes_naturales) o [NLP](https://es.wikipedia.org/wiki/Procesamiento_de_lenguajes_naturales)  es una disciplina que se encuentra en la intersección de varias ciencias, tales como las [Ciencias de la Computación](https://es.wikipedia.org/wiki/Ciencias_de_la_computaci%C3%B3n), la [Inteligencia Artificial](https://iaarbook.github.io/) y [Psicología Cognitiva](https://es.wikipedia.org/wiki/Psicolog%C3%ADa_cognitiva). Su idea central es la de darle a las máquinas la capacidad de leer y comprender los idiomas que hablamos los humanos. La investigación del [Procesamiento del Lenguaje Natural](https://es.wikipedia.org/wiki/Procesamiento_de_lenguajes_naturales) tiene como objetivo responder a la pregunta de cómo las personas son capaces de comprender el significado de una oración oral / escrita y cómo las personas entienden lo que sucedió, cuándo y dónde sucedió; y las diferencias entre una suposición, una creencia o un hecho.\n",
    "\n",
    "En general, en [Procesamiento del Lenguaje Natural](https://es.wikipedia.org/wiki/Procesamiento_de_lenguajes_naturales) se utilizan seis niveles de comprensión con el objetivo de descubrir el significado del discurso. Estos niveles son:\n",
    "\n",
    "* **Nivel fonético:** Aquí se presta atención a la [fonética](https://es.wikipedia.org/wiki/Fon%C3%A9tica), la forma en que las palabras son pronunciadas. Este nivel es importante cuando procesamos la palabra hablada, no así cuando trabajamos con texto escrito. \n",
    "\n",
    "* **Nivel morfológico:** Aquí nos interesa realizar un análisis [morfológico](https://es.wikipedia.org/wiki/Morfolog%C3%ADa_ling%C3%BC%C3%ADstica) del discurso; estudiar la estructura de las palabras para delimitarlas y clasificarlas.\n",
    "\n",
    "* **Nivel sintáctico:** Aquí se realiza un análisis de [sintaxis](https://es.wikipedia.org/wiki/Sintaxis), el cual  incluye la acción de dividir una oración en cada uno de sus componentes. \n",
    "\n",
    "* **Nivel semántico:** Este nivel es un complemente del anterior, en el análisis [semántico](https://es.wikipedia.org/wiki/Sem%C3%A1ntica) se busca entender el significado de la oración. Las palabras pueden tener múltiples significados, la idea es identificar el significado apropiado por medio del contexto de la oración.\n",
    "\n",
    "* **Nivel discursivo:** El nivel discursivo examina el significado de la oración en relación a otra oración en el texto o párrafo del mismo documento.\n",
    "\n",
    "* **Nivel pragmático:** Este nivel se ocupa del análisis de oraciones y cómo se usan en diferentes situaciones. Además, también cómo su significado cambia dependiendo de la situación.\n",
    "\n",
    "Todos los niveles descritos aquí son inseparables y se complementan entre sí. El objetivo de los sistemas de [NLP](https://es.wikipedia.org/wiki/Procesamiento_de_lenguajes_naturales) es incluir estas definiciones en una *computadora* y luego usarlas para crear una oración estructurada y sin ambigüedades con un significado bien definido.\n",
    "\n",
    "## Aplicaciones del Procesamiento del Lenguaje Natural\n",
    "\n",
    "Los algoritmos de [Procesamiento del Lenguaje Natural](https://es.wikipedia.org/wiki/Procesamiento_de_lenguajes_naturales) suelen basarse en algoritmos de [aprendizaje automático](https://iaarbook.github.io/machine-learning/). En lugar de codificar manualmente grandes conjuntos de reglas, el [NLP](https://es.wikipedia.org/wiki/Procesamiento_de_lenguajes_naturales) puede confiar en el [aprendizaje automático](https://iaarbook.github.io/machine-learning/) para aprender estas reglas automáticamente analizando un conjunto de ejemplos y haciendo una [inferencia estadística](https://es.wikipedia.org/wiki/Estad%C3%ADstica_inferencial). En general, cuanto más datos analizados, más preciso será el modelo. Estos algoritmos pueden ser utilizados en algunas de las siguientes aplicaciones:\n",
    "\n",
    "* **Resumir texto:** Podemos utilizar los modelos de [NLP](https://es.wikipedia.org/wiki/Procesamiento_de_lenguajes_naturales) para extraer las ideas más importantes y centrales mientras ignoramos la información irrelevante.\n",
    "\n",
    "* **Crear chatbots:** Podemos utilizar las técnicas de [NLP](https://es.wikipedia.org/wiki/Procesamiento_de_lenguajes_naturales) para crear [chatbots](https://iaarhub.github.io/capacitacion/2017/04/09/31-herramientas-que-te-ayudaran-a-crear-tu-propio-chatbot/) que puedan interactuar con las personas.\n",
    "\n",
    "* **Generar automáticamente [etiquetas de palabras clave](https://es.wikipedia.org/wiki/Etiquetado_gramatical)**: Con [NLP](https://es.wikipedia.org/wiki/Procesamiento_de_lenguajes_naturales) también podemos realizar un análisis de contenido aprovechando el algoritmo de [LDA](https://es.wikipedia.org/wiki/Latent_Dirichlet_Allocation) para asignar palabras claves a párrafos del texto.\n",
    "\n",
    "* **[Reconocer entidades](https://es.wikipedia.org/wiki/Reconocimiento_de_entidades_nombradas)**: Con [NLP](https://es.wikipedia.org/wiki/Procesamiento_de_lenguajes_naturales) podemos identificar a las distintas entidades del texto como ser una persona, lugar u organización.\n",
    "\n",
    "* **[Análisis de sentimiento](https://es.wikipedia.org/wiki/An%C3%A1lisis_de_sentimiento)**: También podemos utilizar [NLP](https://es.wikipedia.org/wiki/Procesamiento_de_lenguajes_naturales) para identificar el *sentimiento* de una cadena de texto, desde muy negativo a neutral y a muy positivo.\n",
    "\n",
    "\n",
    "## Librerías de Python para Procesamiento del Lenguaje Natural\n",
    "\n",
    "Actualmente, [Python](https://www.python.org/) es uno de los lenguajes más populares para trabajar en el campo la [Inteligencia Artificial](https://iaarbook.github.io/). Para abordar los problemas relacionados con el [Procesamiento del Lenguaje Natural](https://es.wikipedia.org/wiki/Procesamiento_de_lenguajes_naturales) [Python](https://www.python.org/) nos proporciona las siguientes librerías:\n",
    "\n",
    "* **[NLTK](https://www.nltk.org/):** Es la librería líder para el [Procesamiento del Lenguaje Natural](https://es.wikipedia.org/wiki/Procesamiento_de_lenguajes_naturales). Proporciona interfaces fáciles de usar a más de *[50 corpus](https://nltk.org/nltk_data/)* y recursos léxicos, junto con un conjunto de bibliotecas de procesamiento de texto para la clasificación, tokenización, el etiquetado, el análisis y el razonamiento semántico.\n",
    "\n",
    "\n",
    "* **[TextBlob](http://textblob.readthedocs.io/en/dev/):** [TextBlob](http://textblob.readthedocs.io/en/dev/) simplifica el procesamiento de texto proporcionando una interfaz intuitiva a [NLTK](https://www.nltk.org/). Posee una suave curva de aprendizaje al mismo tiempo que cuenta con una sorprendente cantidad de funcionalidades.\n",
    "\n",
    "\n",
    "* **[Stanford CoreNLP](https://stanfordnlp.github.io/CoreNLP/):** Paquete desarrollado por la universidad de [Stanford](http://web.stanford.edu/class/cs224n/), para muchos constituye el estado del arte sobre las técnicas tradicionales de [Procesamiento del Lenguaje Natural](https://es.wikipedia.org/wiki/Procesamiento_de_lenguajes_naturales). Si bien esta escrita en Java, posee una [interface con Python](https://github.com/stanfordnlp/python-stanford-corenlp).\n",
    "\n",
    "\n",
    "* **[Spacy](https://spacy.io/):** Es una librería relativamente nueva que sobresale por su facilidad de uso y su velocidad a la hora de realizar el procesamiento de texto.\n",
    "\n",
    "\n",
    "* **[Textacy](http://textacy.readthedocs.io/en/latest/):** Esta es una librería de alto nivel diseñada sobre [Spacy](https://spacy.io/) con la idea de facilitar aun más las tareas relacionadas con el [Procesamiento del Lenguaje Natural](https://es.wikipedia.org/wiki/Procesamiento_de_lenguajes_naturales).\n",
    "\n",
    "\n",
    "* **[Gensim](https://radimrehurek.com/gensim/intro.html):** Es una librería diseñada para extraer automáticamente los temas semánticos de los documentos de la forma más eficiente y con menos complicaciones posible.\n",
    "\n",
    "\n",
    "* **[pyLDAvis](https://pyldavis.readthedocs.io/en/latest/readme.html):** Esta librería está diseñado para ayudar a los usuarios a interpretar los temas que surgen de un análisis de tópicos. Nos permite visualizar en forma muy sencilla cada uno de los temas incluidos en el texto.\n",
    "\n",
    "\n",
    "Como veremos, el [NLP](https://es.wikipedia.org/wiki/Procesamiento_de_lenguajes_naturales) también se está sumando a la popularidad del [Deep Learning](https://relopezbriega.github.io/blog/2017/06/13/introduccion-al-deep-learning/), por lo que muchos de los [frameworks](https://iaarbook.github.io/python/#frameworks-para-deep-learning) que se utilizan en [Deep Learning](https://relopezbriega.github.io/blog/2017/06/13/introduccion-al-deep-learning/) pueden ser aplicados para realizar modelos de [NLP](https://es.wikipedia.org/wiki/Procesamiento_de_lenguajes_naturales).\n",
    "\n",
    "## Corpus lingüístico \n",
    "\n",
    "Hoy en día, es indispensable el uso de buenos recursos lingüísticos para el desarrollo de los sistemas de [NLP](https://es.wikipedia.org/wiki/Procesamiento_de_lenguajes_naturales). Estos recursos son esenciales para la creación de gramáticas, en el marco de aproximaciones simbólicas; o para llevar a cabo la formación de módulos basados en el [aprendizaje automático](https://iaarbook.github.io/machine-learning/).\n",
    "\n",
    "Un [corpus lingüístico](https://es.wikipedia.org/wiki/Corpus_ling%C3%BC%C3%ADstico) es un conjunto amplio y estructurado de ejemplos reales de uso de la lengua. Estos ejemplos pueden ser textos (los más comunes), o muestras orales (generalmente transcritas). Un [corpus lingüístico](https://es.wikipedia.org/wiki/Corpus_ling%C3%BC%C3%ADstico) es un conjunto de textos relativamente grande, creado independientemente de sus posibles formas o usos. Es decir, en cuanto a su estructura, variedad y complejidad, un [corpus](https://es.wikipedia.org/wiki/Corpus_ling%C3%BC%C3%ADstico) debe reflejar una lengua, o su modalidad, de la forma más exacta posible; en cuanto a su uso, preocuparse de que su representación sea real. La idea es que representen al lenguaje de la mejor forma posible para que los modelos de [NLP](https://es.wikipedia.org/wiki/Procesamiento_de_lenguajes_naturales) puedan aprender los patrones necesarios para entender el [lenguaje](https://es.wikipedia.org/wiki/Lenguaje). Encontrar un buen [corpus](https://es.wikipedia.org/wiki/Corpus_ling%C3%BC%C3%ADstico) sobre el cual trabajar no suele ser una tarea sencilla; un [corpus](https://es.wikipedia.org/wiki/Corpus_ling%C3%BC%C3%ADstico) que se suele utilizar para entrenar modelos es el que incluye la información extraída de [wikipedia](https://dumps.wikimedia.org/eswiki/latest/).\n",
    "\n",
    "## Procesamiento del Lenguaje Natural con Python\n",
    "\n",
    "Hasta aquí la introducción, ahora llegó el momento de ensuciarse un poco las manos y comenzar a explorar algunos ejemplos de las herramientas que nos ofrece [Python](https://www.python.org/) para trabajar con problemas de [Procesamiento del Lenguaje Natural](https://es.wikipedia.org/wiki/Procesamiento_de_lenguajes_naturales). Comencemos por ejemplo, descargando el [corpus](https://es.wikipedia.org/wiki/Corpus_ling%C3%BC%C3%ADstico) de [wikipedia](https://dumps.wikimedia.org/eswiki/latest/) en español. Esto lo podemos hacer fácilmente utilizando [Textacy](http://textacy.readthedocs.io/en/latest/)."
   ]
  },
  {
   "cell_type": "code",
   "execution_count": 1,
   "metadata": {
    "collapsed": true
   },
   "outputs": [],
   "source": [
    "# <!-- collapse=True -->\n",
    "# Importando las librerías que vamos a utilizar\n",
    "import pandas as pd\n",
    "import numpy as np \n",
    "import matplotlib.pyplot as plt \n",
    "import textacy\n",
    "from textacy.datasets import Wikipedia\n",
    "from collections import Counter, defaultdict\n",
    "import warnings; warnings.simplefilter('ignore')\n",
    "\n",
    "# graficos incrustados\n",
    "%matplotlib inline\n",
    "\n",
    "# función auxiliar\n",
    "def leer_texto(texto):\n",
    "    \"\"\"Funcion auxiliar para leer un archivo de texto\"\"\"\n",
    "    with open(texto, 'r') as text:\n",
    "        return text.read()"
   ]
  },
  {
   "cell_type": "code",
   "execution_count": 2,
   "metadata": {
    "collapsed": true
   },
   "outputs": [],
   "source": [
    "# Descargando copus de wikipedia\n",
    "wp = Wikipedia(data_dir='/home/raul/Documents/data', lang='es', version='latest')\n",
    "wp.download()"
   ]
  },
  {
   "cell_type": "code",
   "execution_count": 3,
   "metadata": {},
   "outputs": [
    {
     "data": {
      "text/plain": [
       "{'data_dir': '/home/raul/Documents/data',\n",
       " 'description': 'All articles for a given language- and version-specific Wikipedia site snapshot.',\n",
       " 'name': 'wikipedia',\n",
       " 'site_url': 'https://meta.wikimedia.org/wiki/Data_dumps'}"
      ]
     },
     "execution_count": 3,
     "metadata": {},
     "output_type": "execute_result"
    }
   ],
   "source": [
    "# Chequeando la información descargada\n",
    "wp.info"
   ]
  },
  {
   "cell_type": "code",
   "execution_count": 4,
   "metadata": {},
   "outputs": [
    {
     "name": "stdout",
     "output_type": "stream",
     "text": [
      "Andorra\n",
      "\n",
      "Andorra, oficialmente Principado de Andorra , es un pequeño país soberano del suroeste de Europa. Constituido en Estado independiente, de derecho, democrático y social, cuya forma de gobierno es el coprincipado parlamentario. Su territorio está organizado en siete parroquias, con una población total en 2016 de 78.264 habitantes. Su capital es Andorra la Vieja.\n",
      "\n",
      "Ti \n",
      "\n",
      "Argentina\n",
      "\n",
      "La República Argentina, conocida simplemente como Argentina, es un país soberano de América del Sur, ubicado en el extremo sur y sudeste de dicho subcontinente. Adopta la forma de gobierno republicana, representativa y federal.\n",
      "\n",
      "El Estado argentino es un Estado federal descentralizado, integrado por un Estado nacional y veintitrés estados provinciales autónomos  \n",
      "\n"
     ]
    }
   ],
   "source": [
    "for text in wp.texts(min_len=1000, limit=2):\n",
    "    print(text[:375], \"\\n\")"
   ]
  },
  {
   "cell_type": "markdown",
   "metadata": {},
   "source": [
    "Como podemos ver, con la ayuda de [Textacy](http://textacy.readthedocs.io/en/latest/) es muy fácil descargar la información de [wikipedia](https://dumps.wikimedia.org/eswiki/latest/) para luego poder utilizarla de base para nuestro [corpus](https://es.wikipedia.org/wiki/Corpus_ling%C3%BC%C3%ADstico). Veamos otros problemas que también podemos resolver con la ayuda de [Textacy](http://textacy.readthedocs.io/en/latest/); como ser los casos de detectar el idioma o de procesar todo un texto y analizarlo."
   ]
  },
  {
   "cell_type": "code",
   "execution_count": 5,
   "metadata": {},
   "outputs": [
    {
     "name": "stdout",
     "output_type": "stream",
     "text": [
      "es\n",
      "en\n",
      "fr\n",
      "de\n",
      "it\n",
      "pt\n"
     ]
    }
   ],
   "source": [
    "# Detectando el idioma con taxtacy\n",
    "saludos = [\"Hola\", \"Hello\", \"Bonjour\", \"Guten Tag\", \"Buon giorno\", \"Bom dia\"]\n",
    "for saludo in saludos:\n",
    "    print(textacy.text_utils.detect_language(saludo))"
   ]
  },
  {
   "cell_type": "code",
   "execution_count": 6,
   "metadata": {
    "collapsed": true
   },
   "outputs": [],
   "source": [
    "# Cargando el modelo en español de spacy\n",
    "nlp = textacy.data.spacy.load('es_core_web_md')"
   ]
  },
  {
   "cell_type": "code",
   "execution_count": 7,
   "metadata": {},
   "outputs": [
    {
     "data": {
      "text/plain": [
       "['cuanto',\n",
       " 'sera',\n",
       " 'trabajo',\n",
       " 'tan',\n",
       " 'ya',\n",
       " 'claro',\n",
       " 'encuentra',\n",
       " 'arriba',\n",
       " 'despacio',\n",
       " 'primero',\n",
       " 'pocas',\n",
       " 'tiempo',\n",
       " 'aquéllos',\n",
       " 'días',\n",
       " 'enseguida']"
      ]
     },
     "execution_count": 7,
     "metadata": {},
     "output_type": "execute_result"
    }
   ],
   "source": [
    "# detalle de stop words\n",
    "# las stop words son las palabras más comunes de un corpus que en general\n",
    "# queremos eliminar porque no son significativas para un análisis.\n",
    "# Ocurren muchas veces, pero aportan muy poca información\n",
    "stop = list(textacy.data.spacy.es.STOP_WORDS)\n",
    "stop[:15]"
   ]
  },
  {
   "cell_type": "code",
   "execution_count": 8,
   "metadata": {
    "collapsed": true
   },
   "outputs": [],
   "source": [
    "# Procesando un texto \n",
    "# Procesando 1984 de George Orwell - mi novela favorita\n",
    "texto = leer_texto('ORWELL_1984.txt')\n",
    "texto_procesado = nlp(texto)"
   ]
  },
  {
   "cell_type": "code",
   "execution_count": 9,
   "metadata": {},
   "outputs": [
    {
     "name": "stdout",
     "output_type": "stream",
     "text": [
      "8114\n"
     ]
    }
   ],
   "source": [
    "# Cuántas sentencias hay en el texto?\n",
    "sentencias = [s for s in texto_procesado.sents]\n",
    "print(len(sentencias))"
   ]
  },
  {
   "cell_type": "code",
   "execution_count": 10,
   "metadata": {},
   "outputs": [
    {
     "name": "stdout",
     "output_type": "stream",
     "text": [
      "[Winston Smith, con la barbilla clavada en el pecho en su esfuerzo por burlar el molestísimo viento, se deslizó rápidamente por entre las puertas de cristal de las Casas de la Victoria, aunque, no con la suficiente rapidez para evitar que una ráfaga polvorienta se colara con él.\n",
      ", El vestíbulo olía a legumbres cocidas y a esteras viejas., Al fondo, un cartel de colores, demasiado grande para hallarse en un interior, estaba pegado a la pared., Representaba sólo un enorme rostro de más de un metro de anchura: la cara de un hombre de unos cuarenta y cinco años con un gran bigote negro y facciones hermosas y endurecidas., Winston se dirigió hacia las escaleras., Era inútil intentar subir en el ascensor., No funcionaba con frecuencia y en esta época la corriente se cortaba durante las horas de día., Esto era parte de las restricciones con que se preparaba la Semana del Odio., Winston tenía que subir a un séptimo piso.]\n"
     ]
    }
   ],
   "source": [
    "# imprimir las primeras 10 sentencias para verificar el texto\n",
    "print(sentencias[1:11])"
   ]
  },
  {
   "cell_type": "code",
   "execution_count": 11,
   "metadata": {},
   "outputs": [
    {
     "data": {
      "text/plain": [
       "[—¿Morirá el Gran Hermano?,\n",
       " ael Gran Hermano.,\n",
       " Pensó en el Gran Hermano.,\n",
       " ¿Cuáles eran sus verdaderos sentimientos hacia el Gran Hermano?,\n",
       " Dime: ¿cuáles son los verdaderos sentimientos que te inspira el Gran Hermano?,\n",
       " Tienes que amar ael Gran Hermano.,\n",
       " l Gran Hermano.,\n",
       " l Gran Hermano.,\n",
       " Amaba ael Gran Hermano.\n",
       " \n",
       " \n",
       " \n",
       " \n",
       " ,\n",
       " Hubiera sido posible, por ejemplo, decir el «Gran Hermano inbueno».]"
      ]
     },
     "execution_count": 11,
     "metadata": {},
     "output_type": "execute_result"
    }
   ],
   "source": [
    "# sentencias con las que aparece el Gran Hermano\n",
    "[sent for sent in texto_procesado.sents if 'Gran Hermano' in sent.string][-10:]"
   ]
  },
  {
   "cell_type": "code",
   "execution_count": 12,
   "metadata": {
    "collapsed": true
   },
   "outputs": [],
   "source": [
    "# <!-- collapse=True -->\n",
    "def encontrar_personajes(doc):\n",
    "    \"\"\"\n",
    "    Devuelve una lista de los personajes de un `doc` con su cantidad de\n",
    "    ocurrencias\n",
    "    \n",
    "    :param doc: NLP documento parseado por Spacy\n",
    "    :return: Lista de Tuplas con la forma\n",
    "        [('winston', 686), (\"o'brien\", 135), ('julia', 85),]\n",
    "    \"\"\"\n",
    "    \n",
    "    personajes = Counter()\n",
    "    for ent in doc.ents:\n",
    "        if ent.label_ == 'PERSON':\n",
    "            personajes[ent.lemma_] += 1\n",
    "            \n",
    "    return personajes.most_common()"
   ]
  },
  {
   "cell_type": "code",
   "execution_count": 13,
   "metadata": {},
   "outputs": [
    {
     "name": "stdout",
     "output_type": "stream",
     "text": [
      "[('winston', 686), (\"o'brien\", 135), ('julia', 85), ('partido', 85), ('parsons', 36), ('syme', 29), ('goldstein', 29), ('pensamiento', 22), ('odio', 13), ('ministerio', 13), ('', 11), ('katharine', 11), ('winston ?', 10), ('rutherford', 9), ('ogilvy', 8), ('aaronson', 8), ('charrington', 8), ('—la', 7), ('withers', 6), ('ingsoc', 6)]\n"
     ]
    }
   ],
   "source": [
    "# Extrayendo los personajes principales del texto y contando cuantas veces\n",
    "# son nombrados.\n",
    "print(encontrar_personajes(texto_procesado)[:20])"
   ]
  },
  {
   "cell_type": "code",
   "execution_count": 14,
   "metadata": {
    "collapsed": true
   },
   "outputs": [],
   "source": [
    "# <!-- collapse=True -->\n",
    "def obtener_adj_pers(doc, personaje):\n",
    "    \"\"\"\n",
    "    Encontrar todos los adjetivos relacionados a un personaje en un `doc`\n",
    "    \n",
    "    :param doc: NLP documento parseado por Spacy\n",
    "    :param personaje: un objeto String \n",
    "    :return: lista de adjetivos relacionados a un `personaje`\n",
    "    \"\"\"\n",
    "    \n",
    "    adjetivos = []\n",
    "    for ent in doc.ents:\n",
    "        if ent.lemma_ == personaje:\n",
    "            for token in ent.subtree:\n",
    "                if token.pos_ == 'ADJ':\n",
    "                    adjetivos.append(token.lemma_)\n",
    "    \n",
    "    for ent in doc.ents:\n",
    "        if ent.lemma_ == personaje:\n",
    "            if ent.root.dep_ == 'nsubj':\n",
    "                for child in ent.root.head.children:\n",
    "                    if child.dep_ == 'acomp':\n",
    "                        adjetivos.append(child.lemma_)\n",
    "    \n",
    "    return adjetivos\n"
   ]
  },
  {
   "cell_type": "code",
   "execution_count": 15,
   "metadata": {},
   "outputs": [
    {
     "name": "stdout",
     "output_type": "stream",
     "text": [
      "['superior', 'separado', 'fuertes', 'abierto', 'oscura', 'dirigiéndose', 'negro', 'saltones', 'tristes', 'burlones', 'solo', 'humano', 'sostenemos', 'dubitativo', 'completa', 'definitiva', 'sobresaltado', 'fascinado', 'extraña', 'sobrado', 'propio', 'solos', 'joven', 'sorprendido', 'sorprendido', 'hermosa', 'breve', 'cortante', 'primera', 'junto', 'obediente', 'metafísico', 'blanca', 'sonriente', 'sentado', 'irresoluto', 'sumergido', 'feliz']\n"
     ]
    }
   ],
   "source": [
    "# Encontrar adjetivos que describen a algún personaje.\n",
    "print(obtener_adj_pers(texto_procesado, \"winston\"))"
   ]
  },
  {
   "cell_type": "code",
   "execution_count": 16,
   "metadata": {
    "collapsed": true
   },
   "outputs": [],
   "source": [
    "# <!-- collapse=True -->\n",
    "def personaje_verbo(doc, verbo):\n",
    "    \"\"\"\n",
    "    Encontrar los personajes que utilizan determinado `verbo` en `doc`\n",
    "    \n",
    "    :param doc: NLP documento parseado por Spacy\n",
    "    :param verbo: un objeto String \n",
    "    :return: lista de personajes que utilizan `verbo`\n",
    "    \"\"\"\n",
    "    contar_verbo = Counter()\n",
    "    for ent in doc.ents:\n",
    "        if ent.label_ == 'PERSON' and ent.root.head.lemma_ == verbo:\n",
    "            contar_verbo[ent.text] += 1\n",
    "    \n",
    "    return contar_verbo.most_common(10)"
   ]
  },
  {
   "cell_type": "code",
   "execution_count": 17,
   "metadata": {},
   "outputs": [
    {
     "data": {
      "text/plain": [
       "[('Winston', 7),\n",
       " ('Julia', 4),\n",
       " ('Syme', 2),\n",
       " ('Julia—. Espera', 1),\n",
       " ('Parsons', 1),\n",
       " ('—le', 1)]"
      ]
     },
     "execution_count": 17,
     "metadata": {},
     "output_type": "execute_result"
    }
   ],
   "source": [
    "# Encontrar personajes que utilizan determinado verbo\n",
    "personaje_verbo(texto_procesado, \"dijo\")"
   ]
  },
  {
   "cell_type": "code",
   "execution_count": 18,
   "metadata": {},
   "outputs": [
    {
     "data": {
      "text/plain": [
       "{'CARDINAL', 'LOC', 'MISC', 'ORDINAL', 'ORG', 'PERSON'}"
      ]
     },
     "execution_count": 18,
     "metadata": {},
     "output_type": "execute_result"
    }
   ],
   "source": [
    "# Trabajando con las entidades del texto\n",
    "# Una entidad nombrada es cualquier objeto del mundo real como una persona,\n",
    "# ubicación, organización o producto con un nombre propio.\n",
    "\n",
    "# tipos de entidades del texto\n",
    "set(ent.label_ for ent in texto_procesado.ents)"
   ]
  },
  {
   "cell_type": "code",
   "execution_count": 19,
   "metadata": {},
   "outputs": [
    {
     "data": {
      "text/plain": [
       "[INGSOC,\n",
       " Partido:,\n",
       " ES LA,\n",
       " Departamento de Registro,\n",
       " Dos Minutos de Odio,\n",
       " Departamento de Novela,\n",
       " Partido Interior,\n",
       " Partido Interior,\n",
       " Departamento de Registro,\n",
       " Dos Minutos]"
      ]
     },
     "execution_count": 19,
     "metadata": {},
     "output_type": "execute_result"
    }
   ],
   "source": [
    "# Entidades nombradas de tipo ORG\n",
    "[ent for ent in texto_procesado.ents if ent.label_ == 'ORG'][:10]"
   ]
  },
  {
   "cell_type": "code",
   "execution_count": 20,
   "metadata": {},
   "outputs": [
    {
     "data": {
      "text/plain": [
       "{'ADJ',\n",
       " 'ADP',\n",
       " 'ADV',\n",
       " 'AUX',\n",
       " 'CONJ',\n",
       " 'DET',\n",
       " 'INTJ',\n",
       " 'NOUN',\n",
       " 'NUM',\n",
       " 'PART',\n",
       " 'PRON',\n",
       " 'PROPN',\n",
       " 'PUNCT',\n",
       " 'SCONJ',\n",
       " 'SPACE',\n",
       " 'SYM',\n",
       " 'VERB'}"
      ]
     },
     "execution_count": 20,
     "metadata": {},
     "output_type": "execute_result"
    }
   ],
   "source": [
    "# Partes de la oración (POS)\n",
    "# En las partes de la oración se etiquetan las palabras de acuerdo a lo \n",
    "# que significan segun su contexto. Algunas de estas etiquetas pueden\n",
    "# ser: Adjetivos, verbos, adverbios, conjunciones, pronombres, sustantivos.\n",
    "\n",
    "# Etiquetas del texto\n",
    "set(token.pos_ for token in texto_procesado)"
   ]
  },
  {
   "cell_type": "code",
   "execution_count": 21,
   "metadata": {},
   "outputs": [
    {
     "data": {
      "text/plain": [
       "['frío',\n",
       " 'clavada',\n",
       " 'molestísimo',\n",
       " 'suficiente',\n",
       " 'polvorienta',\n",
       " 'cocidas',\n",
       " 'viejas',\n",
       " 'grande',\n",
       " 'pegado',\n",
       " 'enorme']"
      ]
     },
     "execution_count": 21,
     "metadata": {},
     "output_type": "execute_result"
    }
   ],
   "source": [
    "# Etiquetas de tipo ADJ\n",
    "[token.orth_ for token in texto_procesado if token.pos_ == 'ADJ'][1:11]"
   ]
  },
  {
   "cell_type": "code",
   "execution_count": 22,
   "metadata": {},
   "outputs": [
    {
     "data": {
      "text/plain": [
       "['GEORGE',\n",
       " 'ORWELL',\n",
       " 'PARTE',\n",
       " 'CAPITULO',\n",
       " 'Winston',\n",
       " 'Smith',\n",
       " 'Casas',\n",
       " 'Victoria',\n",
       " 'Winston',\n",
       " 'Semana']"
      ]
     },
     "execution_count": 22,
     "metadata": {},
     "output_type": "execute_result"
    }
   ],
   "source": [
    "# Etiquetas de tipo PROPN\n",
    "[token.orth_ for token in texto_procesado if token.pos_ == 'PROPN'][1:11]"
   ]
  },
  {
   "cell_type": "markdown",
   "metadata": {},
   "source": [
    "Como demuestran estos ejemplos [Textacy](http://textacy.readthedocs.io/en/latest/) / [Spacy](https://spacy.io/) son herramientas muy poderosas que nos pueden ayudar a analizar y obtener información valiosa de un texto en forma rápida y sencilla. \n",
    "\n",
    "\n",
    "## Deep Learning y Procesamiento del Lenguaje Natural\n",
    "\n",
    "Durante mucho tiempo, las técnicas principales de [Procesamiento del Lenguaje Natural](https://es.wikipedia.org/wiki/Procesamiento_de_lenguajes_naturales) fueron dominadas por métodos de [aprendizaje automático](https://iaarbook.github.io/machine-learning/) que utilizaron [modelos lineales](https://es.wikipedia.org/wiki/Modelo_lineal) como las [máquinas de vectores de soporte](https://es.wikipedia.org/wiki/M%C3%A1quinas_de_vectores_de_soporte) o la [regresión logística](https://es.wikipedia.org/wiki/Regresi%C3%B3n_log%C3%ADstica), entrenados sobre [vectores](https://es.wikipedia.org/wiki/Vector) de características de muy alta dimensional pero muy escasos.\n",
    "Recientemente, el campo ha tenido cierto éxito en el cambio hacia modelos de [deep learning](https://iaarbook.github.io/deeplearning/) sobre entradas más densas.\n",
    "\n",
    "Las [redes neuronales](https://relopezbriega.github.io/category/redes-neuronales.html) proporcionan una poderosa maquina de aprendizaje que es muy atractiva para su uso en problemas de *lenguaje natural*. Un componente importante en las [redes neuronales](https://relopezbriega.github.io/category/redes-neuronales.html) para el [lenguaje](https://es.wikipedia.org/wiki/Lenguaje) es el uso de una capa de [word embedding](https://en.wikipedia.org/wiki/Word_embedding), una asignación de símbolos discretos a vectores continuos en un espacio dimensional relativamente bajo. Cuando se utiliza [word embedding](https://en.wikipedia.org/wiki/Word_embedding), se transforman los distintos símbolos en objetos matemáticos sobre los que se pueden realizar operaciones. En particular, la distancia entre vectores puede equipararse a la distancia entre palabras, facilitando la generalización del comportamiento de una palabra sobre otra.\n",
    "Esta representación de palabras como vectores es aprendida por la red como parte del proceso de entrenamiento.\n",
    "Subiendo en la jerarquía, la red también aprende a combinar los vectores de palabras de una manera que es útil para la predicción. Esta capacidad alivia en cierta medida los problemas de dispersión de los datos.\n",
    "Hay dos tipos principales de arquitecturas de [redes neuronales](https://relopezbriega.github.io/category/redes-neuronales.html) que resultan muy útiles en los problemas de [Procesamiento del Lenguaje Natural](https://es.wikipedia.org/wiki/Procesamiento_de_lenguajes_naturales): las [Redes neuronales prealimentadas](https://es.wikipedia.org/wiki/Red_neuronal_prealimentada) y las [Redes neuronales recurrentes](https://en.wikipedia.org/wiki/Recurrent_neural_network).\n",
    "\n",
    "Para ejemplificar, veamos como podemos utilizar [word embedding](https://en.wikipedia.org/wiki/Word_embedding) utilizando el modelo `word2vec` de [Gensim](https://radimrehurek.com/gensim/intro.html)."
   ]
  },
  {
   "cell_type": "code",
   "execution_count": 23,
   "metadata": {},
   "outputs": [
    {
     "name": "stderr",
     "output_type": "stream",
     "text": [
      "Using TensorFlow backend.\n"
     ]
    }
   ],
   "source": [
    "# <!-- collapse=True -->\n",
    "# importando gensim y TSNE para graficar\n",
    "import gensim\n",
    "from sklearn.manifold import TSNE"
   ]
  },
  {
   "cell_type": "code",
   "execution_count": 24,
   "metadata": {},
   "outputs": [],
   "source": [
    "# transformando el texto para pasarlo al modelo de gensim\n",
    "texto = [[str(palabra).lower() for palabra in sent if str(palabra) not in stop ]\n",
    "         for sent in sentencias]\n",
    "# generando el diccionario\n",
    "diccionario = gensim.corpora.Dictionary(texto)"
   ]
  },
  {
   "cell_type": "code",
   "execution_count": 25,
   "metadata": {},
   "outputs": [],
   "source": [
    "# creando el modelo\n",
    "modelo = gensim.models.Word2Vec(texto, workers=4, size=100, \n",
    "                                min_count=5, window=10, sample=1e-3)"
   ]
  },
  {
   "cell_type": "code",
   "execution_count": 26,
   "metadata": {},
   "outputs": [
    {
     "data": {
      "text/plain": [
       "array([-0.22692642, -0.08890257, -0.12868501, -0.17392403,  0.22627664,\n",
       "        0.10127033, -0.09027202,  0.10692301, -0.30289358,  0.06429829,\n",
       "        0.17862263,  0.20448232, -0.54694331, -0.40681064,  0.61438572,\n",
       "        0.0217872 ,  0.080202  ,  0.46306548,  0.09076022, -0.02869571,\n",
       "       -0.46194851,  0.28670114,  0.38570273,  0.32555154,  0.13098474,\n",
       "       -0.03134775, -0.09577781,  0.06859019, -0.15935177,  0.61558241,\n",
       "        0.07509102, -0.24245416, -0.44668666, -0.77279037,  0.84581488,\n",
       "       -0.54047441, -0.18756895, -0.12506978, -0.52870399,  0.1898849 ,\n",
       "       -0.00930689,  0.36932173,  0.22370262, -0.67407966, -0.45509291,\n",
       "       -0.00848365,  0.62967575,  0.16172817,  0.09978516,  0.15064637,\n",
       "       -0.34957823,  0.20686783,  0.1038606 , -0.09155462,  0.08276461,\n",
       "        0.31154567, -0.3129864 , -0.45181432, -0.12060832,  0.30541465,\n",
       "       -0.37994722,  0.13566031,  0.16380484,  0.32732216,  0.15746659,\n",
       "        0.69340295, -0.25527388,  0.37333885,  0.23317885, -0.4710786 ,\n",
       "       -0.22506852,  0.14103019, -0.30253953,  0.00573605, -0.14745024,\n",
       "       -0.50815731, -0.37789851, -0.3400358 ,  0.62753612,  0.04747195,\n",
       "       -0.07443633,  0.4276363 , -0.28931141,  0.29784235, -0.07251735,\n",
       "       -0.07709371, -0.1003265 , -0.29098341,  0.47159177,  0.41372281,\n",
       "       -0.10831725, -0.04670507,  0.07489309,  0.00146162, -0.02867368,\n",
       "       -0.2771121 ,  0.37281424, -0.53325164,  0.19094327,  0.51455575], dtype=float32)"
      ]
     },
     "execution_count": 26,
     "metadata": {},
     "output_type": "execute_result"
    }
   ],
   "source": [
    "# representación de la palabra hermano como vector.\n",
    "modelo['hermano']"
   ]
  },
  {
   "cell_type": "code",
   "execution_count": 27,
   "metadata": {},
   "outputs": [
    {
     "data": {
      "text/plain": [
       "[('mano', 0.9999627470970154),\n",
       " ('se', 0.9999592304229736),\n",
       " ('mesa', 0.9999556541442871),\n",
       " ('lo', 0.999954879283905),\n",
       " ('podía', 0.9999546408653259),\n",
       " ('personas', 0.9999545812606812),\n",
       " ('habría', 0.9999533891677856),\n",
       " ('sitio', 0.9999532103538513),\n",
       " ('no', 0.999953031539917),\n",
       " ('pero', 0.999951958656311)]"
      ]
     },
     "execution_count": 27,
     "metadata": {},
     "output_type": "execute_result"
    }
   ],
   "source": [
    "# como convertimos las palabras en vectores y los vectores capturan muchas \n",
    "# regularidades lingüísticas, podemos aplicar operaciones vectoriales para\n",
    "# extraer muchas propiedades interesantes. \n",
    "\n",
    "# palabras similares a persona\n",
    "modelo.most_similar_cosmul('persona')"
   ]
  },
  {
   "cell_type": "code",
   "execution_count": 28,
   "metadata": {},
   "outputs": [],
   "source": [
    "# por último podemos graficar el modelo\n",
    "vocab = list(modelo.wv.vocab)\n",
    "X = modelo[vocab]\n",
    "\n",
    "# aplicamos TSNE\n",
    "tsne = TSNE(n_components=2)\n",
    "X_tsne = tsne.fit_transform(X)\n",
    "\n",
    "# transformamos en DataFrame\n",
    "df = pd.concat([pd.DataFrame(X_tsne),\n",
    "                pd.Series(vocab)],\n",
    "               axis=1)\n",
    "\n",
    "df.columns = ['x', 'y', 'palabra']"
   ]
  },
  {
   "cell_type": "code",
   "execution_count": 29,
   "metadata": {},
   "outputs": [
    {
     "data": {
      "image/png": "[encoded data removed]",
      "text/plain": [
       "<matplotlib.figure.Figure at 0x7f5644f384e0>"
      ]
     },
     "metadata": {},
     "output_type": "display_data"
    }
   ],
   "source": [
    "# creamos el gráfico\n",
    "fig = plt.figure(figsize=(10, 8))\n",
    "ax = fig.add_subplot(1, 1, 1)\n",
    "\n",
    "# reducimos el dataset a 15 palabras para el ejemplo\n",
    "df_e = df.head(15)\n",
    "\n",
    "ax.scatter(df_e['x'], df_e['y'])\n",
    "\n",
    "for i, txt in enumerate(df_e['palabra']):\n",
    "    ax.annotate(txt, (df_e['x'].iloc[i], df_e['y'].iloc[i]))\n",
    "    \n",
    "plt.show()"
   ]
  },
  {
   "cell_type": "markdown",
   "metadata": {
    "collapsed": true
   },
   "source": [
    "Aquí termina este artículo, obviamente el [Procesamiento del Lenguaje Natural](https://es.wikipedia.org/wiki/Procesamiento_de_lenguajes_naturales) es un campo muy amplio y quedaron muchas cosas sin desarrollar. Espero que esta introducción les haya sido de utilidad.\n",
    "\n",
    "Saludos!\n",
    "\n",
    "*Este post fue escrito por [Raúl e. López Briega](https://relopezbriega.github.io/) utilizando [Jupyter notebook](https://jupyter.org/). Pueden descargar este [notebook](https://github.com/relopezbriega/relopezbriega.github.io/blob/master/downloads/NLP.ipynb) o ver su version estática en [nbviewer](https://nbviewer.ipython.org/github/relopezbriega/relopezbriega.github.io/blob/master/downloads/NLP.ipynb).*"
   ]
  }
 ],
 "metadata": {
  "kernelspec": {
   "display_name": "Python 3",
   "language": "python",
   "name": "python3"
  },
  "language_info": {
   "codemirror_mode": {
    "name": "ipython",
    "version": 3
   },
   "file_extension": ".py",
   "mimetype": "text/x-python",
   "name": "python",
   "nbconvert_exporter": "python",
   "pygments_lexer": "ipython3",
   "version": "3.6.4"
  }
 },
 "nbformat": 4,
 "nbformat_minor": 2
}
