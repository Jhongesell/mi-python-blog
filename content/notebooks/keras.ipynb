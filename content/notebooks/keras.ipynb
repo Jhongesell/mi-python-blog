{
 "cells": [
  {
   "cell_type": "code",
   "execution_count": null,
   "metadata": {},
   "outputs": [
    {
     "name": "stderr",
     "output_type": "stream",
     "text": [
      "Using TensorFlow backend.\n"
     ]
    }
   ],
   "source": [
    "from keras.preprocessing import sequence\n",
    "from keras.models import Sequential\n",
    "from keras.layers import Dense, Embedding\n",
    "from keras.layers import LSTM\n",
    "from keras.datasets import imdb"
   ]
  },
  {
   "cell_type": "code",
   "execution_count": 2,
   "metadata": {},
   "outputs": [
    {
     "name": "stdout",
     "output_type": "stream",
     "text": [
      "Loading data...\n",
      "Downloading data from https://s3.amazonaws.com/text-datasets/imdb.npz\n",
      "17457152/17464789 [============================>.] - ETA: 0s25000 train sequences\n",
      "25000 test sequences\n",
      "Pad sequences (samples x time)\n",
      "x_train shape: (25000, 80)\n",
      "x_test shape: (25000, 80)\n",
      "Build model...\n"
     ]
    }
   ],
   "source": [
    "max_features = 20000\n",
    "maxlen = 80  # cut texts after this number of words (among top max_features most common words)\n",
    "batch_size = 32\n",
    "\n",
    "print('Loading data...')\n",
    "(x_train, y_train), (x_test, y_test) = imdb.load_data(num_words=max_features)\n",
    "print(len(x_train), 'train sequences')\n",
    "print(len(x_test), 'test sequences')\n",
    "\n",
    "print('Pad sequences (samples x time)')\n",
    "x_train = sequence.pad_sequences(x_train, maxlen=maxlen)\n",
    "x_test = sequence.pad_sequences(x_test, maxlen=maxlen)\n",
    "print('x_train shape:', x_train.shape)\n",
    "print('x_test shape:', x_test.shape)\n",
    "\n",
    "print('Build model...')"
   ]
  },
  {
   "cell_type": "code",
   "execution_count": 3,
   "metadata": {},
   "outputs": [
    {
     "data": {
      "text/plain": [
       "array([[   15,   256,     4, ...,    19,   178,    32],\n",
       "       [  125,    68,     2, ...,    16,   145,    95],\n",
       "       [  645,   662,     8, ...,     7,   129,   113],\n",
       "       ..., \n",
       "       [  529,   443, 17793, ...,     4,  3586,     2],\n",
       "       [  286,  1814,    23, ...,    12,     9,    23],\n",
       "       [   97,    90,    35, ...,   204,   131,     9]], dtype=int32)"
      ]
     },
     "execution_count": 3,
     "metadata": {},
     "output_type": "execute_result"
    }
   ],
   "source": [
    "x_train"
   ]
  },
  {
   "cell_type": "code",
   "execution_count": 4,
   "metadata": {
    "collapsed": true
   },
   "outputs": [],
   "source": [
    "model = Sequential()\n",
    "model.add(Embedding(max_features, 128))\n",
    "model.add(LSTM(128, dropout=0.2, recurrent_dropout=0.2))\n",
    "model.add(Dense(1, activation='sigmoid'))\n",
    "\n",
    "# try using different optimizers and different optimizer configs\n",
    "model.compile(loss='binary_crossentropy',\n",
    "              optimizer='adam',\n",
    "              metrics=['accuracy'])"
   ]
  },
  {
   "cell_type": "code",
   "execution_count": 5,
   "metadata": {},
   "outputs": [
    {
     "name": "stdout",
     "output_type": "stream",
     "text": [
      "Train...\n",
      "Train on 25000 samples, validate on 25000 samples\n",
      "Epoch 1/15\n",
      "25000/25000 [==============================] - 367s - loss: 0.4615 - acc: 0.7835 - val_loss: 0.3803 - val_acc: 0.8364\n",
      "Epoch 2/15\n",
      "25000/25000 [==============================] - 402s - loss: 0.2968 - acc: 0.8802 - val_loss: 0.3772 - val_acc: 0.8382\n",
      "Epoch 3/15\n",
      "25000/25000 [==============================] - 392s - loss: 0.2092 - acc: 0.9191 - val_loss: 0.4765 - val_acc: 0.8129\n",
      "Epoch 4/15\n",
      "25000/25000 [==============================] - 375s - loss: 0.1491 - acc: 0.9449 - val_loss: 0.4843 - val_acc: 0.8288\n",
      "Epoch 5/15\n",
      "25000/25000 [==============================] - 352s - loss: 0.1048 - acc: 0.9630 - val_loss: 0.5634 - val_acc: 0.8293\n",
      "Epoch 6/15\n",
      "25000/25000 [==============================] - 351s - loss: 0.0751 - acc: 0.9737 - val_loss: 0.6186 - val_acc: 0.8117\n",
      "Epoch 7/15\n",
      "25000/25000 [==============================] - 360s - loss: 0.0656 - acc: 0.9773 - val_loss: 0.6775 - val_acc: 0.8086\n",
      "Epoch 8/15\n",
      "25000/25000 [==============================] - 374s - loss: 0.0424 - acc: 0.9864 - val_loss: 0.7515 - val_acc: 0.8224\n",
      "Epoch 9/15\n",
      "25000/25000 [==============================] - 367s - loss: 0.0302 - acc: 0.9902 - val_loss: 0.8736 - val_acc: 0.8215\n",
      "Epoch 10/15\n",
      "25000/25000 [==============================] - 354s - loss: 0.0268 - acc: 0.9917 - val_loss: 0.8551 - val_acc: 0.8163\n",
      "Epoch 11/15\n",
      "25000/25000 [==============================] - 352s - loss: 0.0236 - acc: 0.9925 - val_loss: 0.9094 - val_acc: 0.8177\n",
      "Epoch 12/15\n",
      "25000/25000 [==============================] - 355s - loss: 0.0169 - acc: 0.9946 - val_loss: 1.0353 - val_acc: 0.8162\n",
      "Epoch 13/15\n",
      "25000/25000 [==============================] - 357s - loss: 0.0135 - acc: 0.9957 - val_loss: 0.9401 - val_acc: 0.8116\n",
      "Epoch 14/15\n",
      "25000/25000 [==============================] - 368s - loss: 0.0115 - acc: 0.9963 - val_loss: 1.0622 - val_acc: 0.8123\n",
      "Epoch 15/15\n",
      "25000/25000 [==============================] - 353s - loss: 0.0153 - acc: 0.9950 - val_loss: 0.9762 - val_acc: 0.8106\n",
      "25000/25000 [==============================] - 91s    \n",
      "Test score: 0.976184588296\n",
      "Test accuracy: 0.81056\n"
     ]
    }
   ],
   "source": [
    "print('Train...')\n",
    "model.fit(x_train, y_train,\n",
    "          batch_size=batch_size,\n",
    "          epochs=15,\n",
    "          validation_data=(x_test, y_test))\n",
    "score, acc = model.evaluate(x_test, y_test,\n",
    "                            batch_size=batch_size)\n",
    "print('Test score:', score)\n",
    "print('Test accuracy:', acc)"
   ]
  },
  {
   "cell_type": "code",
   "execution_count": 4,
   "metadata": {
    "collapsed": true
   },
   "outputs": [],
   "source": [
    "from keras import backend"
   ]
  },
  {
   "cell_type": "code",
   "execution_count": 5,
   "metadata": {},
   "outputs": [
    {
     "data": {
      "text/plain": [
       "'tensorflow'"
      ]
     },
     "execution_count": 5,
     "metadata": {},
     "output_type": "execute_result"
    }
   ],
   "source": [
    "backend.backend()"
   ]
  },
  {
   "cell_type": "code",
   "execution_count": 8,
   "metadata": {},
   "outputs": [
    {
     "name": "stdout",
     "output_type": "stream",
     "text": [
      "Loading data...\n",
      "25000 train sequences\n",
      "25000 test sequences\n",
      "Pad sequences (samples x time)\n",
      "x_train shape: (25000, 80)\n",
      "x_test shape: (25000, 80)\n",
      "Build model...\n",
      "Train...\n",
      "Train on 25000 samples, validate on 25000 samples\n",
      "Epoch 1/15\n",
      "25000/25000 [==============================] - 354s - loss: 0.4584 - acc: 0.7833 - val_loss: 0.3830 - val_acc: 0.8328\n",
      "Epoch 2/15\n",
      "25000/25000 [==============================] - 357s - loss: 0.2931 - acc: 0.8798 - val_loss: 0.3917 - val_acc: 0.8385\n",
      "Epoch 3/15\n",
      "25000/25000 [==============================] - 358s - loss: 0.2130 - acc: 0.9174 - val_loss: 0.4151 - val_acc: 0.8238\n",
      "Epoch 4/15\n",
      "25000/25000 [==============================] - 359s - loss: 0.1496 - acc: 0.9428 - val_loss: 0.5007 - val_acc: 0.8295\n",
      "Epoch 5/15\n",
      "25000/25000 [==============================] - 356s - loss: 0.1024 - acc: 0.9622 - val_loss: 0.5570 - val_acc: 0.8289\n",
      "Epoch 6/15\n",
      "25000/25000 [==============================] - 353s - loss: 0.0711 - acc: 0.9754 - val_loss: 0.6337 - val_acc: 0.8134\n",
      "Epoch 7/15\n",
      "25000/25000 [==============================] - 353s - loss: 0.0500 - acc: 0.9832 - val_loss: 0.7261 - val_acc: 0.8206\n",
      "Epoch 8/15\n",
      "25000/25000 [==============================] - 358s - loss: 0.0413 - acc: 0.9857 - val_loss: 0.7857 - val_acc: 0.8165\n",
      "Epoch 9/15\n",
      "25000/25000 [==============================] - 355s - loss: 0.0316 - acc: 0.9905 - val_loss: 0.8522 - val_acc: 0.8174\n",
      "Epoch 10/15\n",
      "25000/25000 [==============================] - 356s - loss: 0.0291 - acc: 0.9895 - val_loss: 0.8071 - val_acc: 0.8141\n",
      "Epoch 11/15\n",
      "25000/25000 [==============================] - 360s - loss: 0.0226 - acc: 0.9925 - val_loss: 0.8602 - val_acc: 0.8199\n",
      "Epoch 12/15\n",
      "25000/25000 [==============================] - 357s - loss: 0.0160 - acc: 0.9954 - val_loss: 0.9791 - val_acc: 0.8182\n",
      "Epoch 13/15\n",
      "25000/25000 [==============================] - 363s - loss: 0.0124 - acc: 0.9964 - val_loss: 1.0800 - val_acc: 0.8103\n",
      "Epoch 14/15\n",
      "25000/25000 [==============================] - 358s - loss: 0.0113 - acc: 0.9964 - val_loss: 1.0454 - val_acc: 0.8112\n",
      "Epoch 15/15\n",
      "25000/25000 [==============================] - 358s - loss: 0.0097 - acc: 0.9967 - val_loss: 1.1998 - val_acc: 0.8139\n",
      "25000/25000 [==============================] - 92s    \n",
      "Test score: 1.19980149963\n",
      "Test accuracy: 0.81392\n"
     ]
    }
   ],
   "source": [
    "max_features = 20000\n",
    "maxlen = 80  # cut texts after this number of words (among top max_features most common words)\n",
    "batch_size = 32\n",
    "\n",
    "print('Loading data...')\n",
    "(x_train, y_train), (x_test, y_test) = imdb.load_data(num_words=max_features)\n",
    "print(len(x_train), 'train sequences')\n",
    "print(len(x_test), 'test sequences')\n",
    "\n",
    "print('Pad sequences (samples x time)')\n",
    "x_train = sequence.pad_sequences(x_train, maxlen=maxlen)\n",
    "x_test = sequence.pad_sequences(x_test, maxlen=maxlen)\n",
    "print('x_train shape:', x_train.shape)\n",
    "print('x_test shape:', x_test.shape)\n",
    "\n",
    "print('Build model...')\n",
    "model = Sequential()\n",
    "model.add(Embedding(max_features, 128))\n",
    "model.add(LSTM(128, dropout=0.2, recurrent_dropout=0.2))\n",
    "model.add(Dense(1, activation='sigmoid'))\n",
    "\n",
    "# try using different optimizers and different optimizer configs\n",
    "model.compile(loss='binary_crossentropy',\n",
    "              optimizer='adam',\n",
    "              metrics=['accuracy'])\n",
    "print('Train...')\n",
    "model.fit(x_train, y_train,\n",
    "          batch_size=batch_size,\n",
    "          epochs=15,\n",
    "          validation_data=(x_test, y_test))\n",
    "score, acc = model.evaluate(x_test, y_test,\n",
    "                            batch_size=batch_size)\n",
    "print('Test score:', score)\n",
    "print('Test accuracy:', acc)"
   ]
  },
  {
   "cell_type": "code",
   "execution_count": 3,
   "metadata": {},
   "outputs": [
    {
     "name": "stdout",
     "output_type": "stream",
     "text": [
      "Using CNTK backend\n",
      "Selected CPU as the process wide default device.\n",
      "/usr/local/lib/python3.5/dist-packages/keras/backend/cntk_backend.py:19: UserWarning: CNTK backend warning: GPU is not detected. CNTK's CPU version is not fully optimized,please run with GPU to get better performance.\n",
      "  'CNTK backend warning: GPU is not detected. '\n"
     ]
    }
   ],
   "source": [
    "!KERAS_BACKEND=cntk python3 -c \"from keras import backend\""
   ]
  },
  {
   "cell_type": "code",
   "execution_count": null,
   "metadata": {
    "collapsed": true
   },
   "outputs": [],
   "source": []
  }
 ],
 "metadata": {
  "kernelspec": {
   "display_name": "Python 3",
   "language": "python",
   "name": "python3"
  },
  "language_info": {
   "codemirror_mode": {
    "name": "ipython",
    "version": 3
   },
   "file_extension": ".py",
   "mimetype": "text/x-python",
   "name": "python",
   "nbconvert_exporter": "python",
   "pygments_lexer": "ipython3",
   "version": "3.5.2"
  }
 },
 "nbformat": 4,
 "nbformat_minor": 2
}
