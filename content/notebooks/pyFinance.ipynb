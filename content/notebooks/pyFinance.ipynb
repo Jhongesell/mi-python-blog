{
 "cells": [
  {
   "cell_type": "markdown",
   "metadata": {},
   "source": [
    "# Introducción a Finanzas con Python"
   ]
  },
  {
   "cell_type": "markdown",
   "metadata": {},
   "source": [
    "*Esta notebook fue creada originalmente como un blog post por [Raúl E. López Briega](https://relopezbriega.com.ar/) en [Mi blog sobre Python](https://relopezbriega.github.io). El contenido esta bajo la licencia BSD.*"
   ]
  },
  {
   "cell_type": "markdown",
   "metadata": {},
   "source": [
    "<img alt=\"Introducción a Finanzas\" title=\"Introducción a Finanzas\" src=\"https://relopezbriega.github.io/images/Finance.jpg\" width=\"500px\" height=\"400px\">"
   ]
  },
  {
   "cell_type": "markdown",
   "metadata": {},
   "source": [
    "## Introducción\n",
    "\n",
    "En el vertiginoso mundo actual de las [finanzas](https://es.wikipedia.org/wiki/Finanzas); dónde la velocidad, frecuencia y volumen de los datos aumentan a un ritmo considerable; la aplicación combinada de tecnología y software, junto con algoritmos avanzados y diferentes métodos para recopilar, procesar y analizar datos se ha vuelto fundamental para obtener la información necesaria para una eficiente toma de decisiones. Es dentro de este contexto,  que se viene produciendo un gran crecimento en la utilización de [Python](https://www.python.org/) dentro de la [industria de las finanzas](https://es.wikipedia.org/wiki/Servicios_financieros).\n",
    "\n",
    "[Python](https://www.python.org/) se esta comenzando a utilizar ampliamente en diversos sectores de las [finanzas](https://es.wikipedia.org/wiki/Finanzas), como la banca, la gestión de inversiones, los seguros, e incluso en los bienes raíces; se utiliza principalmente para la construcción de herramientas que ayuden en la creación de [modelos financieros](https://en.wikipedia.org/wiki/Financial_modeling), [gestión de riesgos](https://es.wikipedia.org/wiki/Gesti%C3%B3n_de_riesgos), y el comercio. Incluso las grandes corporaciones financieras, como [Bank of America](https://www.bankofamerica.com/) o [JP Morgan](https://www.jpmorgan.com/pages/jpmorgan), estan comenzando a utilizar [Python](https://www.python.org/) para construir su infraestructura para la gestión de posiciones financieras, [precios de activos](https://es.wikipedia.org/wiki/Modelo_de_valoraci%C3%B3n_de_activos_financieros), [gestión de riesgos](https://es.wikipedia.org/wiki/Gesti%C3%B3n_de_riesgos), sistemas de comercio y [comercio algoritmico](https://en.wikipedia.org/wiki/Algorithmic_trading).\n",
    "\n",
    "Algunas de las razones que hacen de [Python](https://www.python.org/) un [lenguaje de programación](https://es.wikipedia.org/wiki/Lenguaje_de_programaci%C3%B3n) tan atractivo en el mundo de las finanzas son:\n",
    "\n",
    "* **Su simple sintaxis**: [Python](https://www.python.org/) es mundialmente conocido por lo fácil que resulta leerlo, muchas veces no existen casi diferencias entre seudo código y [Python](https://www.python.org/); tampoco suelen existir muchas diferencias entre expresar un [algoritmo](https://es.wikipedia.org/wiki/Algoritmo) matematicamente o en [Python](https://www.python.org/). \n",
    "\n",
    "\n",
    "* **Su ecosistema**: [Python](https://www.python.org/) es mucho más que un [lenguaje de programación](https://es.wikipedia.org/wiki/Lenguaje_de_programaci%C3%B3n), es todo un ecosistema en sí mismo; ya que podemos encontrar un sinnúmero de herramientas para realizar cualquier tipo de tareas; en [Python](https://www.python.org/) podemos encontrar módulos para realizar cálculos científicos, módulos para desarrollar aplicaciones webs, módulos para realizar tareas de administración de sistemas, módulos para trabajar con bases de datos; entre otros. Todos ellos muy fácilmente integrables dentro del lenguaje. La variedad del ecosistema de herramientas de [Python](https://www.python.org/), nos ofrece la posibilidad de desarrollar una solución completa a cualquier tipo de problema utilizando un solo [lenguaje de programación](https://es.wikipedia.org/wiki/Lenguaje_de_programaci%C3%B3n).\n",
    "\n",
    "\n",
    "* **Su integración**: Otras de las características por la que [Python](https://www.python.org/) es también famoso, es por su fácil integración con otros [lenguajes de programación](https://es.wikipedia.org/wiki/Lenguaje_de_programaci%C3%B3n). Generalmente, las grandes empresas suelen tener herramientas desarrolladas en distintos [lenguajes de programación](https://es.wikipedia.org/wiki/Lenguaje_de_programaci%C3%B3n); las características dinámicas de [Python](https://www.python.org/), hacen que sea ideal para unir todos esos distintos componentes en una sola gran aplicación. [Python](https://www.python.org/) puede ser enlazado fácilmente a herramientas desarrollas en <a href=\"https://es.wikipedia.org/wiki/C_(lenguaje_de_programaci%C3%B3n)\">C</a>, [C++](https://es.wikipedia.org/wiki/C%2B%2B) o [Fortran](https://es.wikipedia.org/wiki/Fortran).  \n",
    "\n",
    "\n",
    "* **Eficiencia y productividad**: Por último, otra de las características que hacen a [Python](https://www.python.org/) tan atractivo, es que con él, se pueden lograr resultados de calidad en una forma mucho más eficiente y productiva. La mayoría de sus módulos están ampliamente testeados y cuentan con el soporte de una amplia comunidad de usuarios; sus características dinámicas e interactivas lo hacen ideal para el análisis exploratorio de datos facilitando los análisis financieros. También es sabido, que la elegancia de su sintaxis hace que se necesiten mucho menos líneas de código para desarrollar un programa en [Python](https://www.python.org/) que en casi cualquier otro  [lenguaje de programación](https://es.wikipedia.org/wiki/Lenguaje_de_programaci%C3%B3n). \n",
    "\n",
    "### Principales librerías\n",
    "\n",
    "Las principales librerías que vamos a utilizar para realizar tareas de analisis financiero con [Python](https://www.python.org/) son muchas de las que ya he venido hablando en anteriores artículos; principalmente:\n",
    "\n",
    "* **[Pandas](https://pandas.pydata.org/)**: La cual fue diseñada desde un comienzo para facilitar el análisis de datos financieros, principalmente las [series de tiempo](https://es.wikipedia.org/wiki/Serie_temporal) propias del mercado cambiario de acciones. Con las [estructuras de datos](https://es.wikipedia.org/wiki/Estructura_de_datos) que nos brinda esta librería se vuelve sumamente fácil modelar y resolver problemas financieros.\n",
    "\n",
    "* **[Numpy](https://www.numpy.org/)**: El principal modulo matemático que nos ofrece [Python](https://www.python.org/), en el no solo vamos a encontrar las siempre prácticas <a href='https://es.wikipedia.org/wiki/Matriz_(matem%C3%A1ticas)' target='_blank'>matrices</a> que facilitan en sobremanera el manejo de información numérica; sino que también vamos a poder encontrar un gran número de funciones matemáticas.\n",
    "\n",
    "* **[Matplotlib](https://matplotlib.org/)**: La siempre vigente librería para realizar gráficos en [Python](https://www.python.org/).\n",
    "\n",
    "* **[statsmodels](https://statsmodels.sourceforge.net/)**: Si de estadística se trata, no hay como esta librería para realizar cualquier tipo de analisis estadístico.\n",
    "\n",
    "* **[PuLP](https://pythonhosted.org//PuLP/)**: La cual nos permite crear modelos de [programación lineal](https://es.wikipedia.org/wiki/Programaci%C3%B3n_lineal) en forma muy sencilla.\n",
    "\n",
    "* **[Quandl](https://www.quandl.com/help/python)**: Este módulo nos permite interactuar fácilmente con la [API](https://es.wikipedia.org/wiki/Interfaz_de_programaci%C3%B3n_de_aplicaciones) de [quandl.com](https://www.quandl.com/) para obtener en forma muy sencilla todo tipo de información financiera.\n",
    "\n",
    "* **[Zipline](https://www.zipline.io/)**: [Zipline](https://www.zipline.io/) es una librería para el [comercio algoritmico](https://en.wikipedia.org/wiki/Algorithmic_trading); esta basada en eventos y trata de aproximarse lo más cerca posible a como operan los verdades sistemas de comercio electrónico de las principales bolsas del mundo. [Zipline](https://www.zipline.io/) es una de las principales tecnologías detrás del popular sitio [quantopian.com](https://www.quantopian.com/), la comunidad web que pone a prueba distintos [algoritmos](https://es.wikipedia.org/wiki/Algoritmo) de [comercio algoritmico](https://en.wikipedia.org/wiki/Algorithmic_trading).\n",
    "\n",
    "Bueno, pero basta de introducciones y pasamos a describir los principales conceptos financieros y como podemos calcularlos con la ayuda de [Python](https://www.python.org/), ya que el tiempo es dinero!!."
   ]
  },
  {
   "cell_type": "markdown",
   "metadata": {},
   "source": [
    "## Conceptos básicos de Finanzas\n",
    "\n",
    "Los conceptos más básicos que podemos encontrar dentro de las finanzas son: [valor futuro](https://es.wikipedia.org/wiki/Valor_tiempo_del_dinero), [valor presente](https://es.wikipedia.org/wiki/Valor_tiempo_del_dinero), y la [tasa interna de retorno](https://es.wikipedia.org/wiki/Tasa_interna_de_retorno). Estos conceptos nos dicen cuanto nuestro dinero va a crecer si lo depositamos en un banco ([valor futuro](https://es.wikipedia.org/wiki/Valor_tiempo_del_dinero)), cuanto vale hoy la promesa de unos pagos que recibiremos en el futuro([valor presente](https://es.wikipedia.org/wiki/Valor_tiempo_del_dinero)), y qué tasa de rendimiento podemos obtener de nuestras inversiones ([tasa interna de retorno](https://es.wikipedia.org/wiki/Tasa_interna_de_retorno)). Recordemos que todos los activos financieros y toda planificación financiera siempre tiene una dimensión de tiempo; así por ejemplo si depositamos USD 100 en un banco que nos paga una tasa de interés anual de 6% , luego de un año obtendríamos un importe de USD 106. \n",
    "\n",
    "### Valor Futuro\n",
    "\n",
    "El [valor futuro](https://es.wikipedia.org/wiki/Valor_tiempo_del_dinero) o FV (por sus siglas en inglés), nos indica el valor en el futuro que tendrá el dinero depositado hoy en una cuenta bancaria que nos pague intereses. El *[valor futuro](https://es.wikipedia.org/wiki/Valor_tiempo_del_dinero)* de  USD X depositado hoy en una cuenta que paga r% de interés anual y que es dejado en la cuenta durante n años es $X * (1 + r)^n$. \n",
    "El [valor futuro](https://es.wikipedia.org/wiki/Valor_tiempo_del_dinero) es nuestro primer ejemplo de [interés compuesto](https://es.wikipedia.org/wiki/Inter%C3%A9s_compuesto), es decir, el principio de que podemos ganar intereses sobre los intereses.\n",
    "De la definición que dimos del [valor futuro](https://es.wikipedia.org/wiki/Valor_tiempo_del_dinero), podemos obtener su expresión matemática:\n",
    "\n",
    "$$FV = X * ( 1 + r )^n$$\n",
    "\n",
    "Como podemos ver, su cálculo es bastante simple. Veamos un ejemplo de como calcular el FV de un depósito de USD 1000 a 3 años y con una tasa de interés del 6% anual."
   ]
  },
  {
   "cell_type": "code",
   "execution_count": 1,
   "metadata": {
    "collapsed": false
   },
   "outputs": [],
   "source": [
    "# graficos embebidos\n",
    "%matplotlib inline  "
   ]
  },
  {
   "cell_type": "code",
   "execution_count": 2,
   "metadata": {
    "collapsed": false
   },
   "outputs": [
    {
     "data": {
      "text/plain": [
       "1191.016"
      ]
     },
     "execution_count": 2,
     "metadata": {},
     "output_type": "execute_result"
    }
   ],
   "source": [
    "# Ejemplo FV con python\n",
    "# $1000 al 6% anual por 3 años.\n",
    "\n",
    "# importando librerías\n",
    "import numpy as np\n",
    "import matplotlib.pyplot as plt\n",
    "\n",
    "x = -1000  # deposito\n",
    "r = .06    # tasa de interes\n",
    "n = 3      # cantidad de años\n",
    "\n",
    "# usando la funcion fv de numpy\n",
    "FV = np.fv(pv=x, rate=r, nper=n, pmt=0)\n",
    "FV"
   ]
  },
  {
   "cell_type": "code",
   "execution_count": 3,
   "metadata": {
    "collapsed": false
   },
   "outputs": [
    {
     "data": {
      "text/plain": [
       "-1191.016"
      ]
     },
     "execution_count": 3,
     "metadata": {},
     "output_type": "execute_result"
    }
   ],
   "source": [
    "# Controlando el resultado\n",
    "x * (1 + r)**n"
   ]
  },
  {
   "cell_type": "code",
   "execution_count": 4,
   "metadata": {
    "collapsed": false
   },
   "outputs": [],
   "source": [
    "# Graficando las funciones con interes de 6 y 12 % a 20 años.\n",
    "t = list(range(0, 21))\n",
    "\n",
    "def fv6(num):\n",
    "    return np.fv(pv=-1000, rate=r, pmt=0, nper=num)\n",
    "\n",
    "def fv12(num):\n",
    "    return np.fv(pv=-1000, rate=.12, pmt=0, nper=num)"
   ]
  },
  {
   "cell_type": "code",
   "execution_count": 5,
   "metadata": {
    "collapsed": false
   },
   "outputs": [
    {
     "data": {
      "image/png": "[encoded data removed]",
      "text/plain": [
       "<matplotlib.figure.Figure at 0x7f2807797828>"
      ]
     },
     "metadata": {},
     "output_type": "display_data"
    }
   ],
   "source": [
    "plt.title(\"Graficando FV 6 y 12 %\")\n",
    "plt.plot(t, fv6(t), label=\"interes 6 %\")\n",
    "plt.plot(t, fv12(t), label=\"interes 12 %\")\n",
    "plt.legend(loc='upper left')\n",
    "plt.show()"
   ]
  },
  {
   "cell_type": "markdown",
   "metadata": {},
   "source": [
    "Al graficar dos funciones de [FV](https://es.wikipedia.org/wiki/Valor_tiempo_del_dinero), una con una tasa de interes del 6% y otra con una tasa más alta del 12%, podemos ver que el [valor futuro](https://es.wikipedia.org/wiki/Valor_tiempo_del_dinero) suele ser bastante sensitivo a los cambios en la tasa de interes, pequeñas variaciones en ella pueden generar grandes saltos a lo largo del tiempo.\n",
    "\n",
    "#### Anualidades\n",
    "\n",
    "Como podemos ver en el ejemplo anterior, la función fv de [Numpy](https://www.numpy.org/) tiene varios parámetros, esto es así, porque existen otros casos en los que el cálculo del [valor futuro](https://es.wikipedia.org/wiki/Valor_tiempo_del_dinero) se puede volver más complicado; es aquí cuando comenzamos a hablar de *anulidades*. La idea de las *anualidades* es no solo quedarse con el cálculo simple de cuanto me va a rendir un solo deposito inicial a fin de un período, sino también poder calcular el [valor futuro](https://es.wikipedia.org/wiki/Valor_tiempo_del_dinero) de múltiples depósitos que se reinvierten a una misma tasa de interés. Supongamos por ejemplo que queremos hacer 10 depósitos anuales de USD 1000 cada uno, los cuales vamos a ir depositando al comienzo de cada año. ¿Cuál sería en este caso el [valor futuro](https://es.wikipedia.org/wiki/Valor_tiempo_del_dinero) de nuestra *anualidad* luego del décimo año?.\n",
    "Ayudémonos de [Python](https://www.python.org/) para calcular la respuesta!"
   ]
  },
  {
   "cell_type": "code",
   "execution_count": 6,
   "metadata": {
    "collapsed": false
   },
   "outputs": [
    {
     "data": {
      "text/plain": [
       "13971.642638923764"
      ]
     },
     "execution_count": 6,
     "metadata": {},
     "output_type": "execute_result"
    }
   ],
   "source": [
    "# Calculando el valor de la anualidad con 6% anual\n",
    "x = -1000 # valor de depositos\n",
    "r = .06   # tasa de interes\n",
    "n = 10    # cantidad de años\n",
    "\n",
    "# usando la funcion fv de numpy\n",
    "FV = np.fv(pv=0, rate=r, nper=n, pmt=x, when='begin')\n",
    "FV"
   ]
  },
  {
   "cell_type": "markdown",
   "metadata": {},
   "source": [
    "Aquí comenzamos con un [valor presente](https://es.wikipedia.org/wiki/Valor_tiempo_del_dinero)(PV) de cero, luego realizamos el primer deposito de USD 1000 al comienzo del primer año y continuamos con los sucesivos depósitos al comienzo de cada uno de los restantes años. Para poder entender mejor como funciona la función `fv` de [Numpy](https://www.numpy.org/) voy a explicar un poco más sus parámetros.\n",
    "\n",
    "* **pv** = este parametro es el [valor presente](https://es.wikipedia.org/wiki/Valor_tiempo_del_dinero) de nuestra inversión o *anualidad*; en nuestro ejemplo empezamos con un valor de cero; ya que luego vamos a ir realizando los diferentes depósitos de USD 1000.\n",
    "* **rate** = es la tasa efectiva de interés que nos rendirá la *anualidad* por cada período.\n",
    "* **nper** = Es el número de períodos. Tener en cuenta que si aquí estamos utilizando como unidad de medida de años, nuestra tasa de interés deberá estar expresada en la misma unidad.\n",
    "* **pmt** = El valor de los depósitos que vamos a ir invirtiendo en nuestra *anualidad*. En nuestro caso el valor de -1000 refleja el importe que vamos a ir depositando año a año.(se expresa con signo negativo, ya que un deposito implica una salida de dinero).\n",
    "* **when** = Este parámetro nos dice cuando se van a hacer efectivos nuestros depósitos, ya que el resultado puede ser muy distinto si realizamos el deposito al comienzo(como en nuestro ejemplo) o al final de cada período."
   ]
  },
  {
   "cell_type": "code",
   "execution_count": 7,
   "metadata": {
    "collapsed": false
   },
   "outputs": [
    {
     "data": {
      "text/plain": [
       "13180.79494238091"
      ]
     },
     "execution_count": 7,
     "metadata": {},
     "output_type": "execute_result"
    }
   ],
   "source": [
    "# mismo caso pero con la diferencia de que los depositos se \n",
    "# realizan al final de cada período.\n",
    "FV = np.fv(pv=0, rate=r, nper=n, pmt=x, when='end')\n",
    "FV"
   ]
  },
  {
   "cell_type": "markdown",
   "metadata": {},
   "source": [
    "En este último ejemplo, el valor es menor por las perdidas relativas de interés que vamos teniendo al realizar los depósitos al final de cada período en lugar de al comienzo. "
   ]
  },
  {
   "cell_type": "markdown",
   "metadata": {},
   "source": [
    "### Valor Presente\n",
    "\n",
    "El [valor presente](https://es.wikipedia.org/wiki/Valor_tiempo_del_dinero) o PV (por sus siglas en inglés), nos indica el valor que tienen hoy un pago o pagos que recibiremos en el futuro. Supongamos por ejemplo que sabemos que un tío nos va a regalar USD 1000 dentro de 3 años porque somos su sobrino favorito, si también sabemos que un banco nos pagaría un 6% de interés por los depósitos en una caja de ahorro, podríamos calcular el [valor presente](https://es.wikipedia.org/wiki/Valor_tiempo_del_dinero) que tendría ese pago futuro de nuestro tío en el día de hoy. La formula para calcular el [valor presente](https://es.wikipedia.org/wiki/Valor_tiempo_del_dinero) la podemos derivar de la que utilizamos para calcular el [valor futuro](https://es.wikipedia.org/wiki/Valor_tiempo_del_dinero) y se expresaría del siguiente modo:\n",
    "\n",
    "$$PV =\\frac{fv}{(1 + r)^n}$$\n",
    "\n",
    "Aplicando la esta formula sobre los datos con que contamos, podríamos calcular el valor de hoy de la promesa de pago de USD 1000 de nuestro tío, los que nos daría un [valor presente](https://es.wikipedia.org/wiki/Valor_tiempo_del_dinero) de USD 839.62 como se desprende del siguiente cálculo."
   ]
  },
  {
   "cell_type": "code",
   "execution_count": 8,
   "metadata": {
    "collapsed": false
   },
   "outputs": [
    {
     "data": {
      "text/plain": [
       "839.6192830323018"
      ]
     },
     "execution_count": 8,
     "metadata": {},
     "output_type": "execute_result"
    }
   ],
   "source": [
    "fv = 1000  # valor futuro\n",
    "r = .06   # tasa de interes\n",
    "n = 3     # cantidad de años\n",
    "\n",
    "fv / ((1 + r)**n)"
   ]
  },
  {
   "cell_type": "code",
   "execution_count": 9,
   "metadata": {
    "collapsed": false
   },
   "outputs": [
    {
     "data": {
      "text/plain": [
       "-839.6192830323018"
      ]
     },
     "execution_count": 9,
     "metadata": {},
     "output_type": "execute_result"
    }
   ],
   "source": [
    "# usando la funcion pv de numpy\n",
    "PV = np.pv(fv=fv, rate=r, nper=n, pmt=0)\n",
    "PV"
   ]
  },
  {
   "cell_type": "markdown",
   "metadata": {},
   "source": [
    "Estos USD 839.62 en realidad lo que representan es que si nosotros hoy depositáramos en la caja de ahorro de un banco que nos pague 6% anual de interés el importe de USD 839.62, obtendríamos dentro de los 3 años los mismos USD 1000 que nos ofreció dar nuestro tío dentro de 3 años; o lo que es lo mismo que decir que el [valor futuro](https://es.wikipedia.org/wiki/Valor_tiempo_del_dinero) dentro de 3 años de USD 839.62 son los USD 1000 de nuestro querido tío."
   ]
  },
  {
   "cell_type": "code",
   "execution_count": 10,
   "metadata": {
    "collapsed": false
   },
   "outputs": [
    {
     "data": {
      "text/plain": [
       "1000.00085392"
      ]
     },
     "execution_count": 10,
     "metadata": {},
     "output_type": "execute_result"
    }
   ],
   "source": [
    "# Calculando el valor futuro de los 839.62\n",
    "np.fv(pv=-839.62, rate=r, nper=n, pmt=0)"
   ]
  },
  {
   "cell_type": "markdown",
   "metadata": {},
   "source": [
    "#### Valor presente y anualidades\n",
    "\n",
    "Al igual que en el caso del [valor futuro](https://es.wikipedia.org/wiki/Valor_tiempo_del_dinero), aquí también podemos encontrarnos con las *anualidades*, es decir, una serie de pagos iguales que recibiremos. El [valor presente](https://es.wikipedia.org/wiki/Valor_tiempo_del_dinero) de una *anualidad* nos va a decir el valor que tienen hoy los futuros pagos de la *anualidad*. Así, por ejemplo si nuestro tío en lugar de regalarnos USD 1000 dentro de 3 años, decide darnos USD 250 al final de cada año durante 5 años; y asumiendo la misma tasa de interés que nos ofrece el banco de 6% anual. El valor presente de esta *anualidad* sería USD 1053.09."
   ]
  },
  {
   "cell_type": "code",
   "execution_count": 11,
   "metadata": {
    "collapsed": false
   },
   "outputs": [
    {
     "data": {
      "text/plain": [
       "1053.090946391429"
      ]
     },
     "execution_count": 11,
     "metadata": {},
     "output_type": "execute_result"
    }
   ],
   "source": [
    "# Calculando el valor de la anualidad\n",
    "PV = np.pv(fv=0, rate=r, nper=5, pmt=-250, when='end')\n",
    "PV"
   ]
  },
  {
   "cell_type": "markdown",
   "metadata": {},
   "source": [
    "#### Eligiendo la tasa de descuento\n",
    "\n",
    "Uno de los puntos sobre el que hacer más foco al calcular el [valor presente](https://es.wikipedia.org/wiki/Valor_tiempo_del_dinero) de un flujo de fondos futuro, es el de como elegir la tasa para descontar estos fondos, ya que la tasa que utilicemos es la pieza clave para la exactitud de nuestros cálculos. El principio básico que nos debe guiar la elegir la *tasa de descuento* es el de tratar de elegir que sea apropiada al *riesgo* y la duración de los flujos de fondos que estamos descontando. En el ejemplo que venimos viendo, como sabemos que nuestro tío es una persona muy solvente y de palabra, podemos considerar que no existe mucho *riesgo* en ese flujo de fondos, por lo que utilizar la tasa de interés de una caja de ahorro parece ser un buen criterio para descontar ese flujo. En los casos de las empresas, las mismas suelen utilizar el *costo del capital* como una *tasa de descuento* apropiada para descontar el flujo futuro de sus inversiones o proyectos."
   ]
  },
  {
   "cell_type": "markdown",
   "metadata": {},
   "source": [
    "### Valor Presente Neto\n",
    "\n",
    "Un concepto que merece una especial mención, por su importancia dentro del mundo de las finanzas, cuando hablamos del [valor presente](https://es.wikipedia.org/wiki/Valor_tiempo_del_dinero), es el de [Valor Presente Neto](https://es.wikipedia.org/wiki/Valor_actual_neto). \n",
    "Cuando estamos *descontando* flujos de fondos futuros para traerlos a su valor actual, puede ser que éstos flujos no sean homogeneos, por lo que ya no podríamos tratarlos como una *anualidad*, ya que los pagos son por importes distintos todos los años; para estos casos debemos utilizar el [Valor Presente Neto](https://es.wikipedia.org/wiki/Valor_actual_neto).\n",
    "\n",
    "El [Valor Presente Neto](https://es.wikipedia.org/wiki/Valor_actual_neto) o NPV (por sus siglas en inglés) de una serie de flujos futuros de fondos es su igual a su [valor presente](https://es.wikipedia.org/wiki/Valor_tiempo_del_dinero) menos el importe de la inversión inicial necesaria para obtener esos mismos flujos de fondos futuros. Su expresión matemática sería la siguiente:\n",
    "\n",
    "$$NPV = \\sum\\limits_{t=1}^n \\frac{V_{t}}{(1 + r)^t} - I_{0}$$\n",
    "\n",
    "donde, $V_{t}$ representa el flujo de fondos de cada período $t$; $I_{0}$ es el valor inicial de la inversión; $r$ es la *tasa de descuento* utilizada; y $n$ es la cantidad de períodos considerados.\n",
    "\n",
    "Volviendo al ejemplo que veníamos utilizando de nuestro generoso tío, esta vez no ofrece pagarnos USD 500 al final del primer año, USD 750 al final del segundo año, USD 1000 al final del tercer año, USD 1250 al final del cuarto año y USD 500 al final del quinto año. El [NPV](https://es.wikipedia.org/wiki/Valor_actual_neto) de este flujo de fondos sería de USD 3342.56."
   ]
  },
  {
   "cell_type": "code",
   "execution_count": 12,
   "metadata": {
    "collapsed": false
   },
   "outputs": [
    {
     "data": {
      "text/plain": [
       "3342.560891731083"
      ]
     },
     "execution_count": 12,
     "metadata": {},
     "output_type": "execute_result"
    }
   ],
   "source": [
    "# Calculando el valor presente neto.\n",
    "NPV = np.npv(rate=.06, values=[0, 500, 750, 1000, 1250, 500])\n",
    "NPV"
   ]
  },
  {
   "cell_type": "markdown",
   "metadata": {},
   "source": [
    "El [Valor Presente Neto](https://es.wikipedia.org/wiki/Valor_actual_neto) es sumamente utilizado en los análisis financieros, principalmente para evaluar inversiones o proyectos. Como regla general se considera que si el [NPV](https://es.wikipedia.org/wiki/Valor_actual_neto) de un proyecto o inversión es positivo, se trata de un proyecto rentable en el que deberíamos invertir; en cambio si el [NPV](https://es.wikipedia.org/wiki/Valor_actual_neto) es negativo estamos ante un mal negocio.\n",
    "\n",
    "Si por ejemplo, tendríamos que invertir hoy USD 4000 para poder obtener un flujo de fondos de USD 500 al final del primer año, USD 750 al final del segundo año, USD 1000 al final del tercer año, USD 1250 al final del cuarto año y USD 500 al final del quinto año; estaríamos haciendo un mal negocio, ya que como sabemos el valor presente de esos flujos de fondos es de USD 3342.56, un valor mucho menor a los USD 4000 que deberíamos invertir."
   ]
  },
  {
   "cell_type": "code",
   "execution_count": 13,
   "metadata": {
    "collapsed": false
   },
   "outputs": [
    {
     "data": {
      "text/plain": [
       "-657.4391082689172"
      ]
     },
     "execution_count": 13,
     "metadata": {},
     "output_type": "execute_result"
    }
   ],
   "source": [
    "# Calculando el NPV de la inversión de 4000.\n",
    "NPV = np.npv(rate=.06, values=[-4000, 500, 750, 1000, 1250, 500])\n",
    "NPV"
   ]
  },
  {
   "cell_type": "markdown",
   "metadata": {},
   "source": [
    "En el ejemplo podemos ver que al utilizar la función `npv` de [Numpy](https://www.numpy.org/), el primer valor en la lista de valores que le pasamos al parámetro `values` debe ser el monto de la inversión inicial, y como implica un desembolso de dinero, su signo es negativo.\n",
    "\n",
    "Si en lugar de tener que invertir USD 4000, tendríamos que invertir USD 3000 para obtener el mismo flujo de fondos, ya estaríamos realizando una buena inversión, con [NPV](https://es.wikipedia.org/wiki/Valor_actual_neto) positivo."
   ]
  },
  {
   "cell_type": "code",
   "execution_count": 14,
   "metadata": {
    "collapsed": false
   },
   "outputs": [
    {
     "data": {
      "text/plain": [
       "342.56089173108285"
      ]
     },
     "execution_count": 14,
     "metadata": {},
     "output_type": "execute_result"
    }
   ],
   "source": [
    "# Calculando el NPV de la inversión de 3000.\n",
    "NPV = np.npv(rate=.06, values=[-3000, 500, 750, 1000, 1250, 500])\n",
    "NPV"
   ]
  },
  {
   "cell_type": "markdown",
   "metadata": {},
   "source": [
    "### Tasa interna de Retorno\n",
    "\n",
    "La [tasa interna de retorno](https://es.wikipedia.org/wiki/Tasa_interna_de_retorno) o IRR (por sus siglas en inglés) es la *tasa de descuento* que hace que el [Valor Presente Neto](https://es.wikipedia.org/wiki/Valor_actual_neto) de los flujos de fondos futuros sea igual a *cero*; también puede ser definida como la tasa de [interés compuesto](https://es.wikipedia.org/wiki/Inter%C3%A9s_compuesto) que nos paga nuestra inversión. \n",
    "\n",
    "Al igual que como sucede con el [Valor Presente Neto](https://es.wikipedia.org/wiki/Valor_actual_neto), podemos utilizar a la [tasa interna de retorno](https://es.wikipedia.org/wiki/Tasa_interna_de_retorno) para tomar decisiones financieras. Aquí la regla general es que, al momento de decidir entre diferentes inversiones, deberíamos elegir aquella con una [tasa interna de retorno](https://es.wikipedia.org/wiki/Tasa_interna_de_retorno) más alta; ya que es la que en menos tiempo no va a devolver nuestra inversión inicial.\n",
    "\n",
    "Veamos un ejemplo, supongamos que tenemos USD 1000 para invertir, y que podemos decidir invertir ese dinero en una compañía que nos va a pagar USD 300 al final de cada uno de los próximos cuatro años; o por otra lado, podemos invertir el dinero en una caja de ahorro de un banco que nos va a pagar 5% anual. ¿Dónde deberíamos invertir nuestro dinero?"
   ]
  },
  {
   "cell_type": "code",
   "execution_count": 15,
   "metadata": {
    "collapsed": false
   },
   "outputs": [
    {
     "data": {
      "text/plain": [
       "7.713847295208343"
      ]
     },
     "execution_count": 15,
     "metadata": {},
     "output_type": "execute_result"
    }
   ],
   "source": [
    "# Calculando la tasa interna de retorno de la inversion en la compañía\n",
    "IRR = np.irr([-1000, 300, 300, 300, 300])\n",
    "IRR * 100"
   ]
  },
  {
   "cell_type": "markdown",
   "metadata": {},
   "source": [
    "Al calcular la [IRR](https://es.wikipedia.org/wiki/Tasa_interna_de_retorno) de la inversión que podríamos hacer en la compañía, vemos que nos da un valor de 7.71%; esta tasa es más alta que la tasa del 5% que nos ofrece el banco por el deposito en su caja de ahorro, por lo que deberíamos decidir invertir nuestro dinero en la compañía en lugar de en el banco.\n",
    "\n",
    "#### La IRR graficamente\n",
    "\n",
    "Como se desprende de su definición, la [tasa interna de retorno](https://es.wikipedia.org/wiki/Tasa_interna_de_retorno) es la tasa que hace que el [NPV](https://es.wikipedia.org/wiki/Valor_actual_neto) se haga cero, por lo que si nos propusiesemos graficar el [NPV](https://es.wikipedia.org/wiki/Valor_actual_neto) en función de la *tasa de descuento*, podríamos encontrar a simple vista, cual es la [IRR](https://es.wikipedia.org/wiki/Tasa_interna_de_retorno) de un determinado flujo de fondos. Veamos un ejemplo, graficando el flujo de fondos con el que trabajamos anteriormente."
   ]
  },
  {
   "cell_type": "code",
   "execution_count": 16,
   "metadata": {
    "collapsed": false
   },
   "outputs": [
    {
     "data": {
      "image/png": "[encoded data removed]",
      "text/plain": [
       "<matplotlib.figure.Figure at 0x7f28057150f0>"
      ]
     },
     "metadata": {},
     "output_type": "display_data"
    }
   ],
   "source": [
    "# Graficando el NPV en función de la tasa de descuento\n",
    "def npv_irr(tasas):\n",
    "    result = []\n",
    "    for tasa in tasas:\n",
    "        result.append(np.npv(tasa/100,[-1000, 300, 300, 300, 300] ))\n",
    "    return result\n",
    "\n",
    "tasas = list(range(14))\n",
    "\n",
    "plt.title(\"NPV y la tasa de descuento\")\n",
    "plt.plot(tasas, npv_irr(tasas), marker='o', label='NPV')\n",
    "plt.axhline(0, color='red')\n",
    "axes = plt.gca()\n",
    "axes.set_ylim([-200,250])\n",
    "plt.xticks(tasas)\n",
    "plt.legend(loc='upper right')\n",
    "plt.show()\n"
   ]
  },
  {
   "cell_type": "markdown",
   "metadata": {},
   "source": [
    "Como podemos ver en el gráfico, la función de [NPV](https://es.wikipedia.org/wiki/Valor_actual_neto), se hace cero en aproximadamente 7.71%; es decir, el valor de la [IRR](https://es.wikipedia.org/wiki/Tasa_interna_de_retorno) para ese flujo de fondos."
   ]
  },
  {
   "cell_type": "markdown",
   "metadata": {},
   "source": [
    "## Información financiera y Pandas\n",
    "\n",
    "En las finanzas, una de las formas de datos más comunes e importantes con la que nos vamos a encontrar son las [series de tiempo](https://es.wikipedia.org/wiki/Serie_temporal); para trabajar con este tipo de información en [Python](https://www.python.org/), no existe mejor librería que [Pandas](https://pandas.pydata.org/); sus dos estructuras de datos básicas, las *Series* y el *Dataframe*, nos ayudan a manipular información financiera de forma muy conveniente. Además [Pandas](https://pandas.pydata.org/) nos proporciona una gran batería de métodos y funciones que nos facilitan la obtención y el análisis de datos financieros. Veamos algunos ejemplos de las cosas que podemos con [Pandas](https://pandas.pydata.org/)."
   ]
  },
  {
   "cell_type": "code",
   "execution_count": 17,
   "metadata": {
    "collapsed": true
   },
   "outputs": [],
   "source": [
    "# Importando pandas y datetime\n",
    "import pandas as pd\n",
    "import pandas_datareader.data as web\n",
    "import datetime as dt\n",
    "\n",
    "# Extrayendo información financiera de Yahoo! Finance\n",
    "inicio = dt.datetime(2014, 1, 1)\n",
    "fin = dt.datetime(2014, 12, 31)\n",
    "\n",
    "msft = web.DataReader(\"MSFT\", 'google', inicio, fin)  # información de Microsoft\n",
    "aapl = web.DataReader(\"AAPL\", 'google', inicio, fin)  # información de Apple"
   ]
  },
  {
   "cell_type": "code",
   "execution_count": 18,
   "metadata": {
    "collapsed": false
   },
   "outputs": [
    {
     "data": {
      "text/html": [
       "<div>\n",
       "<style scoped>\n",
       "    .dataframe tbody tr th:only-of-type {\n",
       "        vertical-align: middle;\n",
       "    }\n",
       "\n",
       "    .dataframe tbody tr th {\n",
       "        vertical-align: top;\n",
       "    }\n",
       "\n",
       "    .dataframe thead th {\n",
       "        text-align: right;\n",
       "    }\n",
       "</style>\n",
       "<table border=\"1\" class=\"dataframe\">\n",
       "  <thead>\n",
       "    <tr style=\"text-align: right;\">\n",
       "      <th></th>\n",
       "      <th>Open</th>\n",
       "      <th>High</th>\n",
       "      <th>Low</th>\n",
       "      <th>Close</th>\n",
       "      <th>Volume</th>\n",
       "    </tr>\n",
       "    <tr>\n",
       "      <th>Date</th>\n",
       "      <th></th>\n",
       "      <th></th>\n",
       "      <th></th>\n",
       "      <th></th>\n",
       "      <th></th>\n",
       "    </tr>\n",
       "  </thead>\n",
       "  <tbody>\n",
       "    <tr>\n",
       "      <th>2014-01-02</th>\n",
       "      <td>37.35</td>\n",
       "      <td>37.40</td>\n",
       "      <td>37.10</td>\n",
       "      <td>37.16</td>\n",
       "      <td>30643745</td>\n",
       "    </tr>\n",
       "    <tr>\n",
       "      <th>2014-01-03</th>\n",
       "      <td>37.20</td>\n",
       "      <td>37.22</td>\n",
       "      <td>36.60</td>\n",
       "      <td>36.91</td>\n",
       "      <td>31134795</td>\n",
       "    </tr>\n",
       "    <tr>\n",
       "      <th>2014-01-06</th>\n",
       "      <td>36.85</td>\n",
       "      <td>36.89</td>\n",
       "      <td>36.11</td>\n",
       "      <td>36.13</td>\n",
       "      <td>43615035</td>\n",
       "    </tr>\n",
       "  </tbody>\n",
       "</table>\n",
       "</div>"
      ],
      "text/plain": [
       "             Open   High    Low  Close    Volume\n",
       "Date                                            \n",
       "2014-01-02  37.35  37.40  37.10  37.16  30643745\n",
       "2014-01-03  37.20  37.22  36.60  36.91  31134795\n",
       "2014-01-06  36.85  36.89  36.11  36.13  43615035"
      ]
     },
     "execution_count": 18,
     "metadata": {},
     "output_type": "execute_result"
    }
   ],
   "source": [
    "msft[:3]"
   ]
  },
  {
   "cell_type": "code",
   "execution_count": 19,
   "metadata": {
    "collapsed": false
   },
   "outputs": [
    {
     "data": {
      "text/html": [
       "<div>\n",
       "<style scoped>\n",
       "    .dataframe tbody tr th:only-of-type {\n",
       "        vertical-align: middle;\n",
       "    }\n",
       "\n",
       "    .dataframe tbody tr th {\n",
       "        vertical-align: top;\n",
       "    }\n",
       "\n",
       "    .dataframe thead th {\n",
       "        text-align: right;\n",
       "    }\n",
       "</style>\n",
       "<table border=\"1\" class=\"dataframe\">\n",
       "  <thead>\n",
       "    <tr style=\"text-align: right;\">\n",
       "      <th></th>\n",
       "      <th>Open</th>\n",
       "      <th>High</th>\n",
       "      <th>Low</th>\n",
       "      <th>Close</th>\n",
       "      <th>Volume</th>\n",
       "    </tr>\n",
       "    <tr>\n",
       "      <th>Date</th>\n",
       "      <th></th>\n",
       "      <th></th>\n",
       "      <th></th>\n",
       "      <th></th>\n",
       "      <th></th>\n",
       "    </tr>\n",
       "  </thead>\n",
       "  <tbody>\n",
       "    <tr>\n",
       "      <th>2014-01-02</th>\n",
       "      <td>79.38</td>\n",
       "      <td>79.58</td>\n",
       "      <td>78.86</td>\n",
       "      <td>79.02</td>\n",
       "      <td>58791957</td>\n",
       "    </tr>\n",
       "    <tr>\n",
       "      <th>2014-01-03</th>\n",
       "      <td>78.98</td>\n",
       "      <td>79.10</td>\n",
       "      <td>77.20</td>\n",
       "      <td>77.28</td>\n",
       "      <td>98303870</td>\n",
       "    </tr>\n",
       "    <tr>\n",
       "      <th>2014-01-06</th>\n",
       "      <td>76.78</td>\n",
       "      <td>78.11</td>\n",
       "      <td>76.23</td>\n",
       "      <td>77.70</td>\n",
       "      <td>103359151</td>\n",
       "    </tr>\n",
       "  </tbody>\n",
       "</table>\n",
       "</div>"
      ],
      "text/plain": [
       "             Open   High    Low  Close     Volume\n",
       "Date                                             \n",
       "2014-01-02  79.38  79.58  78.86  79.02   58791957\n",
       "2014-01-03  78.98  79.10  77.20  77.28   98303870\n",
       "2014-01-06  76.78  78.11  76.23  77.70  103359151"
      ]
     },
     "execution_count": 19,
     "metadata": {},
     "output_type": "execute_result"
    }
   ],
   "source": [
    "aapl[:3]"
   ]
  },
  {
   "cell_type": "code",
   "execution_count": 20,
   "metadata": {
    "collapsed": false
   },
   "outputs": [
    {
     "data": {
      "text/html": [
       "<div>\n",
       "<style scoped>\n",
       "    .dataframe tbody tr th:only-of-type {\n",
       "        vertical-align: middle;\n",
       "    }\n",
       "\n",
       "    .dataframe tbody tr th {\n",
       "        vertical-align: top;\n",
       "    }\n",
       "\n",
       "    .dataframe thead th {\n",
       "        text-align: right;\n",
       "    }\n",
       "</style>\n",
       "<table border=\"1\" class=\"dataframe\">\n",
       "  <thead>\n",
       "    <tr style=\"text-align: right;\">\n",
       "      <th></th>\n",
       "      <th>Close</th>\n",
       "    </tr>\n",
       "    <tr>\n",
       "      <th>Date</th>\n",
       "      <th></th>\n",
       "    </tr>\n",
       "  </thead>\n",
       "  <tbody>\n",
       "    <tr>\n",
       "      <th>2014-01-02</th>\n",
       "      <td>37.16</td>\n",
       "    </tr>\n",
       "    <tr>\n",
       "      <th>2014-01-03</th>\n",
       "      <td>36.91</td>\n",
       "    </tr>\n",
       "    <tr>\n",
       "      <th>2014-01-06</th>\n",
       "      <td>36.13</td>\n",
       "    </tr>\n",
       "  </tbody>\n",
       "</table>\n",
       "</div>"
      ],
      "text/plain": [
       "            Close\n",
       "Date             \n",
       "2014-01-02  37.16\n",
       "2014-01-03  36.91\n",
       "2014-01-06  36.13"
      ]
     },
     "execution_count": 20,
     "metadata": {},
     "output_type": "execute_result"
    }
   ],
   "source": [
    "# Seleccionando solo el Adj Close price de Enero 2014\n",
    "msft01 = msft['2014-01'][['Close']]\n",
    "aapl01 = aapl['2014-01'][['Close']]\n",
    "\n",
    "msft01[:3]"
   ]
  },
  {
   "cell_type": "code",
   "execution_count": 21,
   "metadata": {
    "collapsed": false
   },
   "outputs": [
    {
     "data": {
      "text/html": [
       "<div>\n",
       "<style scoped>\n",
       "    .dataframe tbody tr th:only-of-type {\n",
       "        vertical-align: middle;\n",
       "    }\n",
       "\n",
       "    .dataframe tbody tr th {\n",
       "        vertical-align: top;\n",
       "    }\n",
       "\n",
       "    .dataframe thead th {\n",
       "        text-align: right;\n",
       "    }\n",
       "</style>\n",
       "<table border=\"1\" class=\"dataframe\">\n",
       "  <thead>\n",
       "    <tr style=\"text-align: right;\">\n",
       "      <th></th>\n",
       "      <th>Close</th>\n",
       "    </tr>\n",
       "    <tr>\n",
       "      <th>Date</th>\n",
       "      <th></th>\n",
       "    </tr>\n",
       "  </thead>\n",
       "  <tbody>\n",
       "    <tr>\n",
       "      <th>2014-01-02</th>\n",
       "      <td>79.02</td>\n",
       "    </tr>\n",
       "    <tr>\n",
       "      <th>2014-01-03</th>\n",
       "      <td>77.28</td>\n",
       "    </tr>\n",
       "    <tr>\n",
       "      <th>2014-01-06</th>\n",
       "      <td>77.70</td>\n",
       "    </tr>\n",
       "    <tr>\n",
       "      <th>2014-01-07</th>\n",
       "      <td>77.15</td>\n",
       "    </tr>\n",
       "    <tr>\n",
       "      <th>2014-01-08</th>\n",
       "      <td>77.64</td>\n",
       "    </tr>\n",
       "  </tbody>\n",
       "</table>\n",
       "</div>"
      ],
      "text/plain": [
       "            Close\n",
       "Date             \n",
       "2014-01-02  79.02\n",
       "2014-01-03  77.28\n",
       "2014-01-06  77.70\n",
       "2014-01-07  77.15\n",
       "2014-01-08  77.64"
      ]
     },
     "execution_count": 21,
     "metadata": {},
     "output_type": "execute_result"
    }
   ],
   "source": [
    "aapl01.head()  # head() nos muestra los primeros 5 registros"
   ]
  },
  {
   "cell_type": "code",
   "execution_count": 22,
   "metadata": {
    "collapsed": false
   },
   "outputs": [
    {
     "data": {
      "text/html": [
       "<div>\n",
       "<style scoped>\n",
       "    .dataframe tbody tr th:only-of-type {\n",
       "        vertical-align: middle;\n",
       "    }\n",
       "\n",
       "    .dataframe tbody tr th {\n",
       "        vertical-align: top;\n",
       "    }\n",
       "\n",
       "    .dataframe thead th {\n",
       "        text-align: right;\n",
       "    }\n",
       "</style>\n",
       "<table border=\"1\" class=\"dataframe\">\n",
       "  <thead>\n",
       "    <tr style=\"text-align: right;\">\n",
       "      <th></th>\n",
       "      <th>Open</th>\n",
       "      <th>High</th>\n",
       "      <th>Low</th>\n",
       "      <th>Close</th>\n",
       "      <th>Volume</th>\n",
       "    </tr>\n",
       "    <tr>\n",
       "      <th>Date</th>\n",
       "      <th></th>\n",
       "      <th></th>\n",
       "      <th></th>\n",
       "      <th></th>\n",
       "      <th></th>\n",
       "    </tr>\n",
       "  </thead>\n",
       "  <tbody>\n",
       "    <tr>\n",
       "      <th>2014-02-03</th>\n",
       "      <td>37.74</td>\n",
       "      <td>37.98</td>\n",
       "      <td>36.43</td>\n",
       "      <td>36.48</td>\n",
       "      <td>64102391</td>\n",
       "    </tr>\n",
       "    <tr>\n",
       "      <th>2014-02-04</th>\n",
       "      <td>36.97</td>\n",
       "      <td>37.19</td>\n",
       "      <td>36.25</td>\n",
       "      <td>36.35</td>\n",
       "      <td>55526924</td>\n",
       "    </tr>\n",
       "    <tr>\n",
       "      <th>2014-02-05</th>\n",
       "      <td>36.29</td>\n",
       "      <td>36.47</td>\n",
       "      <td>35.80</td>\n",
       "      <td>35.82</td>\n",
       "      <td>55841097</td>\n",
       "    </tr>\n",
       "    <tr>\n",
       "      <th>2014-02-06</th>\n",
       "      <td>35.80</td>\n",
       "      <td>36.25</td>\n",
       "      <td>35.69</td>\n",
       "      <td>36.18</td>\n",
       "      <td>35380994</td>\n",
       "    </tr>\n",
       "    <tr>\n",
       "      <th>2014-02-07</th>\n",
       "      <td>36.32</td>\n",
       "      <td>36.59</td>\n",
       "      <td>36.01</td>\n",
       "      <td>36.56</td>\n",
       "      <td>33348008</td>\n",
       "    </tr>\n",
       "    <tr>\n",
       "      <th>2014-02-10</th>\n",
       "      <td>36.63</td>\n",
       "      <td>36.80</td>\n",
       "      <td>36.29</td>\n",
       "      <td>36.80</td>\n",
       "      <td>26782083</td>\n",
       "    </tr>\n",
       "    <tr>\n",
       "      <th>2014-02-11</th>\n",
       "      <td>36.88</td>\n",
       "      <td>37.26</td>\n",
       "      <td>36.86</td>\n",
       "      <td>37.18</td>\n",
       "      <td>32164989</td>\n",
       "    </tr>\n",
       "    <tr>\n",
       "      <th>2014-02-12</th>\n",
       "      <td>37.35</td>\n",
       "      <td>37.60</td>\n",
       "      <td>37.30</td>\n",
       "      <td>37.47</td>\n",
       "      <td>27055869</td>\n",
       "    </tr>\n",
       "    <tr>\n",
       "      <th>2014-02-13</th>\n",
       "      <td>37.33</td>\n",
       "      <td>37.86</td>\n",
       "      <td>37.33</td>\n",
       "      <td>37.61</td>\n",
       "      <td>37647772</td>\n",
       "    </tr>\n",
       "  </tbody>\n",
       "</table>\n",
       "</div>"
      ],
      "text/plain": [
       "             Open   High    Low  Close    Volume\n",
       "Date                                            \n",
       "2014-02-03  37.74  37.98  36.43  36.48  64102391\n",
       "2014-02-04  36.97  37.19  36.25  36.35  55526924\n",
       "2014-02-05  36.29  36.47  35.80  35.82  55841097\n",
       "2014-02-06  35.80  36.25  35.69  36.18  35380994\n",
       "2014-02-07  36.32  36.59  36.01  36.56  33348008\n",
       "2014-02-10  36.63  36.80  36.29  36.80  26782083\n",
       "2014-02-11  36.88  37.26  36.86  37.18  32164989\n",
       "2014-02-12  37.35  37.60  37.30  37.47  27055869\n",
       "2014-02-13  37.33  37.86  37.33  37.61  37647772"
      ]
     },
     "execution_count": 22,
     "metadata": {},
     "output_type": "execute_result"
    }
   ],
   "source": [
    "# tambien se puede seleccionar un rango de tiempo\n",
    "msft['2014-02':'2014-02-13']  # desde el 1 al 13 de febrero"
   ]
  },
  {
   "cell_type": "code",
   "execution_count": 23,
   "metadata": {
    "collapsed": false
   },
   "outputs": [
    {
     "data": {
      "text/html": [
       "<div>\n",
       "<style scoped>\n",
       "    .dataframe tbody tr th:only-of-type {\n",
       "        vertical-align: middle;\n",
       "    }\n",
       "\n",
       "    .dataframe tbody tr th {\n",
       "        vertical-align: top;\n",
       "    }\n",
       "\n",
       "    .dataframe thead th {\n",
       "        text-align: right;\n",
       "    }\n",
       "</style>\n",
       "<table border=\"1\" class=\"dataframe\">\n",
       "  <thead>\n",
       "    <tr style=\"text-align: right;\">\n",
       "      <th></th>\n",
       "      <th></th>\n",
       "      <th>Close</th>\n",
       "    </tr>\n",
       "    <tr>\n",
       "      <th></th>\n",
       "      <th>Date</th>\n",
       "      <th></th>\n",
       "    </tr>\n",
       "  </thead>\n",
       "  <tbody>\n",
       "    <tr>\n",
       "      <th rowspan=\"5\" valign=\"top\">MSFT</th>\n",
       "      <th>2014-01-02</th>\n",
       "      <td>37.16</td>\n",
       "    </tr>\n",
       "    <tr>\n",
       "      <th>2014-01-03</th>\n",
       "      <td>36.91</td>\n",
       "    </tr>\n",
       "    <tr>\n",
       "      <th>2014-01-06</th>\n",
       "      <td>36.13</td>\n",
       "    </tr>\n",
       "    <tr>\n",
       "      <th>2014-01-07</th>\n",
       "      <td>36.41</td>\n",
       "    </tr>\n",
       "    <tr>\n",
       "      <th>2014-01-08</th>\n",
       "      <td>35.76</td>\n",
       "    </tr>\n",
       "  </tbody>\n",
       "</table>\n",
       "</div>"
      ],
      "text/plain": [
       "                 Close\n",
       "     Date             \n",
       "MSFT 2014-01-02  37.16\n",
       "     2014-01-03  36.91\n",
       "     2014-01-06  36.13\n",
       "     2014-01-07  36.41\n",
       "     2014-01-08  35.76"
      ]
     },
     "execution_count": 23,
     "metadata": {},
     "output_type": "execute_result"
    }
   ],
   "source": [
    "# combinando ambos resultados\n",
    "close = pd.concat([msft01, aapl01], keys=['MSFT', 'AAPL'])\n",
    "close[:5]"
   ]
  },
  {
   "cell_type": "code",
   "execution_count": 24,
   "metadata": {
    "collapsed": false
   },
   "outputs": [
    {
     "data": {
      "text/html": [
       "<div>\n",
       "<style scoped>\n",
       "    .dataframe tbody tr th:only-of-type {\n",
       "        vertical-align: middle;\n",
       "    }\n",
       "\n",
       "    .dataframe tbody tr th {\n",
       "        vertical-align: top;\n",
       "    }\n",
       "\n",
       "    .dataframe thead th {\n",
       "        text-align: right;\n",
       "    }\n",
       "</style>\n",
       "<table border=\"1\" class=\"dataframe\">\n",
       "  <thead>\n",
       "    <tr style=\"text-align: right;\">\n",
       "      <th></th>\n",
       "      <th>Close</th>\n",
       "    </tr>\n",
       "    <tr>\n",
       "      <th>Date</th>\n",
       "      <th></th>\n",
       "    </tr>\n",
       "  </thead>\n",
       "  <tbody>\n",
       "    <tr>\n",
       "      <th>2014-01-02</th>\n",
       "      <td>79.02</td>\n",
       "    </tr>\n",
       "    <tr>\n",
       "      <th>2014-01-03</th>\n",
       "      <td>77.28</td>\n",
       "    </tr>\n",
       "    <tr>\n",
       "      <th>2014-01-06</th>\n",
       "      <td>77.70</td>\n",
       "    </tr>\n",
       "    <tr>\n",
       "      <th>2014-01-07</th>\n",
       "      <td>77.15</td>\n",
       "    </tr>\n",
       "    <tr>\n",
       "      <th>2014-01-08</th>\n",
       "      <td>77.64</td>\n",
       "    </tr>\n",
       "  </tbody>\n",
       "</table>\n",
       "</div>"
      ],
      "text/plain": [
       "            Close\n",
       "Date             \n",
       "2014-01-02  79.02\n",
       "2014-01-03  77.28\n",
       "2014-01-06  77.70\n",
       "2014-01-07  77.15\n",
       "2014-01-08  77.64"
      ]
     },
     "execution_count": 24,
     "metadata": {},
     "output_type": "execute_result"
    }
   ],
   "source": [
    "# seleccionando los primeros 5 registros de AAPL\n",
    "close.ix['AAPL'][:5]  "
   ]
  },
  {
   "cell_type": "code",
   "execution_count": 25,
   "metadata": {
    "collapsed": false
   },
   "outputs": [
    {
     "data": {
      "text/html": [
       "<div>\n",
       "<style scoped>\n",
       "    .dataframe tbody tr th:only-of-type {\n",
       "        vertical-align: middle;\n",
       "    }\n",
       "\n",
       "    .dataframe tbody tr th {\n",
       "        vertical-align: top;\n",
       "    }\n",
       "\n",
       "    .dataframe thead th {\n",
       "        text-align: right;\n",
       "    }\n",
       "</style>\n",
       "<table border=\"1\" class=\"dataframe\">\n",
       "  <thead>\n",
       "    <tr style=\"text-align: right;\">\n",
       "      <th></th>\n",
       "      <th>Symbol</th>\n",
       "      <th>Open</th>\n",
       "      <th>High</th>\n",
       "      <th>Low</th>\n",
       "      <th>Close</th>\n",
       "      <th>Volume</th>\n",
       "    </tr>\n",
       "    <tr>\n",
       "      <th>Date</th>\n",
       "      <th></th>\n",
       "      <th></th>\n",
       "      <th></th>\n",
       "      <th></th>\n",
       "      <th></th>\n",
       "      <th></th>\n",
       "    </tr>\n",
       "  </thead>\n",
       "  <tbody>\n",
       "    <tr>\n",
       "      <th>2014-01-02</th>\n",
       "      <td>MSFT</td>\n",
       "      <td>37.35</td>\n",
       "      <td>37.40</td>\n",
       "      <td>37.10</td>\n",
       "      <td>37.16</td>\n",
       "      <td>30643745</td>\n",
       "    </tr>\n",
       "    <tr>\n",
       "      <th>2014-01-03</th>\n",
       "      <td>MSFT</td>\n",
       "      <td>37.20</td>\n",
       "      <td>37.22</td>\n",
       "      <td>36.60</td>\n",
       "      <td>36.91</td>\n",
       "      <td>31134795</td>\n",
       "    </tr>\n",
       "    <tr>\n",
       "      <th>2014-01-06</th>\n",
       "      <td>MSFT</td>\n",
       "      <td>36.85</td>\n",
       "      <td>36.89</td>\n",
       "      <td>36.11</td>\n",
       "      <td>36.13</td>\n",
       "      <td>43615035</td>\n",
       "    </tr>\n",
       "    <tr>\n",
       "      <th>2014-01-07</th>\n",
       "      <td>MSFT</td>\n",
       "      <td>36.32</td>\n",
       "      <td>36.49</td>\n",
       "      <td>36.21</td>\n",
       "      <td>36.41</td>\n",
       "      <td>35924726</td>\n",
       "    </tr>\n",
       "    <tr>\n",
       "      <th>2014-01-08</th>\n",
       "      <td>MSFT</td>\n",
       "      <td>36.00</td>\n",
       "      <td>36.14</td>\n",
       "      <td>35.58</td>\n",
       "      <td>35.76</td>\n",
       "      <td>59979542</td>\n",
       "    </tr>\n",
       "  </tbody>\n",
       "</table>\n",
       "</div>"
      ],
      "text/plain": [
       "           Symbol   Open   High    Low  Close    Volume\n",
       "Date                                                   \n",
       "2014-01-02   MSFT  37.35  37.40  37.10  37.16  30643745\n",
       "2014-01-03   MSFT  37.20  37.22  36.60  36.91  31134795\n",
       "2014-01-06   MSFT  36.85  36.89  36.11  36.13  43615035\n",
       "2014-01-07   MSFT  36.32  36.49  36.21  36.41  35924726\n",
       "2014-01-08   MSFT  36.00  36.14  35.58  35.76  59979542"
      ]
     },
     "execution_count": 25,
     "metadata": {},
     "output_type": "execute_result"
    }
   ],
   "source": [
    "# insertando una nueva columna con el simbolo\n",
    "msft.insert(0, 'Symbol', 'MSFT')\n",
    "aapl.insert(0, 'Symbol', 'AAPL')\n",
    "\n",
    "msft.head()"
   ]
  },
  {
   "cell_type": "code",
   "execution_count": 26,
   "metadata": {
    "collapsed": false
   },
   "outputs": [
    {
     "data": {
      "text/html": [
       "<div>\n",
       "<style scoped>\n",
       "    .dataframe tbody tr th:only-of-type {\n",
       "        vertical-align: middle;\n",
       "    }\n",
       "\n",
       "    .dataframe tbody tr th {\n",
       "        vertical-align: top;\n",
       "    }\n",
       "\n",
       "    .dataframe thead th {\n",
       "        text-align: right;\n",
       "    }\n",
       "</style>\n",
       "<table border=\"1\" class=\"dataframe\">\n",
       "  <thead>\n",
       "    <tr style=\"text-align: right;\">\n",
       "      <th></th>\n",
       "      <th>Date</th>\n",
       "      <th>Symbol</th>\n",
       "      <th>Open</th>\n",
       "      <th>High</th>\n",
       "      <th>Low</th>\n",
       "      <th>Close</th>\n",
       "      <th>Volume</th>\n",
       "    </tr>\n",
       "  </thead>\n",
       "  <tbody>\n",
       "    <tr>\n",
       "      <th>0</th>\n",
       "      <td>2014-01-02</td>\n",
       "      <td>MSFT</td>\n",
       "      <td>37.35</td>\n",
       "      <td>37.40</td>\n",
       "      <td>37.10</td>\n",
       "      <td>37.16</td>\n",
       "      <td>30643745</td>\n",
       "    </tr>\n",
       "    <tr>\n",
       "      <th>1</th>\n",
       "      <td>2014-01-02</td>\n",
       "      <td>AAPL</td>\n",
       "      <td>79.38</td>\n",
       "      <td>79.58</td>\n",
       "      <td>78.86</td>\n",
       "      <td>79.02</td>\n",
       "      <td>58791957</td>\n",
       "    </tr>\n",
       "    <tr>\n",
       "      <th>2</th>\n",
       "      <td>2014-01-03</td>\n",
       "      <td>MSFT</td>\n",
       "      <td>37.20</td>\n",
       "      <td>37.22</td>\n",
       "      <td>36.60</td>\n",
       "      <td>36.91</td>\n",
       "      <td>31134795</td>\n",
       "    </tr>\n",
       "    <tr>\n",
       "      <th>3</th>\n",
       "      <td>2014-01-03</td>\n",
       "      <td>AAPL</td>\n",
       "      <td>78.98</td>\n",
       "      <td>79.10</td>\n",
       "      <td>77.20</td>\n",
       "      <td>77.28</td>\n",
       "      <td>98303870</td>\n",
       "    </tr>\n",
       "    <tr>\n",
       "      <th>4</th>\n",
       "      <td>2014-01-06</td>\n",
       "      <td>MSFT</td>\n",
       "      <td>36.85</td>\n",
       "      <td>36.89</td>\n",
       "      <td>36.11</td>\n",
       "      <td>36.13</td>\n",
       "      <td>43615035</td>\n",
       "    </tr>\n",
       "  </tbody>\n",
       "</table>\n",
       "</div>"
      ],
      "text/plain": [
       "        Date Symbol   Open   High    Low  Close    Volume\n",
       "0 2014-01-02   MSFT  37.35  37.40  37.10  37.16  30643745\n",
       "1 2014-01-02   AAPL  79.38  79.58  78.86  79.02  58791957\n",
       "2 2014-01-03   MSFT  37.20  37.22  36.60  36.91  31134795\n",
       "3 2014-01-03   AAPL  78.98  79.10  77.20  77.28  98303870\n",
       "4 2014-01-06   MSFT  36.85  36.89  36.11  36.13  43615035"
      ]
     },
     "execution_count": 26,
     "metadata": {},
     "output_type": "execute_result"
    }
   ],
   "source": [
    "# concatenando toda la información y reseteando el indice\n",
    "combinado = pd.concat([msft, aapl]).sort_index()\n",
    "datos_todo = combinado.reset_index()\n",
    "\n",
    "datos_todo.head()"
   ]
  },
  {
   "cell_type": "code",
   "execution_count": 27,
   "metadata": {
    "collapsed": false
   },
   "outputs": [
    {
     "data": {
      "text/html": [
       "<div>\n",
       "<style scoped>\n",
       "    .dataframe tbody tr th:only-of-type {\n",
       "        vertical-align: middle;\n",
       "    }\n",
       "\n",
       "    .dataframe tbody tr th {\n",
       "        vertical-align: top;\n",
       "    }\n",
       "\n",
       "    .dataframe thead th {\n",
       "        text-align: right;\n",
       "    }\n",
       "</style>\n",
       "<table border=\"1\" class=\"dataframe\">\n",
       "  <thead>\n",
       "    <tr style=\"text-align: right;\">\n",
       "      <th>Symbol</th>\n",
       "      <th>AAPL</th>\n",
       "      <th>MSFT</th>\n",
       "    </tr>\n",
       "    <tr>\n",
       "      <th>Date</th>\n",
       "      <th></th>\n",
       "      <th></th>\n",
       "    </tr>\n",
       "  </thead>\n",
       "  <tbody>\n",
       "    <tr>\n",
       "      <th>2014-01-02</th>\n",
       "      <td>79.02</td>\n",
       "      <td>37.16</td>\n",
       "    </tr>\n",
       "    <tr>\n",
       "      <th>2014-01-03</th>\n",
       "      <td>77.28</td>\n",
       "      <td>36.91</td>\n",
       "    </tr>\n",
       "    <tr>\n",
       "      <th>2014-01-06</th>\n",
       "      <td>77.70</td>\n",
       "      <td>36.13</td>\n",
       "    </tr>\n",
       "    <tr>\n",
       "      <th>2014-01-07</th>\n",
       "      <td>77.15</td>\n",
       "      <td>36.41</td>\n",
       "    </tr>\n",
       "    <tr>\n",
       "      <th>2014-01-08</th>\n",
       "      <td>77.64</td>\n",
       "      <td>35.76</td>\n",
       "    </tr>\n",
       "  </tbody>\n",
       "</table>\n",
       "</div>"
      ],
      "text/plain": [
       "Symbol       AAPL   MSFT\n",
       "Date                    \n",
       "2014-01-02  79.02  37.16\n",
       "2014-01-03  77.28  36.91\n",
       "2014-01-06  77.70  36.13\n",
       "2014-01-07  77.15  36.41\n",
       "2014-01-08  77.64  35.76"
      ]
     },
     "execution_count": 27,
     "metadata": {},
     "output_type": "execute_result"
    }
   ],
   "source": [
    "# Armando una tabla pivot del precio de cierre\n",
    "pivot = datos_todo.pivot(index='Date', columns='Symbol', \n",
    "                         values='Close')\n",
    "\n",
    "pivot.head()"
   ]
  },
  {
   "cell_type": "code",
   "execution_count": 28,
   "metadata": {
    "collapsed": false
   },
   "outputs": [
    {
     "data": {
      "text/html": [
       "<div>\n",
       "<style scoped>\n",
       "    .dataframe tbody tr th:only-of-type {\n",
       "        vertical-align: middle;\n",
       "    }\n",
       "\n",
       "    .dataframe tbody tr th {\n",
       "        vertical-align: top;\n",
       "    }\n",
       "\n",
       "    .dataframe thead th {\n",
       "        text-align: right;\n",
       "    }\n",
       "</style>\n",
       "<table border=\"1\" class=\"dataframe\">\n",
       "  <thead>\n",
       "    <tr style=\"text-align: right;\">\n",
       "      <th></th>\n",
       "      <th></th>\n",
       "      <th>Open</th>\n",
       "      <th>High</th>\n",
       "      <th>Low</th>\n",
       "      <th>Close</th>\n",
       "      <th>Volume</th>\n",
       "    </tr>\n",
       "    <tr>\n",
       "      <th>symbols</th>\n",
       "      <th>Date</th>\n",
       "      <th></th>\n",
       "      <th></th>\n",
       "      <th></th>\n",
       "      <th></th>\n",
       "      <th></th>\n",
       "    </tr>\n",
       "  </thead>\n",
       "  <tbody>\n",
       "    <tr>\n",
       "      <th rowspan=\"5\" valign=\"top\">AAPL</th>\n",
       "      <th>2014-01-02</th>\n",
       "      <td>79.38</td>\n",
       "      <td>79.58</td>\n",
       "      <td>78.86</td>\n",
       "      <td>79.02</td>\n",
       "      <td>58791957.0</td>\n",
       "    </tr>\n",
       "    <tr>\n",
       "      <th>2014-01-03</th>\n",
       "      <td>78.98</td>\n",
       "      <td>79.10</td>\n",
       "      <td>77.20</td>\n",
       "      <td>77.28</td>\n",
       "      <td>98303870.0</td>\n",
       "    </tr>\n",
       "    <tr>\n",
       "      <th>2014-01-06</th>\n",
       "      <td>76.78</td>\n",
       "      <td>78.11</td>\n",
       "      <td>76.23</td>\n",
       "      <td>77.70</td>\n",
       "      <td>103359151.0</td>\n",
       "    </tr>\n",
       "    <tr>\n",
       "      <th>2014-01-07</th>\n",
       "      <td>77.76</td>\n",
       "      <td>77.99</td>\n",
       "      <td>76.85</td>\n",
       "      <td>77.15</td>\n",
       "      <td>79432766.0</td>\n",
       "    </tr>\n",
       "    <tr>\n",
       "      <th>2014-01-08</th>\n",
       "      <td>76.97</td>\n",
       "      <td>77.94</td>\n",
       "      <td>76.96</td>\n",
       "      <td>77.64</td>\n",
       "      <td>64686685.0</td>\n",
       "    </tr>\n",
       "  </tbody>\n",
       "</table>\n",
       "</div>"
      ],
      "text/plain": [
       "                     Open   High    Low  Close       Volume\n",
       "symbols Date                                               \n",
       "AAPL    2014-01-02  79.38  79.58  78.86  79.02   58791957.0\n",
       "        2014-01-03  78.98  79.10  77.20  77.28   98303870.0\n",
       "        2014-01-06  76.78  78.11  76.23  77.70  103359151.0\n",
       "        2014-01-07  77.76  77.99  76.85  77.15   79432766.0\n",
       "        2014-01-08  76.97  77.94  76.96  77.64   64686685.0"
      ]
     },
     "execution_count": 28,
     "metadata": {},
     "output_type": "execute_result"
    }
   ],
   "source": [
    "# Obteniendo datos de multiples empresas\n",
    "def all_stocks(symbols, start, end):\n",
    "       def data(symbols):\n",
    "           return web.DataReader(symbols, 'google', start, end)\n",
    "       datas = map(data, symbols)\n",
    "       return pd.concat(datas, keys=symbols, names=['symbols','Date'])\n",
    "\n",
    "simbolos = ['AAPL','MSFT','GOOG','IBM']\n",
    "\n",
    "all_data = all_stocks(simbolos, inicio, fin)\n",
    "all_data.head()"
   ]
  },
  {
   "cell_type": "code",
   "execution_count": 29,
   "metadata": {
    "collapsed": false
   },
   "outputs": [
    {
     "data": {
      "text/html": [
       "<div>\n",
       "<style scoped>\n",
       "    .dataframe tbody tr th:only-of-type {\n",
       "        vertical-align: middle;\n",
       "    }\n",
       "\n",
       "    .dataframe tbody tr th {\n",
       "        vertical-align: top;\n",
       "    }\n",
       "\n",
       "    .dataframe thead th {\n",
       "        text-align: right;\n",
       "    }\n",
       "</style>\n",
       "<table border=\"1\" class=\"dataframe\">\n",
       "  <thead>\n",
       "    <tr style=\"text-align: right;\">\n",
       "      <th></th>\n",
       "      <th>Open</th>\n",
       "      <th>High</th>\n",
       "      <th>Low</th>\n",
       "      <th>Close</th>\n",
       "      <th>Volume</th>\n",
       "    </tr>\n",
       "    <tr>\n",
       "      <th>Date</th>\n",
       "      <th></th>\n",
       "      <th></th>\n",
       "      <th></th>\n",
       "      <th></th>\n",
       "      <th></th>\n",
       "    </tr>\n",
       "  </thead>\n",
       "  <tbody>\n",
       "    <tr>\n",
       "      <th>2014-01-02</th>\n",
       "      <td>557.17</td>\n",
       "      <td>558.32</td>\n",
       "      <td>553.58</td>\n",
       "      <td>556.00</td>\n",
       "      <td>NaN</td>\n",
       "    </tr>\n",
       "    <tr>\n",
       "      <th>2014-01-03</th>\n",
       "      <td>556.94</td>\n",
       "      <td>557.91</td>\n",
       "      <td>551.91</td>\n",
       "      <td>551.95</td>\n",
       "      <td>NaN</td>\n",
       "    </tr>\n",
       "    <tr>\n",
       "      <th>2014-01-06</th>\n",
       "      <td>555.95</td>\n",
       "      <td>558.87</td>\n",
       "      <td>552.67</td>\n",
       "      <td>558.10</td>\n",
       "      <td>NaN</td>\n",
       "    </tr>\n",
       "    <tr>\n",
       "      <th>2014-01-07</th>\n",
       "      <td>561.94</td>\n",
       "      <td>569.28</td>\n",
       "      <td>560.02</td>\n",
       "      <td>568.86</td>\n",
       "      <td>NaN</td>\n",
       "    </tr>\n",
       "    <tr>\n",
       "      <th>2014-01-08</th>\n",
       "      <td>572.43</td>\n",
       "      <td>573.09</td>\n",
       "      <td>566.08</td>\n",
       "      <td>570.04</td>\n",
       "      <td>NaN</td>\n",
       "    </tr>\n",
       "  </tbody>\n",
       "</table>\n",
       "</div>"
      ],
      "text/plain": [
       "              Open    High     Low   Close  Volume\n",
       "Date                                              \n",
       "2014-01-02  557.17  558.32  553.58  556.00     NaN\n",
       "2014-01-03  556.94  557.91  551.91  551.95     NaN\n",
       "2014-01-06  555.95  558.87  552.67  558.10     NaN\n",
       "2014-01-07  561.94  569.28  560.02  568.86     NaN\n",
       "2014-01-08  572.43  573.09  566.08  570.04     NaN"
      ]
     },
     "execution_count": 29,
     "metadata": {},
     "output_type": "execute_result"
    }
   ],
   "source": [
    "all_data.ix['GOOG'].head()  # información de google"
   ]
  },
  {
   "cell_type": "code",
   "execution_count": 30,
   "metadata": {
    "collapsed": false
   },
   "outputs": [
    {
     "data": {
      "text/html": [
       "<div>\n",
       "<style scoped>\n",
       "    .dataframe tbody tr th:only-of-type {\n",
       "        vertical-align: middle;\n",
       "    }\n",
       "\n",
       "    .dataframe tbody tr th {\n",
       "        vertical-align: top;\n",
       "    }\n",
       "\n",
       "    .dataframe thead th {\n",
       "        text-align: right;\n",
       "    }\n",
       "</style>\n",
       "<table border=\"1\" class=\"dataframe\">\n",
       "  <thead>\n",
       "    <tr style=\"text-align: right;\">\n",
       "      <th>symbols</th>\n",
       "      <th>AAPL</th>\n",
       "      <th>GOOG</th>\n",
       "      <th>IBM</th>\n",
       "      <th>MSFT</th>\n",
       "    </tr>\n",
       "    <tr>\n",
       "      <th>Date</th>\n",
       "      <th></th>\n",
       "      <th></th>\n",
       "      <th></th>\n",
       "      <th></th>\n",
       "    </tr>\n",
       "  </thead>\n",
       "  <tbody>\n",
       "    <tr>\n",
       "      <th>2014-01-02</th>\n",
       "      <td>79.02</td>\n",
       "      <td>556.00</td>\n",
       "      <td>NaN</td>\n",
       "      <td>37.16</td>\n",
       "    </tr>\n",
       "    <tr>\n",
       "      <th>2014-01-03</th>\n",
       "      <td>77.28</td>\n",
       "      <td>551.95</td>\n",
       "      <td>168.00</td>\n",
       "      <td>36.91</td>\n",
       "    </tr>\n",
       "    <tr>\n",
       "      <th>2014-01-06</th>\n",
       "      <td>77.70</td>\n",
       "      <td>558.10</td>\n",
       "      <td>166.85</td>\n",
       "      <td>36.13</td>\n",
       "    </tr>\n",
       "    <tr>\n",
       "      <th>2014-01-07</th>\n",
       "      <td>77.15</td>\n",
       "      <td>568.86</td>\n",
       "      <td>170.00</td>\n",
       "      <td>36.41</td>\n",
       "    </tr>\n",
       "    <tr>\n",
       "      <th>2014-01-08</th>\n",
       "      <td>77.64</td>\n",
       "      <td>570.04</td>\n",
       "      <td>172.90</td>\n",
       "      <td>35.76</td>\n",
       "    </tr>\n",
       "  </tbody>\n",
       "</table>\n",
       "</div>"
      ],
      "text/plain": [
       "symbols      AAPL    GOOG     IBM   MSFT\n",
       "Date                                    \n",
       "2014-01-02  79.02  556.00     NaN  37.16\n",
       "2014-01-03  77.28  551.95  168.00  36.91\n",
       "2014-01-06  77.70  558.10  166.85  36.13\n",
       "2014-01-07  77.15  568.86  170.00  36.41\n",
       "2014-01-08  77.64  570.04  172.90  35.76"
      ]
     },
     "execution_count": 30,
     "metadata": {},
     "output_type": "execute_result"
    }
   ],
   "source": [
    "# Graficando los datos.\n",
    "solo_cierre = all_data[['Close']].reset_index()\n",
    "pivot_cierre = solo_cierre.pivot('Date', 'symbols', 'Close')\n",
    "\n",
    "pivot_cierre.head()"
   ]
  },
  {
   "cell_type": "code",
   "execution_count": 31,
   "metadata": {
    "collapsed": false
   },
   "outputs": [
    {
     "data": {
      "image/png": "[encoded data removed]",
      "text/plain": [
       "<matplotlib.figure.Figure at 0x7f27ff3378d0>"
      ]
     },
     "metadata": {},
     "output_type": "display_data"
    }
   ],
   "source": [
    "# Graficando la información de Apple\n",
    "plot=pivot_cierre['AAPL'].plot(figsize=(12,8))  "
   ]
  },
  {
   "cell_type": "code",
   "execution_count": 32,
   "metadata": {
    "collapsed": false
   },
   "outputs": [
    {
     "data": {
      "image/png": "[encoded data removed]",
      "text/plain": [
       "<matplotlib.figure.Figure at 0x7f27fea81cc0>"
      ]
     },
     "metadata": {},
     "output_type": "display_data"
    }
   ],
   "source": [
    "# Graficando todos\n",
    "plot = pivot_cierre.plot(figsize=(12,8)) "
   ]
  },
  {
   "cell_type": "markdown",
   "metadata": {},
   "source": [
    "Como podemos ver [Pandas](https://pandas.pydata.org/) es una librería muy versátil, con ella podemos hacer todo tipo de manipulaciones de datos, desde obtener los datos desde la web hasta realizar concatenaciones, tablas pivot o incluso realizar gráficos. \n",
    "\n",
    "Con esto termino esta introducción a finanzas con [Python](https://www.python.org/); los dejo para que se entretengan con sus propios ejemplos, a practicar!"
   ]
  },
  {
   "cell_type": "markdown",
   "metadata": {},
   "source": [
    "Saludos!\n",
    "\n",
    "*Este post fue escrito utilizando IPython notebook. Pueden descargar este [notebook](https://github.com/relopezbriega/relopezbriega.github.io/blob/master/downloads/pyFinance.ipynb) o ver su version estática en [nbviewer](https://nbviewer.ipython.org/github/relopezbriega/relopezbriega.github.io/blob/master/downloads/pyFinance.ipynb).*"
   ]
  }
 ],
 "metadata": {
  "kernelspec": {
   "display_name": "Python 3",
   "language": "python",
   "name": "python3"
  },
  "language_info": {
   "codemirror_mode": {
    "name": "ipython",
    "version": 3
   },
   "file_extension": ".py",
   "mimetype": "text/x-python",
   "name": "python",
   "nbconvert_exporter": "python",
   "pygments_lexer": "ipython3",
   "version": "3.6.4"
  }
 },
 "nbformat": 4,
 "nbformat_minor": 2
}
