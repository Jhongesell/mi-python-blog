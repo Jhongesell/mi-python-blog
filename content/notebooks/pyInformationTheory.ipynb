{
 "cells": [
  {
   "cell_type": "markdown",
   "metadata": {},
   "source": [
    "# Introducción a la Teoría de la información con Python"
   ]
  },
  {
   "cell_type": "markdown",
   "metadata": {},
   "source": [
    "*Esta notebook fue creada originalmente como un blog post por [Raúl E. López Briega](https://relopezbriega.com.ar/) en [Matemáticas, análisis de datos y python](https://relopezbriega.github.io). El contenido esta bajo la licencia BSD.*"
   ]
  },
  {
   "cell_type": "markdown",
   "metadata": {},
   "source": [
    "<img alt=\"NLP\" title=\"NLP\" src=\"https://relopezbriega.github.io/images/shannon.jpg\" width=\"60%\" height=\"60%\">"
   ]
  },
  {
   "cell_type": "markdown",
   "metadata": {},
   "source": [
    "> \"La información es la resolución de la incertidumbre\"\n",
    "\n",
    "**[Claude Shannon](https://es.wikipedia.org/wiki/Claude_Elwood_Shannon)**\n",
    "\n",
    "> \"Lo que está en el corazón de cada ser vivo no es *un fuego*, ni un *aliento cálido*, ni una *chispa de vida*. Es información, palabras, instrucciones ... Si quieres entender la vida... piensa en la tecnología de la información\"\n",
    "\n",
    "**[Richard Dawkins](https://es.wikipedia.org/wiki/Richard_Dawkins)**"
   ]
  },
  {
   "cell_type": "markdown",
   "metadata": {},
   "source": [
    "## Introducción\n",
    "\n",
    "Muchas veces hemos escuchado decir que vivimos en la [era de la información](https://es.wikipedia.org/wiki/Era_de_la_informaci%C3%B3n). La *información* parece estar en todo los que nos rodea. Ya sea que consideremos a las computadoras, la evolución, la física, la [inteligencia artificial](https://relopezbriega.github.io/blog/2017/06/05/introduccion-a-la-inteligencia-artificial/), o nuestro cerebro; podemos llegar a la conclusión de que su comportamiento esta principalmente determinado por la forma en que procesan la *información*. Dado que este concepto es tan importante, deberíamos tener en claro qué entendemos por *información*."
   ]
  },
  {
   "cell_type": "markdown",
   "metadata": {},
   "source": [
    "## ¿Qué es la información?\n",
    "\n",
    "Hasta no hace no tanto tiempo atrás, nuestro conocimiento de la *información* era bastante vago y limitado. En 1948, [Claude Shannon](https://es.wikipedia.org/wiki/Claude_Elwood_Shannon) publicó un artículo titulado *[\"Una teoría matemática de la comunicación\"](https://es.wikipedia.org/wiki/Una_teor%C3%ADa_matem%C3%A1tica_de_la_comunicaci%C3%B3n)*."
   ]
  },
  {
   "cell_type": "code",
   "execution_count": null,
   "metadata": {},
   "outputs": [],
   "source": []
  }
 ],
 "metadata": {
  "kernelspec": {
   "display_name": "Python 3",
   "language": "python",
   "name": "python3"
  },
  "language_info": {
   "codemirror_mode": {
    "name": "ipython",
    "version": 3
   },
   "file_extension": ".py",
   "mimetype": "text/x-python",
   "name": "python",
   "nbconvert_exporter": "python",
   "pygments_lexer": "ipython3",
   "version": "3.6.4"
  }
 },
 "nbformat": 4,
 "nbformat_minor": 2
}
