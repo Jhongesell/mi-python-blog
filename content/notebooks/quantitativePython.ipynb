{
 "cells": [
  {
   "cell_type": "markdown",
   "metadata": {},
   "source": [
    "# Análisis de datos cuantitativos con Python"
   ]
  },
  {
   "cell_type": "markdown",
   "metadata": {},
   "source": [
    "*Esta notebook fue creada originalmente como un blog post por [Raúl E. López Briega](https://relopezbriega.com.ar/) en [Matemáticas, análisis de datos y python](https://relopezbriega.github.io). El contenido esta bajo la licencia BSD.*"
   ]
  },
  {
   "cell_type": "markdown",
   "metadata": {},
   "source": [
    "<img alt=\"Datos cuantitativos con Python\" title=\"Datos cuantitativos con Python\" src=\"https://relopezbriega.github.io/images/categorical_data.jpg\" high=400px width=600px>"
   ]
  },
  {
   "cell_type": "markdown",
   "metadata": {},
   "source": [
    "## Introducción\n",
    "\n",
    "En mi artículo anterior, [Análisis de datos categóricos con Python](https://relopezbriega.github.io/blog/2016/02/29/analisis-de-datos-categoricos-con-python/), mencione la importancia de reconocer los distintos tipos de [datos](https://es.wikipedia.org/wiki/Dato) con que nos podemos encontrar al realizar análisis [estadísticos](https://relopezbriega.github.io/tag/estadistica.html) y vimos también como podemos trabajar con los [datos categóricos](https://en.wikipedia.org/wiki/Categorical_variable). En esta oportunidad, vamos a ver como podemos manipular, interpretar y obtener información de los [datos cuantitativos](https://es.wikipedia.org/wiki/Cantidad).\n",
    "\n",
    "Recordemos que las [variables cuantitativas](https://es.wikipedia.org/wiki/Cantidad) son variables medidas en una escala numérica. Altura, peso, tiempo de respuesta, la calificación subjetiva del dolor, la temperatura, y la puntuación en un examen, son ejemplos de [variables cuantitativas](https://es.wikipedia.org/wiki/Cantidad). Las [variables cuantitativas](https://es.wikipedia.org/wiki/Cantidad) se distinguen de las [variables categóricas](https://relopezbriega.github.io/blog/2016/02/29/analisis-de-datos-categoricos-con-python/) (también llamadas cualitativas) como el color favorito, religión, ciudad de nacimiento, y el deporte favorito; en las que no hay un orden o medida involucrados. \n",
    "\n",
    "## Analizando datos cuantitativos con Python\n",
    "\n",
    "Para los ejemplos de este artículo, vamos a trabajar con el [dataset](https://es.wikipedia.org/wiki/Conjunto_de_datos) [faithful](https://www.stat.cmu.edu/~larry/all-of-statistics/=data/faithful.dat), el cual consiste en una colección de observaciones sobre las erupciones del [géiser](https://es.wikipedia.org/wiki/G%C3%A9iser) [Old Faithful](https://en.wikipedia.org/wiki/Old_Faithful) en el [parque nacional Yellowstone](https://es.wikipedia.org/wiki/Parque_nacional_de_Yellowstone) de los Estados Unidos. La información que contiene este [dataset](https://es.wikipedia.org/wiki/Conjunto_de_datos) es la siguiente:"
   ]
  },
  {
   "cell_type": "code",
   "execution_count": 1,
   "metadata": {
    "collapsed": true
   },
   "outputs": [],
   "source": [
    "# <!-- collapse=True -->\n",
    "# importando modulos necesarios\n",
    "%matplotlib inline\n",
    "\n",
    "import matplotlib.pyplot as plt\n",
    "import numpy as np \n",
    "from scipy import stats \n",
    "import pandas as pd \n",
    "import seaborn as sns \n",
    "from pydataset import data\n",
    "\n",
    "# parametros esteticos de seaborn\n",
    "sns.set_palette(\"deep\", desat=.6)\n",
    "sns.set_context(rc={\"figure.figsize\": (8, 4)})"
   ]
  },
  {
   "cell_type": "code",
   "execution_count": 2,
   "metadata": {
    "collapsed": false
   },
   "outputs": [
    {
     "data": {
      "text/html": [
       "<div style=\"max-height:1000px;max-width:1500px;overflow:auto;\">\n",
       "<table border=\"1\" class=\"dataframe\">\n",
       "  <thead>\n",
       "    <tr style=\"text-align: right;\">\n",
       "      <th></th>\n",
       "      <th>eruptions</th>\n",
       "      <th>waiting</th>\n",
       "    </tr>\n",
       "  </thead>\n",
       "  <tbody>\n",
       "    <tr>\n",
       "      <th>1</th>\n",
       "      <td>3.600</td>\n",
       "      <td>79</td>\n",
       "    </tr>\n",
       "    <tr>\n",
       "      <th>2</th>\n",
       "      <td>1.800</td>\n",
       "      <td>54</td>\n",
       "    </tr>\n",
       "    <tr>\n",
       "      <th>3</th>\n",
       "      <td>3.333</td>\n",
       "      <td>74</td>\n",
       "    </tr>\n",
       "    <tr>\n",
       "      <th>4</th>\n",
       "      <td>2.283</td>\n",
       "      <td>62</td>\n",
       "    </tr>\n",
       "    <tr>\n",
       "      <th>5</th>\n",
       "      <td>4.533</td>\n",
       "      <td>85</td>\n",
       "    </tr>\n",
       "    <tr>\n",
       "      <th>6</th>\n",
       "      <td>2.883</td>\n",
       "      <td>55</td>\n",
       "    </tr>\n",
       "    <tr>\n",
       "      <th>7</th>\n",
       "      <td>4.700</td>\n",
       "      <td>88</td>\n",
       "    </tr>\n",
       "    <tr>\n",
       "      <th>8</th>\n",
       "      <td>3.600</td>\n",
       "      <td>85</td>\n",
       "    </tr>\n",
       "    <tr>\n",
       "      <th>9</th>\n",
       "      <td>1.950</td>\n",
       "      <td>51</td>\n",
       "    </tr>\n",
       "    <tr>\n",
       "      <th>10</th>\n",
       "      <td>4.350</td>\n",
       "      <td>85</td>\n",
       "    </tr>\n",
       "  </tbody>\n",
       "</table>\n",
       "</div>"
      ],
      "text/plain": [
       "    eruptions  waiting\n",
       "1       3.600       79\n",
       "2       1.800       54\n",
       "3       3.333       74\n",
       "4       2.283       62\n",
       "5       4.533       85\n",
       "6       2.883       55\n",
       "7       4.700       88\n",
       "8       3.600       85\n",
       "9       1.950       51\n",
       "10      4.350       85"
      ]
     },
     "execution_count": 2,
     "metadata": {},
     "output_type": "execute_result"
    }
   ],
   "source": [
    "faithful = data('faithful')\n",
    "faithful.head(10)"
   ]
  },
  {
   "cell_type": "markdown",
   "metadata": {},
   "source": [
    "Como podemos ver, [faithful](https://www.stat.cmu.edu/~larry/all-of-statistics/=data/faithful.dat) es un [dataset](https://es.wikipedia.org/wiki/Conjunto_de_datos) bastante simple que solo contiene observaciones de dos variables; la primera, que se llama `eruptions`, contiene la información de la duración de la erupción del [géiser](https://es.wikipedia.org/wiki/G%C3%A9iser); mientras que la segunda, se llama `waiting` y contiene la información sobre el tiempo de espera para la siguiente erupción del [géiser](https://es.wikipedia.org/wiki/G%C3%A9iser).\n",
    "\n",
    "Al igual de como comentábamos cuando analizamos [datos categóricos](https://relopezbriega.github.io/blog/2016/02/29/analisis-de-datos-categoricos-con-python/), lo primero que deberíamos intentar hacer es crear una imagen que represente de la mejor manera posible a nuestros [datos](https://es.wikipedia.org/wiki/Dato), ya que nuestro cerebro tiende a procesar mejor la información visual. Para el caso de las [variables cuantitativas](https://es.wikipedia.org/wiki/Cantidad), un buen candidato para comenzar a  hacernos una imagen de lo que nuestros datos representan, son los [histogramas](https://es.wikipedia.org/wiki/Histograma).\n",
    "\n",
    "### Histogramas\n",
    "\n",
    "Para las [variables cuantitativas](https://es.wikipedia.org/wiki/Cantidad), a diferencia de lo que pasaba con las [variables categóricas](https://relopezbriega.github.io/blog/2016/02/29/analisis-de-datos-categoricos-con-python/), no existe una forma obvia de agrupar los datos; por tal motivo lo que se suele hacer es, dividir los posibles valores en diferentes *contenedores* del mismo tamaño y luego contar el número de casos que cae dentro de cada uno de los *contenedores*. Estos *contenedores* junto con sus recuentos, nos proporcionan una imagen de la [distribución](https://es.wikipedia.org/wiki/Distribuci%C3%B3n_de_probabilidad) de la [variable cuantitativa](https://es.wikipedia.org/wiki/Cantidad) y constituyen la base para poder graficar el [histograma](https://es.wikipedia.org/wiki/Histograma). Para construir el gráfico, simplemente  debemos representar a los recuentos como barras y graficarlas contra los valores de cada uno de los *contenedores*. \n",
    "\n",
    "Con [Python](https://python.org/) podemos representar fácilmente el [histograma](https://es.wikipedia.org/wiki/Histograma) de la variable `eruptions` utilizando el método `hist` del `DataFrame` de [Pandas](https://pandas.pydata.org/) del siguiente modo:"
   ]
  },
  {
   "cell_type": "code",
   "execution_count": 3,
   "metadata": {
    "collapsed": false
   },
   "outputs": [
    {
     "data": {
      "image/png": "[encoded data removed]",
      "text/plain": [
       "<matplotlib.figure.Figure at 0x7ff83998a320>"
      ]
     },
     "metadata": {},
     "output_type": "display_data"
    }
   ],
   "source": [
    "# histograma duración de erupciones con 8 barras\n",
    "faithful['eruptions'].hist(bins=8) \n",
    "plt.xlabel(\"Duración en minutos\")\n",
    "plt.ylabel(\"Frecuencia\")\n",
    "plt.show()"
   ]
  },
  {
   "cell_type": "markdown",
   "metadata": {},
   "source": [
    "Como podemos ver con este gráfico, la duración más frecuente de las erupciones del [géiser](https://es.wikipedia.org/wiki/G%C3%A9iser) ronda en alrededor de cuatro minutos y medio. Una cosa que debemos hacer notar es que en los [histogramas](https://es.wikipedia.org/wiki/Histograma), los *contenedores* dividen a todos los valores de la [variable cuantitativa](https://es.wikipedia.org/wiki/Cantidad), por lo que no deberíamos encontrar espacios entre las barras (a diferencia de lo que pasaba con los [gráficos de barras](https://es.wikipedia.org/wiki/Diagrama_de_barras) que vimos en el [artículo anterior](https://relopezbriega.github.io/blog/2016/02/29/analisis-de-datos-categoricos-con-python/)). Cualquier espacio entre las barras es una brecha en los [datos](https://es.wikipedia.org/wiki/Dato), que nos indica un región para la que no existen valores.\n",
    "\n",
    "#### Distribución de frecuencia\n",
    "\n",
    "Un tema íntimamente relacionado con los [histogramas](https://es.wikipedia.org/wiki/Histograma) son las tablas de [distribución de frecuencia](https://es.wikipedia.org/wiki/Frecuencia_estad%C3%ADstica), en definitiva los [histogramas](https://es.wikipedia.org/wiki/Histograma) no son más que gráficos de tablas de [distribución de frecuencia](https://es.wikipedia.org/wiki/Frecuencia_estad%C3%ADstica). La [distribución de frecuencia](https://es.wikipedia.org/wiki/Frecuencia_estad%C3%ADstica) de una [variable cuantitativa](https://es.wikipedia.org/wiki/Cantidad) consiste en un resumen de la ocurrencia de un [dato](https://es.wikipedia.org/wiki/Dato) dentro de una colección de categorías que no se superponen. Estas categorías las vamos a poder armar según nuestra conveniencia y lo que queramos analizar. Por ejemplo si quisiéramos armar la [distribución de frecuencia](https://es.wikipedia.org/wiki/Frecuencia_estad%C3%ADstica) de la variable `eruptions` podríamos realizar las siguiente manipulaciones con [Pandas](https://pandas.pydata.org/):"
   ]
  },
  {
   "cell_type": "code",
   "execution_count": 4,
   "metadata": {
    "collapsed": false
   },
   "outputs": [
    {
     "data": {
      "text/plain": [
       "(4, 4.5]    75\n",
       "(1.5, 2]    55\n",
       "(4.5, 5]    54\n",
       "(2, 2.5]    37\n",
       "(3.5, 4]    34\n",
       "(3, 3.5]     9\n",
       "(2.5, 3]     5\n",
       "(5, 5.5]     3\n",
       "dtype: int64"
      ]
     },
     "execution_count": 4,
     "metadata": {},
     "output_type": "execute_result"
    }
   ],
   "source": [
    "# Distribución de frecuencia.\n",
    "# 1ro creamos un rango para las categorías.\n",
    "contenedores = np.arange(1.5, 6., 0.5)\n",
    "\n",
    "# luego cortamos los datos en cada contenedor \n",
    "frec = pd.cut(faithful['eruptions'], contenedores)\n",
    "\n",
    "# por último hacemos el recuento de los contenedores\n",
    "# para armar la tabla de frecuencia.\n",
    "tabla_frec = pd.value_counts(frec)\n",
    "tabla_frec"
   ]
  },
  {
   "cell_type": "markdown",
   "metadata": {},
   "source": [
    "Como nos nuestra esta tabla de [distribución de frecuencia](https://es.wikipedia.org/wiki/Frecuencia_estad%C3%ADstica), la duración que más veces ocurre para las erupciones, se encuentran en el rango de 4 a 4.5 minutos.\n",
    "\n",
    "### Diagrama de tallos y hojas\n",
    "\n",
    "Los [histogramas](https://es.wikipedia.org/wiki/Histograma) nos permiten apreciar la [distribución](https://es.wikipedia.org/wiki/Distribuci%C3%B3n_de_probabilidad) de los [datos](https://es.wikipedia.org/wiki/Dato) de una forma sencilla, pero los mismos no nos muestran los valores del [dataset](https://es.wikipedia.org/wiki/Conjunto_de_datos) en sí mismos. Para solucionar esto, existe el [diagrama de tallos y hojas](https://es.wikipedia.org/wiki/Diagrama_de_tallos_y_hojas), el cual es similar al [histograma](https://es.wikipedia.org/wiki/Histograma) pero nos muestra los valores individuales de nuestro [dataset](https://es.wikipedia.org/wiki/Conjunto_de_datos). Para que quede más claro, vemos un ejemplo sencillo. Supongamos que tenemos una muestra sobre el ritmo cardíaco de 24 mujeres, las observaciones son las siguientes:"
   ]
  },
  {
   "cell_type": "code",
   "execution_count": 5,
   "metadata": {
    "collapsed": false
   },
   "outputs": [],
   "source": [
    "pulso = [88, 80, 76, 72, 68, 56, 64, 60, 64, 68, 64, 68, \n",
    "         72, 76, 80, 84, 68, 80, 76, 72, 84, 80, 72, 76 ]"
   ]
  },
  {
   "cell_type": "markdown",
   "metadata": {},
   "source": [
    "Podríamos graficar el [histograma](https://es.wikipedia.org/wiki/Histograma) de estas observaciones del siguiente modo:"
   ]
  },
  {
   "cell_type": "code",
   "execution_count": 6,
   "metadata": {
    "collapsed": false
   },
   "outputs": [
    {
     "data": {
      "image/png": "[encoded data removed]",
      "text/plain": [
       "<matplotlib.figure.Figure at 0x7ff83783b0f0>"
      ]
     },
     "metadata": {},
     "output_type": "display_data"
    }
   ],
   "source": [
    "plt.hist(pulso, bins=7)\n",
    "plt.xlabel(\"latidos por minuto\")\n",
    "plt.ylabel(\"N° de mujeres\")\n",
    "plt.show()"
   ]
  },
  {
   "cell_type": "markdown",
   "metadata": {},
   "source": [
    "Este [histograma](https://es.wikipedia.org/wiki/Histograma) nos muestra la forma en que se distribuyen los datos, pero no nos muestra los datos individuales. Para esto podríamos graficar su [diagrama de tallos y hojas](https://es.wikipedia.org/wiki/Diagrama_de_tallos_y_hojas) de la siguiente manera:"
   ]
  },
  {
   "cell_type": "code",
   "execution_count": 7,
   "metadata": {
    "collapsed": false
   },
   "outputs": [
    {
     "name": "stdout",
     "output_type": "stream",
     "text": [
      "  5|6\n",
      "  6|04448888\n",
      "  7|22226666\n",
      "  8|0000448\n"
     ]
    }
   ],
   "source": [
    "# Diagrama de tallos y hojas\n",
    "def tallos(d):\n",
    "    \"Genera un simple diagramas de tallos y hojas\"\n",
    "    l,t=np.sort(d),10\n",
    "    O=range(int(l[0]-l[0]%t),int(l[-1]+11),t)\n",
    "    I=np.searchsorted(l,O)\n",
    "    for e,a,f in zip(I,I[1:],O): \n",
    "        print('%3d|'%(f/t),*(l[e:a]-f),sep='')\n",
    "        \n",
    "tallos(pulso)"
   ]
  },
  {
   "cell_type": "markdown",
   "metadata": {
    "collapsed": false
   },
   "source": [
    "Como vemos, la distribución del [diagrama de tallos y hojas](https://es.wikipedia.org/wiki/Diagrama_de_tallos_y_hojas) es similar a la del  [histograma](https://es.wikipedia.org/wiki/Histograma), pero en este caso si podemos ver los valores de nuestras observaciones. El diagrama se lee así: Por un lado tenemos las decenas de los latidos, las cuales constituyen los *tallos* de nuestro diagrama (los valores antes del *pipe* o barra vertical \"|\") y luego vamos agrando *hojas* a estos *tallos* , representadas por las unidades de cada latido. De esta forma 5|6, significa que solo aparece el valor 56 una sola vez, en cambio 8|0000, significa que tenemos el valor 80 observado en 4 oportunidades.\n",
    "\n",
    "### Diagrama de dispersión\n",
    "\n",
    "Hasta aquí venimos graficando únicamente una sola [variable cuantitativa](https://es.wikipedia.org/wiki/Cantidad) pero ¿qué pasa si queremos trabajar con dos variables? Para estos casos existe el [diagrama de dispersión](https://es.wikipedia.org/wiki/Diagrama_de_dispersi%C3%B3n). El [diagrama de dispersión](https://es.wikipedia.org/wiki/Diagrama_de_dispersi%C3%B3n) es una de las formas más comunes que existen para visualizar [datos](https://es.wikipedia.org/wiki/Dato) y constituye una de las mejores forma de observar relaciones entre dos [variables cuantitativas](https://es.wikipedia.org/wiki/Cantidad). Veremos que se puede observar un montón de cosas por el solo hecho de mirar. Este diagrama es una de las mejores formas de visualizar las asociaciones que pueden existir entre nuestros datos.\n",
    "\n",
    "El [diagrama de dispersión](https://es.wikipedia.org/wiki/Diagrama_de_dispersi%C3%B3n) empareja los valores de dos [variables cuantitativas](https://es.wikipedia.org/wiki/Cantidad) y luego los representa como puntos geométricos dentro de un diagrama cartesiano. Por ejemplo, volviendo a nuestro [dataset](https://es.wikipedia.org/wiki/Conjunto_de_datos) [faithful](https://www.stat.cmu.edu/~larry/all-of-statistics/=data/faithful.dat), podríamos emparejar a las variables `eruptions` y `waiting` en la misma observación como coordenadas (x, y) y luego graficarlas en el eje cartesiano. Con la ayuda de [Python](https://python.org/) podríamos generar el [diagrama de dispersión](https://es.wikipedia.org/wiki/Diagrama_de_dispersi%C3%B3n) del siguiente modo:"
   ]
  },
  {
   "cell_type": "code",
   "execution_count": 8,
   "metadata": {
    "collapsed": false
   },
   "outputs": [
    {
     "data": {
      "image/png": "[encoded data removed]",
      "text/plain": [
       "<matplotlib.figure.Figure at 0x7ff83780c198>"
      ]
     },
     "metadata": {},
     "output_type": "display_data"
    }
   ],
   "source": [
    "# diagrama de dispersión\n",
    "disp= faithful.plot(kind='scatter', x='eruptions', y='waiting')"
   ]
  },
  {
   "cell_type": "markdown",
   "metadata": {},
   "source": [
    "Como podemos ver con solo observar la dispersión de los [datos](https://es.wikipedia.org/wiki/Dato) parece existir una *relación lineal* entre los datos de este [dataset](https://es.wikipedia.org/wiki/Conjunto_de_datos).\n",
    "\n",
    "### Medidas de tendencia central\n",
    "\n",
    "Una vez que ya nos dimos una buena idea visual de como se distribuyen los [datos](https://es.wikipedia.org/wiki/Dato) y de las relaciones que pueden existir entre los mismos, podemos pasar a calcular medidas numéricas propias de la [estadística descriptiva](https://es.wikipedia.org/wiki/Estad%C3%ADstica_descriptiva). En general, suele ser interesante conocer cual puede ser el *promedio o valor central* al que tiende la [distribución](https://es.wikipedia.org/wiki/Distribuci%C3%B3n_de_probabilidad) de nuestros [datos](https://es.wikipedia.org/wiki/Dato), para esto se utilizan las [medidas de tendencia central](https://es.wikipedia.org/wiki/Medidas_de_tendencia_central), entre las que podemos encontrar a:\n",
    "\n",
    "* La [media aritmética](https://es.wikipedia.org/wiki/Media_aritm%C3%A9tica)\n",
    "* La [media ponderada](https://es.wikipedia.org/wiki/Media_ponderada)\n",
    "* La [media geométrica](https://es.wikipedia.org/wiki/Media_geom%C3%A9trica)\n",
    "* La [media armónica](https://es.wikipedia.org/wiki/Media_arm%C3%B3nica)\n",
    "* La <a href=\"https://es.wikipedia.org/wiki/Mediana_(estad%C3%ADstica)\">mediana</a>\n",
    "* La [media truncada](https://es.wikipedia.org/wiki/Media_truncada)\n",
    "* La <a href=\"https://es.wikipedia.org/wiki/Moda_(estad%C3%ADstica)\">moda</a>\n",
    "\n",
    "Veamos como podemos calcularlas con [Python](https://python.org/):\n",
    "\n",
    "#### Media aritmética\n",
    "\n",
    "La [media aritmética](https://es.wikipedia.org/wiki/Media_aritm%C3%A9tica) es el valor obtenido al sumar todos los datos y dividir el resultado entre el número total elementos. La calculamos con el método `mean`."
   ]
  },
  {
   "cell_type": "code",
   "execution_count": 9,
   "metadata": {
    "collapsed": false
   },
   "outputs": [
    {
     "data": {
      "text/plain": [
       "3.4877830882352936"
      ]
     },
     "execution_count": 9,
     "metadata": {},
     "output_type": "execute_result"
    }
   ],
   "source": [
    "# media de variable eruptions\n",
    "faithful['eruptions'].mean()"
   ]
  },
  {
   "cell_type": "markdown",
   "metadata": {
    "collapsed": true
   },
   "source": [
    "#### Media ponderada\n",
    "\n",
    "La [media ponderada](https://es.wikipedia.org/wiki/Media_ponderada) es apropiada cuando en un [dataset](https://es.wikipedia.org/wiki/Conjunto_de_datos) cada dato tiene una importancia relativa (o peso) respecto de los demás. Como esta media no aplica para nuestro [dataset](https://es.wikipedia.org/wiki/Conjunto_de_datos) no la vamos a calcular.\n",
    "\n",
    "#### Media geométrica\n",
    "\n",
    "La [media geométrica](https://es.wikipedia.org/wiki/Media_geom%C3%A9trica) es útil cuando queremos comparar cosas con propiedades muy diferentes; también es es recomendada para datos de progresión geométrica, para promediar razones, interés compuesto y números índices. Se calcula tomando la [raíz n-ésima](https://es.wikipedia.org/wiki/Radicaci%C3%B3n) del producto de todos los [datos](https://es.wikipedia.org/wiki/Dato). La calculamos con la función `gmean` de [SciPy](https://docs.scipy.org/doc/scipy/reference/tutorial/stats.html)."
   ]
  },
  {
   "cell_type": "code",
   "execution_count": 10,
   "metadata": {
    "collapsed": false
   },
   "outputs": [
    {
     "data": {
      "text/plain": [
       "3.2713131325361786"
      ]
     },
     "execution_count": 10,
     "metadata": {},
     "output_type": "execute_result"
    }
   ],
   "source": [
    "# media geometrica\n",
    "stats.gmean(faithful['eruptions'])"
   ]
  },
  {
   "cell_type": "markdown",
   "metadata": {},
   "source": [
    "#### Media armónica\n",
    "\n",
    "La [media armónica](https://es.wikipedia.org/wiki/Media_arm%C3%B3nica) promedia el número de elementos y los divide por la suma de sus inversos. La [media armónica](https://es.wikipedia.org/wiki/Media_arm%C3%B3nica) es siempre la media más baja y es recomendada para promediar velocidades. La calculamos con la función `hmean` de [SciPy](https://docs.scipy.org/doc/scipy/reference/tutorial/stats.html)."
   ]
  },
  {
   "cell_type": "code",
   "execution_count": 11,
   "metadata": {
    "collapsed": false
   },
   "outputs": [
    {
     "data": {
      "text/plain": [
       "3.0389330499472611"
      ]
     },
     "execution_count": 11,
     "metadata": {},
     "output_type": "execute_result"
    }
   ],
   "source": [
    "# media armónica\n",
    "stats.hmean(faithful['eruptions'])"
   ]
  },
  {
   "cell_type": "markdown",
   "metadata": {},
   "source": [
    "#### Mediana\n",
    "\n",
    "La [mediana](https://es.wikipedia.org/wiki/Mediana) representa el valor de posición central en un [conjunto de datos](https://es.wikipedia.org/wiki/Conjunto_de_datos) ordenados. La podemos calcular utilizando el método `median` de [Pandas](https://pandas.pydata.org/)"
   ]
  },
  {
   "cell_type": "code",
   "execution_count": 12,
   "metadata": {
    "collapsed": false
   },
   "outputs": [
    {
     "data": {
      "text/plain": [
       "4.0"
      ]
     },
     "execution_count": 12,
     "metadata": {},
     "output_type": "execute_result"
    }
   ],
   "source": [
    "# mediana\n",
    "faithful['eruptions'].median()"
   ]
  },
  {
   "cell_type": "markdown",
   "metadata": {},
   "source": [
    "#### Media truncada\n",
    "\n",
    "La [media truncada](https://es.wikipedia.org/wiki/Media_truncada) es una mezcla entre la [media aritmética](https://es.wikipedia.org/wiki/Media_aritm%C3%A9tica) y la [mediana](https://es.wikipedia.org/wiki/Mediana). Para calcular el promedio previamente se descartan porciones en el extremo inferior y superior de la [distribución](https://es.wikipedia.org/wiki/Distribuci%C3%B3n_de_probabilidad) de los [datos](https://es.wikipedia.org/wiki/Dato). En [Python](https://python.org/) podemos utilizar la función `trim_mean` de [SciPy](https://docs.scipy.org/doc/scipy/reference/tutorial/stats.html)."
   ]
  },
  {
   "cell_type": "code",
   "execution_count": 13,
   "metadata": {
    "collapsed": false
   },
   "outputs": [
    {
     "data": {
      "text/plain": [
       "3.5298073394495413"
      ]
     },
     "execution_count": 13,
     "metadata": {},
     "output_type": "execute_result"
    }
   ],
   "source": [
    "# media truncada, recortando el 10 superior e inferior\n",
    "stats.trim_mean(faithful['eruptions'], .10)"
   ]
  },
  {
   "cell_type": "markdown",
   "metadata": {},
   "source": [
    "#### Moda\n",
    "\n",
    "Por último, la <a href=\"https://es.wikipedia.org/wiki/Moda_(estad%C3%ADstica)\">moda</a> es el valor que tiene mayor frecuencia absoluta. Son los picos que vemos en el [histograma](https://es.wikipedia.org/wiki/Histograma). Dependiendo de la la [distribución](https://es.wikipedia.org/wiki/Distribuci%C3%B3n_de_probabilidad) de los [datos](https://es.wikipedia.org/wiki/Dato) puede existir más de una, como en el caso de la variable `eruptions`. La calculamos con el método `mode`."
   ]
  },
  {
   "cell_type": "code",
   "execution_count": 14,
   "metadata": {
    "collapsed": false
   },
   "outputs": [
    {
     "data": {
      "text/plain": [
       "0    1.867\n",
       "1    4.500\n",
       "dtype: float64"
      ]
     },
     "execution_count": 14,
     "metadata": {},
     "output_type": "execute_result"
    }
   ],
   "source": [
    "# moda\n",
    "faithful['eruptions'].mode()"
   ]
  },
  {
   "cell_type": "markdown",
   "metadata": {},
   "source": [
    "### Medidas de dispersión\n",
    "\n",
    "Las [medidas de tendencia central](https://es.wikipedia.org/wiki/Medidas_de_tendencia_central) no son las únicas medidas de resumen [estadístico](https://relopezbriega.github.io/tag/estadistica.html) que podemos calcular; otras medidas también de gran importancia son las [medidas de dispersión](https://es.wikipedia.org/wiki/Medidas_de_dispersi%C3%B3n). Las [medidas de dispersión](https://es.wikipedia.org/wiki/Medidas_de_dispersi%C3%B3n), también llamadas medidas de variabilidad, muestran la variabilidad de una [distribución](https://es.wikipedia.org/wiki/Distribuci%C3%B3n_de_probabilidad), indicando por medio de un número si las diferentes puntuaciones de una variable están muy alejadas de la [media](https://es.wikipedia.org/wiki/Medidas_de_tendencia_central). Cuanto mayor sea ese valor, mayor será la variabilidad, y cuanto menor sea, más homogénea será a la [media](https://es.wikipedia.org/wiki/Medidas_de_tendencia_central). Así se sabe si todos los casos son parecidos o varían mucho entre ellos. Las principales [medidas de dispersión](https://es.wikipedia.org/wiki/Medidas_de_dispersi%C3%B3n) son:\n",
    "\n",
    "* La [varianza](https://es.wikipedia.org/wiki/Varianza)\n",
    "* El [desvío estándar](https://es.wikipedia.org/wiki/Desviaci%C3%B3n_t%C3%ADpica)\n",
    "* Los [cuartiles](https://es.wikipedia.org/wiki/Cuartil)\n",
    "* La [covarianza](https://es.wikipedia.org/wiki/Covarianza)\n",
    "* El [coeficiente de correlación](https://es.wikipedia.org/wiki/Coeficiente_de_correlaci%C3%B3n_de_Pearson)\n",
    "\n",
    "Analicemos cada uno de ellos:\n",
    "\n",
    "#### Varianza\n",
    "\n",
    "La [varianza](https://es.wikipedia.org/wiki/Varianza) intenta describir la dispersión de los [datos](https://es.wikipedia.org/wiki/Dato). Se define como la [esperanza](https://es.wikipedia.org/wiki/Esperanza_matem%C3%A1tica) del cuadrado de la desviación de dicha variable respecto a su [media](https://es.wikipedia.org/wiki/Medidas_de_tendencia_central). Una [varianza](https://es.wikipedia.org/wiki/Varianza) pequeña indica que los puntos de datos tienden a estar muy cerca de la [media](https://es.wikipedia.org/wiki/Medidas_de_tendencia_central) y por lo tanto el uno al otro, mientras que una [varianza](https://es.wikipedia.org/wiki/Varianza) alta indica que los puntos de datos están muy distribuidos alrededor de la [media](https://es.wikipedia.org/wiki/Medidas_de_tendencia_central) y la una de la otra. La podemos calcular con el método `var`."
   ]
  },
  {
   "cell_type": "code",
   "execution_count": 15,
   "metadata": {
    "collapsed": false
   },
   "outputs": [
    {
     "data": {
      "text/plain": [
       "1.3027283328494705"
      ]
     },
     "execution_count": 15,
     "metadata": {},
     "output_type": "execute_result"
    }
   ],
   "source": [
    "# varianza\n",
    "faithful['eruptions'].var()"
   ]
  },
  {
   "cell_type": "markdown",
   "metadata": {},
   "source": [
    "#### Desvío estándar\n",
    "\n",
    "El [desvío estándar](https://es.wikipedia.org/wiki/Desviaci%C3%B3n_t%C3%ADpica) o desviación típica es una medida que se utiliza para cuantificar la cantidad de variación o dispersión de un conjunto de valores de datos. Un [desvío estándar](https://es.wikipedia.org/wiki/Desviaci%C3%B3n_t%C3%ADpica) cerca de 0 indica que los puntos de datos tienden a estar muy cerca de la [media](https://es.wikipedia.org/wiki/Medidas_de_tendencia_central) del conjunto, mientras que un alto [desvío estándar](https://es.wikipedia.org/wiki/Desviaci%C3%B3n_t%C3%ADpica) indica que los puntos de datos se extienden a lo largo de un rango amplio de valores. Se calcula como la raíz cuadrada de la [varianza](https://es.wikipedia.org/wiki/Varianza) y con [Pandas](https://pandas.pydata.org/) lo podemos obtener con el método `std`."
   ]
  },
  {
   "cell_type": "code",
   "execution_count": 16,
   "metadata": {
    "collapsed": false
   },
   "outputs": [
    {
     "data": {
      "text/plain": [
       "1.1413712511052092"
      ]
     },
     "execution_count": 16,
     "metadata": {},
     "output_type": "execute_result"
    }
   ],
   "source": [
    "# desvio estándar\n",
    "faithful['eruptions'].std()"
   ]
  },
  {
   "cell_type": "markdown",
   "metadata": {},
   "source": [
    "#### Cuartiles\n",
    "\n",
    "Los [cuartiles](https://es.wikipedia.org/wiki/Cuartil) son los tres puntos que dividen el conjunto de datos en cuatro grupos iguales, cada grupo comprende un cuarto de los [datos](https://es.wikipedia.org/wiki/Dato).El (Q1) se define como el número medio entre el número más pequeño y la [mediana](https://es.wikipedia.org/wiki/Mediana) del [conjunto de datos](https://es.wikipedia.org/wiki/Conjunto_de_datos). El segundo cuartil (Q2) es la [mediana](https://es.wikipedia.org/wiki/Mediana) de los [datos](https://es.wikipedia.org/wiki/Dato). El tercer cuartil (Q3) es el valor medio entre la [mediana](https://es.wikipedia.org/wiki/Mediana) y el valor más alto del [conjunto de datos](https://es.wikipedia.org/wiki/Conjunto_de_datos). Para dividir nuestro [dataset](https://es.wikipedia.org/wiki/Conjunto_de_datos) en sus [cuartiles](https://es.wikipedia.org/wiki/Cuartil) utilizamos el método `quantile`."
   ]
  },
  {
   "cell_type": "code",
   "execution_count": 17,
   "metadata": {
    "collapsed": false
   },
   "outputs": [
    {
     "data": {
      "text/plain": [
       "0.25    2.16275\n",
       "0.50    4.00000\n",
       "0.75    4.45425\n",
       "dtype: float64"
      ]
     },
     "execution_count": 17,
     "metadata": {},
     "output_type": "execute_result"
    }
   ],
   "source": [
    "# cuartiles\n",
    "faithful['eruptions'].quantile([.25, .5, .75])"
   ]
  },
  {
   "cell_type": "markdown",
   "metadata": {},
   "source": [
    "Un gráfico relacionado a los [cuartiles](https://es.wikipedia.org/wiki/Cuartil) y describe varias características importantes al mismo tiempo, tales como la dispersión y simetría es el [diagrama de caja](https://es.wikipedia.org/wiki/Diagrama_de_caja). Para su realización se representan los tres [cuartiles](https://es.wikipedia.org/wiki/Cuartil) y los valores mínimo y máximo de los datos, sobre un rectángulo, alineado horizontal o verticalmente. Podemos utilizar la función `boxplot` de [Seaborn](https://stanford.edu/~mwaskom/software/seaborn/) para generarlo."
   ]
  },
  {
   "cell_type": "code",
   "execution_count": 18,
   "metadata": {
    "collapsed": false
   },
   "outputs": [
    {
     "data": {
      "image/png": "[encoded data removed]",
      "text/plain": [
       "<matplotlib.figure.Figure at 0x7ff83775b518>"
      ]
     },
     "metadata": {},
     "output_type": "display_data"
    }
   ],
   "source": [
    "# diagrama de cajas\n",
    "cajas=sns.boxplot(list(faithful['eruptions']))"
   ]
  },
  {
   "cell_type": "markdown",
   "metadata": {},
   "source": [
    "Hasta aquí hemos calculado [medidas de dispersión](https://es.wikipedia.org/wiki/Medidas_de_dispersi%C3%B3n) para una sola variable, pero nuestro [dataset](https://es.wikipedia.org/wiki/Conjunto_de_datos) tiene dos [variables cuantitativas](https://es.wikipedia.org/wiki/Cantidad); veamos como podemos calcular medidas combinadas para la dos variables.\n",
    "\n",
    "#### Covarianza\n",
    "\n",
    "La [covarianza](https://es.wikipedia.org/wiki/Covarianza) es el equivalente de la [varianza](https://es.wikipedia.org/wiki/Varianza) aplicado a una variable bidimensional. Es la [media aritmética](https://es.wikipedia.org/wiki/Media_aritm%C3%A9tica) de los productos de las desviaciones de cada una de las variables respecto a sus [medias](https://es.wikipedia.org/wiki/Medidas_de_tendencia_central).La covarianza indica el sentido de la [correlación](https://es.wikipedia.org/wiki/Correlaci%C3%B3n) entre las variables; Si es mayor que cero la correlación es directa, en caso de ser menor, la [correlación](https://es.wikipedia.org/wiki/Correlaci%C3%B3n) es inversa. La podemos calcular utilizando el método `cov`."
   ]
  },
  {
   "cell_type": "code",
   "execution_count": 19,
   "metadata": {
    "collapsed": false
   },
   "outputs": [
    {
     "data": {
      "text/html": [
       "<div style=\"max-height:1000px;max-width:1500px;overflow:auto;\">\n",
       "<table border=\"1\" class=\"dataframe\">\n",
       "  <thead>\n",
       "    <tr style=\"text-align: right;\">\n",
       "      <th></th>\n",
       "      <th>eruptions</th>\n",
       "      <th>waiting</th>\n",
       "    </tr>\n",
       "  </thead>\n",
       "  <tbody>\n",
       "    <tr>\n",
       "      <th>eruptions</th>\n",
       "      <td>1.302728</td>\n",
       "      <td>13.977808</td>\n",
       "    </tr>\n",
       "    <tr>\n",
       "      <th>waiting</th>\n",
       "      <td>13.977808</td>\n",
       "      <td>184.823312</td>\n",
       "    </tr>\n",
       "  </tbody>\n",
       "</table>\n",
       "</div>"
      ],
      "text/plain": [
       "           eruptions     waiting\n",
       "eruptions   1.302728   13.977808\n",
       "waiting    13.977808  184.823312"
      ]
     },
     "execution_count": 19,
     "metadata": {},
     "output_type": "execute_result"
    }
   ],
   "source": [
    "# covarianza\n",
    "faithful.cov()"
   ]
  },
  {
   "cell_type": "markdown",
   "metadata": {},
   "source": [
    "#### Correlación\n",
    "\n",
    "Por último, el [coeficiente de correlación](https://es.wikipedia.org/wiki/Coeficiente_de_correlaci%C3%B3n_de_Pearson) es una medida del grado de *dependencia lineal* entre dos variables. El [coeficiente de correlación](https://es.wikipedia.org/wiki/Coeficiente_de_correlaci%C3%B3n_de_Pearson) oscila entre -1 y 1. Un valor de 1 significa que una [ecuación lineal](https://es.wikipedia.org/wiki/Ecuaci%C3%B3n_de_primer_grado) describe la relación entre las dos variables a la perfección, con todos los puntos de datos cayendo sobre una línea recta de pendiente positiva. Un valor de -1 implica que todos los puntos de datos se encuentran en una línea con pendiente negativa. Un valor de 0 implica que no existe una correlación lineal entre las variables. Lo podemos calcular con el método `corr`."
   ]
  },
  {
   "cell_type": "code",
   "execution_count": 20,
   "metadata": {
    "collapsed": false
   },
   "outputs": [
    {
     "data": {
      "text/html": [
       "<div style=\"max-height:1000px;max-width:1500px;overflow:auto;\">\n",
       "<table border=\"1\" class=\"dataframe\">\n",
       "  <thead>\n",
       "    <tr style=\"text-align: right;\">\n",
       "      <th></th>\n",
       "      <th>eruptions</th>\n",
       "      <th>waiting</th>\n",
       "    </tr>\n",
       "  </thead>\n",
       "  <tbody>\n",
       "    <tr>\n",
       "      <th>eruptions</th>\n",
       "      <td>1.000000</td>\n",
       "      <td>0.900811</td>\n",
       "    </tr>\n",
       "    <tr>\n",
       "      <th>waiting</th>\n",
       "      <td>0.900811</td>\n",
       "      <td>1.000000</td>\n",
       "    </tr>\n",
       "  </tbody>\n",
       "</table>\n",
       "</div>"
      ],
      "text/plain": [
       "           eruptions   waiting\n",
       "eruptions   1.000000  0.900811\n",
       "waiting     0.900811  1.000000"
      ]
     },
     "execution_count": 20,
     "metadata": {},
     "output_type": "execute_result"
    }
   ],
   "source": [
    "# coeficiente de correlación\n",
    "faithful.corr()"
   ]
  },
  {
   "cell_type": "markdown",
   "metadata": {},
   "source": [
    "Como podemos ver las dos variables tienen una correlación bastante alta, lo que sugiere que están íntimamente relacionadas; a la misma conclusión habíamos llegado al observar el [diagrama de dispersión](https://es.wikipedia.org/wiki/Diagrama_de_dispersi%C3%B3n).\n",
    "\n",
    "### Resumen estadístico\n",
    "\n",
    "Hasta aquí hemos calculado tanto las [medidas de tendencia central](https://es.wikipedia.org/wiki/Medidas_de_tendencia_central) como las [medidas de dispersión](https://es.wikipedia.org/wiki/Medidas_de_dispersi%C3%B3n) una por una, pero ¿no sería más conveniente que con un simple comando podemos obtener un resumen [estadístico](https://relopezbriega.github.io/tag/estadistica.html) con las principales medidas? Es por esto que [Pandas](https://pandas.pydata.org/) nos ofrece el método `describe`, un comando para gobernarlos a todos!, el cual nos ofrece un resumen con las principales medidas [estadísticas](https://relopezbriega.github.io/tag/estadistica.html)."
   ]
  },
  {
   "cell_type": "code",
   "execution_count": 21,
   "metadata": {
    "collapsed": false
   },
   "outputs": [
    {
     "data": {
      "text/plain": [
       "count    272.000000\n",
       "mean       3.487783\n",
       "std        1.141371\n",
       "min        1.600000\n",
       "25%        2.162750\n",
       "50%        4.000000\n",
       "75%        4.454250\n",
       "max        5.100000\n",
       "Name: eruptions, dtype: float64"
      ]
     },
     "execution_count": 21,
     "metadata": {},
     "output_type": "execute_result"
    }
   ],
   "source": [
    "# resumen estadístico\n",
    "faithful['eruptions'].describe()"
   ]
  },
  {
   "cell_type": "markdown",
   "metadata": {},
   "source": [
    "Siguiendo la misma línea; [Seaborn](https://stanford.edu/~mwaskom/software/seaborn/) nos ofrece la función `pairplot` que nos proporciona un resumen gráfico con [histogramas](https://es.wikipedia.org/wiki/Histograma) y [diagramas de dispersión](https://es.wikipedia.org/wiki/Diagrama_de_dispersi%C3%B3n) de las variables de nuestro [dataset](https://es.wikipedia.org/wiki/Conjunto_de_datos)."
   ]
  },
  {
   "cell_type": "code",
   "execution_count": 22,
   "metadata": {
    "collapsed": false
   },
   "outputs": [
    {
     "data": {
      "image/png": "[encoded data removed]",
      "text/plain": [
       "<matplotlib.figure.Figure at 0x7ff8376db048>"
      ]
     },
     "metadata": {},
     "output_type": "display_data"
    }
   ],
   "source": [
    "par= sns.pairplot(faithful)"
   ]
  },
  {
   "cell_type": "markdown",
   "metadata": {},
   "source": [
    "Con esto concluye este artículo; ahora ya deberían estar en condiciones de poder analizar tanto [variables cuantitativas](https://es.wikipedia.org/wiki/Cantidad) como [variables categóricas](https://relopezbriega.github.io/blog/2016/02/29/analisis-de-datos-categoricos-con-python/). A practicar!\n",
    "\n",
    "Saludos!\n",
    "\n",
    "*Este post fue escrito utilizando Jupyter notebook. Pueden descargar este [notebook](https://github.com/relopezbriega/relopezbriega.github.io/blob/master/downloads/quantitativePython.ipynb) o ver su version estática en [nbviewer](https://nbviewer.ipython.org/github/relopezbriega/relopezbriega.github.io/blob/master/downloads/quantitativePython.ipynb).*"
   ]
  }
 ],
 "metadata": {
  "kernelspec": {
   "display_name": "Python 3",
   "language": "python",
   "name": "python3"
  },
  "language_info": {
   "codemirror_mode": {
    "name": "ipython",
    "version": 3
   },
   "file_extension": ".py",
   "mimetype": "text/x-python",
   "name": "python",
   "nbconvert_exporter": "python",
   "pygments_lexer": "ipython3",
   "version": "3.5.2"
  }
 },
 "nbformat": 4,
 "nbformat_minor": 0
}
