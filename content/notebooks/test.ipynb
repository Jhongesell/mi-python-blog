{
 "cells": [
  {
   "cell_type": "code",
   "execution_count": 1,
   "metadata": {
    "collapsed": false
   },
   "outputs": [
    {
     "data": {
      "text/plain": [
       "'Hello World!'"
      ]
     },
     "execution_count": 1,
     "metadata": {},
     "output_type": "execute_result"
    }
   ],
   "source": [
    "\"Hello World!\""
   ]
  },
  {
   "cell_type": "code",
   "execution_count": 2,
   "metadata": {
    "collapsed": true
   },
   "outputs": [],
   "source": [
    "lista = [\"Raul\", \"Ezequiel\"]"
   ]
  },
  {
   "cell_type": "code",
   "execution_count": 5,
   "metadata": {
    "collapsed": false
   },
   "outputs": [
    {
     "name": "stdout",
     "output_type": "stream",
     "text": [
      "hello  Raul\n",
      "hello  Ezequiel\n"
     ]
    }
   ],
   "source": [
    "for name in lista:\n",
    "    print(\"hello \", name)"
   ]
  },
  {
   "cell_type": "code",
   "execution_count": 1,
   "metadata": {
    "collapsed": true
   },
   "outputs": [],
   "source": [
    "class Switcher(object):\n",
    "    def numbers_to_methods_to_strings(self, argument):\n",
    "        \"\"\"Dispatch method\"\"\"\n",
    "        # prefix the method_name with 'number_' because method names\n",
    "        # cannot begin with an integer.\n",
    "        method_name = 'number_' + str(argument)\n",
    "        # Get the method from 'self'. Default to a lambda.\n",
    "        method = getattr(self, method_name, lambda: \"nothing\")\n",
    "        # Call the method as we return it\n",
    "        return method()\n",
    "\n",
    "    def number_0(self):\n",
    "        return \"zero\"\n",
    "\n",
    "    def number_1(self):\n",
    "        return \"one\"\n",
    "\n",
    "    def number_2(self):\n",
    "        return \"two\""
   ]
  },
  {
   "cell_type": "code",
   "execution_count": 2,
   "metadata": {
    "collapsed": true
   },
   "outputs": [],
   "source": [
    "switcher = Switcher()"
   ]
  },
  {
   "cell_type": "code",
   "execution_count": 7,
   "metadata": {
    "collapsed": false
   },
   "outputs": [
    {
     "data": {
      "text/plain": [
       "'zero'"
      ]
     },
     "execution_count": 7,
     "metadata": {},
     "output_type": "execute_result"
    }
   ],
   "source": [
    "switcher.numbers_to_methods_to_strings(0)"
   ]
  },
  {
   "cell_type": "code",
   "execution_count": 1,
   "metadata": {
    "collapsed": true
   },
   "outputs": [],
   "source": [
    "import numpy as np"
   ]
  },
  {
   "cell_type": "code",
   "execution_count": 2,
   "metadata": {
    "collapsed": true
   },
   "outputs": [],
   "source": [
    "neurons = np.random.random((10, 5))"
   ]
  },
  {
   "cell_type": "code",
   "execution_count": 3,
   "metadata": {
    "collapsed": true
   },
   "outputs": [],
   "source": [
    "patr = np.random.random((1, 5))"
   ]
  },
  {
   "cell_type": "code",
   "execution_count": 4,
   "metadata": {
    "collapsed": true
   },
   "outputs": [],
   "source": [
    "distances = np.linalg.norm(neurons - patr, axis=1)"
   ]
  },
  {
   "cell_type": "code",
   "execution_count": 5,
   "metadata": {
    "collapsed": true
   },
   "outputs": [],
   "source": [
    "closest = distances.argmin()"
   ]
  },
  {
   "cell_type": "code",
   "execution_count": 2,
   "metadata": {
    "collapsed": true
   },
   "outputs": [],
   "source": [
    "from sympy import *"
   ]
  },
  {
   "cell_type": "code",
   "execution_count": 4,
   "metadata": {
    "collapsed": true
   },
   "outputs": [],
   "source": [
    "init_printing()"
   ]
  },
  {
   "cell_type": "code",
   "execution_count": 5,
   "metadata": {
    "collapsed": false
   },
   "outputs": [
    {
     "data": {
      "image/png": "[encoded data removed]",
      "text/latex": [
       "$$\\int \\sqrt{\\frac{1}{x}}\\, dx$$"
      ],
      "text/plain": [
       "⌠           \n",
       "⎮     ___   \n",
       "⎮    ╱ 1    \n",
       "⎮   ╱  ─  dx\n",
       "⎮ ╲╱   x    \n",
       "⌡           "
      ]
     },
     "execution_count": 5,
     "metadata": {},
     "output_type": "execute_result"
    }
   ],
   "source": [
    "x, y, z = symbols('x y z')\n",
    "Integral(sqrt(1/x), x)"
   ]
  },
  {
   "cell_type": "code",
   "execution_count": 12,
   "metadata": {
    "collapsed": false
   },
   "outputs": [
    {
     "data": {
      "image/png": "[encoded data removed]",
      "text/latex": [
       "$$x^{3} + 3 x^{2} y + 3 x y^{2} + y^{3}$$"
      ],
      "text/plain": [
       " 3      2          2    3\n",
       "x  + 3⋅x ⋅y + 3⋅x⋅y  + y "
      ]
     },
     "execution_count": 12,
     "metadata": {},
     "output_type": "execute_result"
    }
   ],
   "source": [
    "expr =  x**3 + 3*x**2*y + 3*x*y**2 + y**3\n",
    "expr"
   ]
  },
  {
   "cell_type": "code",
   "execution_count": 15,
   "metadata": {
    "collapsed": false
   },
   "outputs": [
    {
     "data": {
      "image/png": "[encoded data removed]",
      "text/latex": [
       "$$\\left(x + y\\right)^{3}$$"
      ],
      "text/plain": [
       "       3\n",
       "(x + y) "
      ]
     },
     "execution_count": 15,
     "metadata": {},
     "output_type": "execute_result"
    }
   ],
   "source": [
    "factors = factor(expr)\n",
    "factors"
   ]
  },
  {
   "cell_type": "code",
   "execution_count": 16,
   "metadata": {
    "collapsed": false
   },
   "outputs": [
    {
     "data": {
      "image/png": "[encoded data removed]",
      "text/latex": [
       "$$x^{3} + 3 x^{2} y + 3 x y^{2} + y^{3}$$"
      ],
      "text/plain": [
       " 3      2          2    3\n",
       "x  + 3⋅x ⋅y + 3⋅x⋅y  + y "
      ]
     },
     "execution_count": 16,
     "metadata": {},
     "output_type": "execute_result"
    }
   ],
   "source": [
    "expand(factors)"
   ]
  },
  {
   "cell_type": "code",
   "execution_count": 22,
   "metadata": {
    "collapsed": false
   },
   "outputs": [
    {
     "data": {
      "image/png": "[encoded data removed]",
      "text/latex": [
       "$$\\frac{\\partial}{\\partial x}\\left(x^{3} + 3 x^{2} y + 3 x y^{2} + y^{3}\\right)$$"
      ],
      "text/plain": [
       "∂ ⎛ 3      2          2    3⎞\n",
       "──⎝x  + 3⋅x ⋅y + 3⋅x⋅y  + y ⎠\n",
       "∂x                           "
      ]
     },
     "execution_count": 22,
     "metadata": {},
     "output_type": "execute_result"
    }
   ],
   "source": [
    "derivada = Derivative(expr, x)\n",
    "derivada"
   ]
  },
  {
   "cell_type": "code",
   "execution_count": 23,
   "metadata": {
    "collapsed": false
   },
   "outputs": [
    {
     "data": {
      "image/png": "[encoded data removed]",
      "text/latex": [
       "$$3 x^{2} + 6 x y + 3 y^{2}$$"
      ],
      "text/plain": [
       "   2              2\n",
       "3⋅x  + 6⋅x⋅y + 3⋅y "
      ]
     },
     "execution_count": 23,
     "metadata": {},
     "output_type": "execute_result"
    }
   ],
   "source": [
    "derivada.doit()"
   ]
  },
  {
   "cell_type": "code",
   "execution_count": 27,
   "metadata": {
    "collapsed": false
   },
   "outputs": [
    {
     "data": {
      "image/png": "[encoded data removed]",
      "text/latex": [
       "$$\\int 3 x^{2} + 6 x y + 3 y^{2}\\, dx$$"
      ],
      "text/plain": [
       "⌠                         \n",
       "⎮ ⎛   2              2⎞   \n",
       "⎮ ⎝3⋅x  + 6⋅x⋅y + 3⋅y ⎠ dx\n",
       "⌡                         "
      ]
     },
     "execution_count": 27,
     "metadata": {},
     "output_type": "execute_result"
    }
   ],
   "source": [
    "integral = Integral(derivada.doit(), x)\n",
    "integral"
   ]
  },
  {
   "cell_type": "code",
   "execution_count": 28,
   "metadata": {
    "collapsed": false
   },
   "outputs": [
    {
     "data": {
      "image/png": "[encoded data removed]",
      "text/latex": [
       "$$x^{3} + 3 x^{2} y + 3 x y^{2}$$"
      ],
      "text/plain": [
       " 3      2          2\n",
       "x  + 3⋅x ⋅y + 3⋅x⋅y "
      ]
     },
     "execution_count": 28,
     "metadata": {},
     "output_type": "execute_result"
    }
   ],
   "source": [
    "integral.doit()"
   ]
  },
  {
   "cell_type": "code",
   "execution_count": 29,
   "metadata": {
    "collapsed": false
   },
   "outputs": [
    {
     "data": {
      "image/png": "[encoded data removed]",
      "text/latex": [
       "$$\\lim_{x \\to \\infty} \\frac{1}{x}$$"
      ],
      "text/plain": [
       "    1\n",
       "lim ─\n",
       "x─→∞x"
      ]
     },
     "execution_count": 29,
     "metadata": {},
     "output_type": "execute_result"
    }
   ],
   "source": [
    "x = Symbol('x')\n",
    "Limit(1/x, x, S.Infinity)"
   ]
  },
  {
   "cell_type": "code",
   "execution_count": 30,
   "metadata": {
    "collapsed": false
   },
   "outputs": [
    {
     "data": {
      "image/png": "[encoded data removed]",
      "text/latex": [
       "$$0$$"
      ],
      "text/plain": [
       "0"
      ]
     },
     "execution_count": 30,
     "metadata": {},
     "output_type": "execute_result"
    }
   ],
   "source": [
    "Limit(1/x, x, S.Infinity).doit()"
   ]
  },
  {
   "cell_type": "code",
   "execution_count": 32,
   "metadata": {
    "collapsed": false
   },
   "outputs": [
    {
     "data": {
      "image/png": "[encoded data removed]",
      "text/latex": [
       "$$\\lim_{x \\to 0^-} \\frac{1}{x}$$"
      ],
      "text/plain": [
       "     1\n",
       " lim ─\n",
       "x─→0⁻x"
      ]
     },
     "execution_count": 32,
     "metadata": {},
     "output_type": "execute_result"
    }
   ],
   "source": [
    "Limit(1/x, x, 0, dir='-')"
   ]
  },
  {
   "cell_type": "code",
   "execution_count": 1,
   "metadata": {
    "collapsed": false
   },
   "outputs": [
    {
     "name": "stdout",
     "output_type": "stream",
     "text": [
      "1681 == 1681 when x=41\n",
      "1764 == 1764 when x=42\n",
      "1849 == 1849 when x=43\n",
      "1936 == 1936 when x=44\n",
      "2025 == 2025 when x=45\n",
      "2116 == 2116 when x=46\n",
      "2209 == 2209 when x=47\n",
      "2304 == 2304 when x=48\n",
      "2401 == 2401 when x=49\n",
      "2500 == 2500 when x=50\n"
     ]
    }
   ],
   "source": [
    "for x in range(41, 51):\n",
    "    print('%d == %02d%02d when x=%d' % (x ** 2, x - 25, (50 - x) ** 2, x))"
   ]
  },
  {
   "cell_type": "code",
   "execution_count": 24,
   "metadata": {
    "collapsed": false
   },
   "outputs": [],
   "source": [
    "f = Function('f')\n",
    "F = Function('F')\n",
    "x, y, u= symbols('x y u')"
   ]
  },
  {
   "cell_type": "code",
   "execution_count": 5,
   "metadata": {
    "collapsed": false
   },
   "outputs": [
    {
     "data": {
      "image/png": "[encoded data removed]",
      "text/latex": [
       "$$5 f{\\left (x,y \\right )} - e^{x + 3 y} - 2 \\frac{\\partial}{\\partial x} f{\\left (x,y \\right )} + 4 \\frac{\\partial}{\\partial y} f{\\left (x,y \\right )}$$"
      ],
      "text/plain": [
       "             x + 3⋅y     ∂               ∂          \n",
       "5⋅f(x, y) - ℯ        - 2⋅──(f(x, y)) + 4⋅──(f(x, y))\n",
       "                         ∂x              ∂y         "
      ]
     },
     "execution_count": 5,
     "metadata": {},
     "output_type": "execute_result"
    }
   ],
   "source": [
    "eq = -2*f(x,y).diff(x) + 4*f(x,y).diff(y) + 5*f(x,y) - exp(x + 3*y)\n",
    "eq"
   ]
  },
  {
   "cell_type": "code",
   "execution_count": 6,
   "metadata": {
    "collapsed": false
   },
   "outputs": [
    {
     "data": {
      "image/png": "[encoded data removed]",
      "text/latex": [
       "$$f{\\left (x,y \\right )} = \\left(F{\\left (4 x + 2 y \\right )} + \\frac{1}{15} e^{\\frac{x}{2} + 4 y}\\right) e^{\\frac{x}{2} - y}$$"
      ],
      "text/plain": [
       "          ⎛                x      ⎞       \n",
       "          ⎜                ─ + 4⋅y⎟  x    \n",
       "          ⎜                2      ⎟  ─ - y\n",
       "          ⎜               ℯ       ⎟  2    \n",
       "f(x, y) = ⎜F(4⋅x + 2⋅y) + ────────⎟⋅ℯ     \n",
       "          ⎝                  15   ⎠       "
      ]
     },
     "execution_count": 6,
     "metadata": {},
     "output_type": "execute_result"
    }
   ],
   "source": [
    "pdsolve(eq)"
   ]
  },
  {
   "cell_type": "code",
   "execution_count": 7,
   "metadata": {
    "collapsed": false
   },
   "outputs": [
    {
     "data": {
      "text/plain": [
       "('1st_linear_constant_coeff', '1st_linear_constant_coeff_Integral')"
      ]
     },
     "execution_count": 7,
     "metadata": {},
     "output_type": "execute_result"
    }
   ],
   "source": [
    "classify_pde(eq)"
   ]
  },
  {
   "cell_type": "code",
   "execution_count": 37,
   "metadata": {
    "collapsed": false
   },
   "outputs": [
    {
     "data": {
      "image/png": "[encoded data removed]",
      "text/latex": [
       "$$y f{\\left (x,y \\right )} - f{\\left (x,y \\right )} + e^{2 x} \\frac{\\partial}{\\partial y} f{\\left (x,y \\right )}$$"
      ],
      "text/plain": [
       "                       2⋅x ∂          \n",
       "y⋅f(x, y) - f(x, y) + ℯ   ⋅──(f(x, y))\n",
       "                           ∂y         "
      ]
     },
     "execution_count": 37,
     "metadata": {},
     "output_type": "execute_result"
    }
   ],
   "source": [
    "u = f(x, y)\n",
    "ux = u.diff(x)\n",
    "uy = u.diff(y)\n",
    "eq = exp(2*x)*(u.diff(y)) + y*u - u\n",
    "eq"
   ]
  },
  {
   "cell_type": "code",
   "execution_count": 15,
   "metadata": {
    "collapsed": false
   },
   "outputs": [
    {
     "data": {
      "image/png": "[encoded data removed]",
      "text/latex": [
       "$$f{\\left (x,y \\right )} = e^{\\frac{1}{2} \\left(- y^{2} + 2 y + 2 F{\\left (x \\right )}\\right) e^{- 2 x}}$$"
      ],
      "text/plain": [
       "           ⎛   2               ⎞  -2⋅x\n",
       "           ⎝- y  + 2⋅y + 2⋅F(x)⎠⋅ℯ    \n",
       "           ───────────────────────────\n",
       "                        2             \n",
       "f(x, y) = ℯ                           "
      ]
     },
     "execution_count": 15,
     "metadata": {},
     "output_type": "execute_result"
    }
   ],
   "source": [
    "sol = pdsolve(eq)\n",
    "sol"
   ]
  },
  {
   "cell_type": "code",
   "execution_count": 16,
   "metadata": {
    "collapsed": false
   },
   "outputs": [
    {
     "data": {
      "image/png": "[encoded data removed]",
      "text/latex": [
       "$$1 + \\frac{2 \\frac{\\partial}{\\partial x} f{\\left (x,y \\right )}}{f{\\left (x,y \\right )}} + \\frac{3 \\frac{\\partial}{\\partial y} f{\\left (x,y \\right )}}{f{\\left (x,y \\right )}} = 0$$"
      ],
      "text/plain": [
       "      ∂               ∂              \n",
       "    2⋅──(f(x, y))   3⋅──(f(x, y))    \n",
       "      ∂x              ∂y             \n",
       "1 + ───────────── + ───────────── = 0\n",
       "       f(x, y)         f(x, y)       "
      ]
     },
     "execution_count": 16,
     "metadata": {},
     "output_type": "execute_result"
    }
   ],
   "source": [
    "eq = Eq(1 + (2*(ux/u)) + (3*(uy/u)))\n",
    "eq"
   ]
  },
  {
   "cell_type": "code",
   "execution_count": 18,
   "metadata": {
    "collapsed": false
   },
   "outputs": [
    {
     "data": {
      "image/png": "[encoded data removed]",
      "text/latex": [
       "$$f{\\left (x,y \\right )} = F{\\left (3 x - 2 y \\right )} e^{- \\frac{2 x}{13} - \\frac{3 y}{13}}$$"
      ],
      "text/plain": [
       "                          2⋅x   3⋅y\n",
       "                        - ─── - ───\n",
       "                           13    13\n",
       "f(x, y) = F(3⋅x - 2⋅y)⋅ℯ           "
      ]
     },
     "execution_count": 18,
     "metadata": {},
     "output_type": "execute_result"
    }
   ],
   "source": [
    "sol = pdsolve(eq)\n",
    "sol"
   ]
  },
  {
   "cell_type": "code",
   "execution_count": 20,
   "metadata": {
    "collapsed": false
   },
   "outputs": [
    {
     "data": {
      "image/png": "[encoded data removed]",
      "text/latex": [
       "$$\\left(3 x - 2 y\\right) e^{- \\frac{2 x}{13} - \\frac{3 y}{13}}$$"
      ],
      "text/plain": [
       "               2⋅x   3⋅y\n",
       "             - ─── - ───\n",
       "                13    13\n",
       "(3⋅x - 2⋅y)⋅ℯ           "
      ]
     },
     "execution_count": 20,
     "metadata": {},
     "output_type": "execute_result"
    }
   ],
   "source": [
    "eq = (3*x - 2*y)*exp(-2*x/13 - 3*y/13)\n",
    "eq"
   ]
  },
  {
   "cell_type": "code",
   "execution_count": 21,
   "metadata": {
    "collapsed": false
   },
   "outputs": [
    {
     "data": {
      "image/png": "[encoded data removed]",
      "text/latex": [
       "$$x \\frac{\\partial}{\\partial x} f{\\left (x,y \\right )} + y^{2} f{\\left (x,y \\right )} - y^{2} - y \\frac{\\partial}{\\partial y} f{\\left (x,y \\right )}$$"
      ],
      "text/plain": [
       "  ∂              2            2     ∂          \n",
       "x⋅──(f(x, y)) + y ⋅f(x, y) - y  - y⋅──(f(x, y))\n",
       "  ∂x                                ∂y         "
      ]
     },
     "execution_count": 21,
     "metadata": {},
     "output_type": "execute_result"
    }
   ],
   "source": [
    "eq = x*(u.diff(x)) - y*(u.diff(y)) + y**2*u - y**2\n",
    "eq"
   ]
  },
  {
   "cell_type": "code",
   "execution_count": 34,
   "metadata": {
    "collapsed": false
   },
   "outputs": [
    {
     "data": {
      "image/png": "[encoded data removed]",
      "text/latex": [
       "$$f{\\left (x,y \\right )} = F{\\left (x y \\right )} e^{\\frac{y^{2}}{2}} + 1$$"
      ],
      "text/plain": [
       "                   2    \n",
       "                  y     \n",
       "                  ──    \n",
       "                  2     \n",
       "f(x, y) = F(x⋅y)⋅ℯ   + 1"
      ]
     },
     "execution_count": 34,
     "metadata": {},
     "output_type": "execute_result"
    }
   ],
   "source": [
    "sol = pdsolve(eq)\n",
    "sol"
   ]
  },
  {
   "cell_type": "code",
   "execution_count": 32,
   "metadata": {
    "collapsed": false
   },
   "outputs": [
    {
     "data": {
      "image/png": "[encoded data removed]",
      "text/latex": [
       "$$f{\\left (x,y \\right )} = F{\\left (x y \\right )} e^{\\frac{y^{2}}{2}} + 1$$"
      ],
      "text/plain": [
       "                   2    \n",
       "                  y     \n",
       "                  ──    \n",
       "                  2     \n",
       "f(x, y) = F(x⋅y)⋅ℯ   + 1"
      ]
     },
     "execution_count": 32,
     "metadata": {},
     "output_type": "execute_result"
    }
   ],
   "source": [
    " Eq(f(x, y), F(x*y)*exp(y**2/2) + 1)"
   ]
  },
  {
   "cell_type": "code",
   "execution_count": 35,
   "metadata": {
    "collapsed": false
   },
   "outputs": [
    {
     "data": {
      "text/plain": [
       "True"
      ]
     },
     "execution_count": 35,
     "metadata": {},
     "output_type": "execute_result"
    }
   ],
   "source": [
    "sol ==  Eq(f(x, y), F(x*y)*exp(y**2/2) + 1)"
   ]
  },
  {
   "cell_type": "code",
   "execution_count": 38,
   "metadata": {
    "collapsed": false
   },
   "outputs": [
    {
     "data": {
      "image/png": "[encoded data removed]",
      "text/latex": [
       "$$x^{2} y f{\\left (x,y \\right )} + y \\frac{\\partial}{\\partial x} f{\\left (x,y \\right )} + \\frac{\\partial}{\\partial y} f{\\left (x,y \\right )}$$"
      ],
      "text/plain": [
       " 2               ∂             ∂          \n",
       "x ⋅y⋅f(x, y) + y⋅──(f(x, y)) + ──(f(x, y))\n",
       "                 ∂x            ∂y         "
      ]
     },
     "execution_count": 38,
     "metadata": {},
     "output_type": "execute_result"
    }
   ],
   "source": [
    "eq = y*x**2*u + y*u.diff(x) + u.diff(y)\n",
    "eq"
   ]
  },
  {
   "cell_type": "code",
   "execution_count": 40,
   "metadata": {
    "collapsed": false
   },
   "outputs": [
    {
     "data": {
      "image/png": "[encoded data removed]",
      "text/latex": [
       "$$f{\\left (x,y \\right )} = F{\\left (- 2 x + y^{2} \\right )} e^{- \\frac{x^{3}}{3}}$$"
      ],
      "text/plain": [
       "                          3 \n",
       "                        -x  \n",
       "                        ────\n",
       "           ⎛        2⎞   3  \n",
       "f(x, y) = F⎝-2⋅x + y ⎠⋅ℯ    "
      ]
     },
     "execution_count": 40,
     "metadata": {},
     "output_type": "execute_result"
    }
   ],
   "source": [
    "sol = pdsolve(eq)\n",
    "sol"
   ]
  },
  {
   "cell_type": "code",
   "execution_count": 41,
   "metadata": {
    "collapsed": false
   },
   "outputs": [
    {
     "data": {
      "image/png": "[encoded data removed]",
      "text/latex": [
       "$$f{\\left (x,y \\right )} = F{\\left (- 2 x + y^{2} \\right )} e^{- \\frac{x^{3}}{3}}$$"
      ],
      "text/plain": [
       "                          3 \n",
       "                        -x  \n",
       "                        ────\n",
       "           ⎛        2⎞   3  \n",
       "f(x, y) = F⎝-2⋅x + y ⎠⋅ℯ    "
      ]
     },
     "execution_count": 41,
     "metadata": {},
     "output_type": "execute_result"
    }
   ],
   "source": [
    "Eq(f(x, y), F(-2*x + y**2)*exp(-x**3/3))"
   ]
  },
  {
   "cell_type": "code",
   "execution_count": 43,
   "metadata": {
    "collapsed": false
   },
   "outputs": [
    {
     "data": {
      "image/png": "[encoded data removed]",
      "text/latex": [
       "$$2 y$$"
      ],
      "text/plain": [
       "2⋅y"
      ]
     },
     "execution_count": 43,
     "metadata": {},
     "output_type": "execute_result"
    }
   ],
   "source": [
    "f = -2*x + y**2\n",
    "diff(f, y)"
   ]
  },
  {
   "cell_type": "code",
   "execution_count": null,
   "metadata": {
    "collapsed": true
   },
   "outputs": [],
   "source": []
  }
 ],
 "metadata": {
  "kernelspec": {
   "display_name": "Python 3",
   "language": "python",
   "name": "python3"
  },
  "language_info": {
   "codemirror_mode": {
    "name": "ipython",
    "version": 3
   },
   "file_extension": ".py",
   "mimetype": "text/x-python",
   "name": "python",
   "nbconvert_exporter": "python",
   "pygments_lexer": "ipython3",
   "version": "3.4.3"
  }
 },
 "nbformat": 4,
 "nbformat_minor": 0
}
